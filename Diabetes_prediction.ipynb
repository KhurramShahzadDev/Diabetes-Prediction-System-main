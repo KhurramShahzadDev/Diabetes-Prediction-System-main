{
  "cells": [
    {
      "cell_type": "markdown",
      "metadata": {
        "colab_type": "text",
        "id": "view-in-github"
      },
      "source": [
        "<a href=\"https://colab.research.google.com/github/KhurramShahzadDev/Diabetes-Prediction-System/blob/main/Diabetes_prediction.ipynb\" target=\"_parent\"><img src=\"https://colab.research.google.com/assets/colab-badge.svg\" alt=\"Open In Colab\"/></a>"
      ]
    },
    {
      "cell_type": "code",
      "execution_count": 92,
      "metadata": {
        "colab": {
          "base_uri": "https://localhost:8080/"
        },
        "id": "GHQT1I3iRPBk",
        "outputId": "f6ff6af4-bcf3-4623-8f52-67dbda4a66b4"
      },
      "outputs": [
        {
          "name": "stdout",
          "output_type": "stream",
          "text": [
            "['.ipynb_checkpoints', 'Diabetes prediction.ipynb', 'diabetes.csv', 'Diabetes_prediction.ipynb', 'README.md', 'Untitled.ipynb']\n"
          ]
        }
      ],
      "source": [
        "# Just load the most important libraries which will be helpful to work\n",
        "import numpy as np\n",
        "import pandas as pd\n",
        "import seaborn as sns\n",
        "import matplotlib.pyplot as plt\n",
        "%matplotlib inline\n",
        "sns.set_style(\"whitegrid\")\n",
        "import warnings\n",
        "plt.style.use(\"fivethirtyeight\")\n",
        "import warnings\n",
        "import os\n",
        "\n",
        "print(os.listdir())\n",
        "# import import_ipynb"
      ]
    },
    {
      "cell_type": "code",
      "execution_count": null,
      "metadata": {
        "id": "8XmGOz0jRPBo"
      },
      "outputs": [],
      "source": []
    },
    {
      "cell_type": "code",
      "execution_count": 93,
      "metadata": {
        "colab": {
          "base_uri": "https://localhost:8080/"
        },
        "id": "_4iEW9IqRPBp",
        "outputId": "369d02f3-62fd-41e5-ab08-8210bf88d9a2"
      },
      "outputs": [
        {
          "name": "stdout",
          "output_type": "stream",
          "text": [
            "     Pregnancies  Glucose  BloodPressure  SkinThickness  Insulin   BMI  \\\n",
            "0              6      148             72             35        0  33.6   \n",
            "1              1       85             66             29        0  26.6   \n",
            "2              8      183             64              0        0  23.3   \n",
            "3              1       89             66             23       94  28.1   \n",
            "4              0      137             40             35      168  43.1   \n",
            "..           ...      ...            ...            ...      ...   ...   \n",
            "763           10      101             76             48      180  32.9   \n",
            "764            2      122             70             27        0  36.8   \n",
            "765            5      121             72             23      112  26.2   \n",
            "766            1      126             60              0        0  30.1   \n",
            "767            1       93             70             31        0  30.4   \n",
            "\n",
            "     DiabetesPedigreeFunction  Age  Outcome  \n",
            "0                       0.627   50        1  \n",
            "1                       0.351   31        0  \n",
            "2                       0.672   32        1  \n",
            "3                       0.167   21        0  \n",
            "4                       2.288   33        1  \n",
            "..                        ...  ...      ...  \n",
            "763                     0.171   63        0  \n",
            "764                     0.340   27        0  \n",
            "765                     0.245   30        0  \n",
            "766                     0.349   47        1  \n",
            "767                     0.315   23        0  \n",
            "\n",
            "[768 rows x 9 columns]\n"
          ]
        }
      ],
      "source": [
        "# now load the dataset\n",
        "df=pd.read_csv('diabetes.csv')\n",
        "print(df)\n",
        "\n",
        "# the dataset loaded"
      ]
    },
    {
      "cell_type": "markdown",
      "metadata": {
        "id": "b0tpjWLDRPBr"
      },
      "source": [
        "exploaration of the complete dataset"
      ]
    },
    {
      "cell_type": "code",
      "execution_count": 94,
      "metadata": {
        "colab": {
          "base_uri": "https://localhost:8080/"
        },
        "id": "z__i7gZoRPBu",
        "outputId": "173b5d41-13c4-4549-bc6f-4febae58e31b"
      },
      "outputs": [
        {
          "data": {
            "text/plain": [
              "(768, 9)"
            ]
          },
          "execution_count": 94,
          "metadata": {},
          "output_type": "execute_result"
        }
      ],
      "source": [
        "# shape fo the dataset\n",
        "df.shape"
      ]
    },
    {
      "cell_type": "code",
      "execution_count": 95,
      "metadata": {
        "colab": {
          "base_uri": "https://localhost:8080/"
        },
        "id": "Ud2ku7HIRPBu",
        "outputId": "4bb671f3-8bf1-4a96-8e88-68e2f6fdd951"
      },
      "outputs": [
        {
          "data": {
            "text/plain": [
              "Index(['Pregnancies', 'Glucose', 'BloodPressure', 'SkinThickness', 'Insulin',\n",
              "       'BMI', 'DiabetesPedigreeFunction', 'Age', 'Outcome'],\n",
              "      dtype='object')"
            ]
          },
          "execution_count": 95,
          "metadata": {},
          "output_type": "execute_result"
        }
      ],
      "source": [
        "# features\n",
        "df.columns"
      ]
    },
    {
      "cell_type": "code",
      "execution_count": 96,
      "metadata": {
        "colab": {
          "base_uri": "https://localhost:8080/",
          "height": 226
        },
        "id": "QHlWhUjRRPBv",
        "outputId": "1e8fa497-53e5-4d81-f170-0c50438d9ac7"
      },
      "outputs": [
        {
          "data": {
            "text/html": [
              "<div>\n",
              "<style scoped>\n",
              "    .dataframe tbody tr th:only-of-type {\n",
              "        vertical-align: middle;\n",
              "    }\n",
              "\n",
              "    .dataframe tbody tr th {\n",
              "        vertical-align: top;\n",
              "    }\n",
              "\n",
              "    .dataframe thead th {\n",
              "        text-align: right;\n",
              "    }\n",
              "</style>\n",
              "<table border=\"1\" class=\"dataframe\">\n",
              "  <thead>\n",
              "    <tr style=\"text-align: right;\">\n",
              "      <th></th>\n",
              "      <th>Pregnancies</th>\n",
              "      <th>Glucose</th>\n",
              "      <th>BloodPressure</th>\n",
              "      <th>SkinThickness</th>\n",
              "      <th>Insulin</th>\n",
              "      <th>BMI</th>\n",
              "      <th>DiabetesPedigreeFunction</th>\n",
              "      <th>Age</th>\n",
              "      <th>Outcome</th>\n",
              "    </tr>\n",
              "  </thead>\n",
              "  <tbody>\n",
              "    <tr>\n",
              "      <th>0</th>\n",
              "      <td>6</td>\n",
              "      <td>148</td>\n",
              "      <td>72</td>\n",
              "      <td>35</td>\n",
              "      <td>0</td>\n",
              "      <td>33.6</td>\n",
              "      <td>0.627</td>\n",
              "      <td>50</td>\n",
              "      <td>1</td>\n",
              "    </tr>\n",
              "    <tr>\n",
              "      <th>1</th>\n",
              "      <td>1</td>\n",
              "      <td>85</td>\n",
              "      <td>66</td>\n",
              "      <td>29</td>\n",
              "      <td>0</td>\n",
              "      <td>26.6</td>\n",
              "      <td>0.351</td>\n",
              "      <td>31</td>\n",
              "      <td>0</td>\n",
              "    </tr>\n",
              "    <tr>\n",
              "      <th>2</th>\n",
              "      <td>8</td>\n",
              "      <td>183</td>\n",
              "      <td>64</td>\n",
              "      <td>0</td>\n",
              "      <td>0</td>\n",
              "      <td>23.3</td>\n",
              "      <td>0.672</td>\n",
              "      <td>32</td>\n",
              "      <td>1</td>\n",
              "    </tr>\n",
              "    <tr>\n",
              "      <th>3</th>\n",
              "      <td>1</td>\n",
              "      <td>89</td>\n",
              "      <td>66</td>\n",
              "      <td>23</td>\n",
              "      <td>94</td>\n",
              "      <td>28.1</td>\n",
              "      <td>0.167</td>\n",
              "      <td>21</td>\n",
              "      <td>0</td>\n",
              "    </tr>\n",
              "    <tr>\n",
              "      <th>4</th>\n",
              "      <td>0</td>\n",
              "      <td>137</td>\n",
              "      <td>40</td>\n",
              "      <td>35</td>\n",
              "      <td>168</td>\n",
              "      <td>43.1</td>\n",
              "      <td>2.288</td>\n",
              "      <td>33</td>\n",
              "      <td>1</td>\n",
              "    </tr>\n",
              "  </tbody>\n",
              "</table>\n",
              "</div>"
            ],
            "text/plain": [
              "   Pregnancies  Glucose  BloodPressure  SkinThickness  Insulin   BMI  \\\n",
              "0            6      148             72             35        0  33.6   \n",
              "1            1       85             66             29        0  26.6   \n",
              "2            8      183             64              0        0  23.3   \n",
              "3            1       89             66             23       94  28.1   \n",
              "4            0      137             40             35      168  43.1   \n",
              "\n",
              "   DiabetesPedigreeFunction  Age  Outcome  \n",
              "0                     0.627   50        1  \n",
              "1                     0.351   31        0  \n",
              "2                     0.672   32        1  \n",
              "3                     0.167   21        0  \n",
              "4                     2.288   33        1  "
            ]
          },
          "execution_count": 96,
          "metadata": {},
          "output_type": "execute_result"
        }
      ],
      "source": [
        "# preview of dataset for understanding\n",
        "df.head ()\n",
        "# head shows up 5 values, you can check upto your wishlist, just add head(0), and number in 0 and u will get that values"
      ]
    },
    {
      "cell_type": "code",
      "execution_count": 97,
      "metadata": {
        "colab": {
          "base_uri": "https://localhost:8080/",
          "height": 226
        },
        "id": "bvwCcW7rRPBw",
        "outputId": "734c95e5-a8cf-4198-f043-706ecb734756"
      },
      "outputs": [
        {
          "data": {
            "text/html": [
              "<div>\n",
              "<style scoped>\n",
              "    .dataframe tbody tr th:only-of-type {\n",
              "        vertical-align: middle;\n",
              "    }\n",
              "\n",
              "    .dataframe tbody tr th {\n",
              "        vertical-align: top;\n",
              "    }\n",
              "\n",
              "    .dataframe thead th {\n",
              "        text-align: right;\n",
              "    }\n",
              "</style>\n",
              "<table border=\"1\" class=\"dataframe\">\n",
              "  <thead>\n",
              "    <tr style=\"text-align: right;\">\n",
              "      <th></th>\n",
              "      <th>Pregnancies</th>\n",
              "      <th>Glucose</th>\n",
              "      <th>BloodPressure</th>\n",
              "      <th>SkinThickness</th>\n",
              "      <th>Insulin</th>\n",
              "      <th>BMI</th>\n",
              "      <th>DiabetesPedigreeFunction</th>\n",
              "      <th>Age</th>\n",
              "      <th>Outcome</th>\n",
              "    </tr>\n",
              "  </thead>\n",
              "  <tbody>\n",
              "    <tr>\n",
              "      <th>413</th>\n",
              "      <td>1</td>\n",
              "      <td>143</td>\n",
              "      <td>74</td>\n",
              "      <td>22</td>\n",
              "      <td>61</td>\n",
              "      <td>26.2</td>\n",
              "      <td>0.256</td>\n",
              "      <td>21</td>\n",
              "      <td>0</td>\n",
              "    </tr>\n",
              "    <tr>\n",
              "      <th>680</th>\n",
              "      <td>2</td>\n",
              "      <td>56</td>\n",
              "      <td>56</td>\n",
              "      <td>28</td>\n",
              "      <td>45</td>\n",
              "      <td>24.2</td>\n",
              "      <td>0.332</td>\n",
              "      <td>22</td>\n",
              "      <td>0</td>\n",
              "    </tr>\n",
              "    <tr>\n",
              "      <th>88</th>\n",
              "      <td>15</td>\n",
              "      <td>136</td>\n",
              "      <td>70</td>\n",
              "      <td>32</td>\n",
              "      <td>110</td>\n",
              "      <td>37.1</td>\n",
              "      <td>0.153</td>\n",
              "      <td>43</td>\n",
              "      <td>1</td>\n",
              "    </tr>\n",
              "    <tr>\n",
              "      <th>253</th>\n",
              "      <td>0</td>\n",
              "      <td>86</td>\n",
              "      <td>68</td>\n",
              "      <td>32</td>\n",
              "      <td>0</td>\n",
              "      <td>35.8</td>\n",
              "      <td>0.238</td>\n",
              "      <td>25</td>\n",
              "      <td>0</td>\n",
              "    </tr>\n",
              "    <tr>\n",
              "      <th>196</th>\n",
              "      <td>1</td>\n",
              "      <td>105</td>\n",
              "      <td>58</td>\n",
              "      <td>0</td>\n",
              "      <td>0</td>\n",
              "      <td>24.3</td>\n",
              "      <td>0.187</td>\n",
              "      <td>21</td>\n",
              "      <td>0</td>\n",
              "    </tr>\n",
              "  </tbody>\n",
              "</table>\n",
              "</div>"
            ],
            "text/plain": [
              "     Pregnancies  Glucose  BloodPressure  SkinThickness  Insulin   BMI  \\\n",
              "413            1      143             74             22       61  26.2   \n",
              "680            2       56             56             28       45  24.2   \n",
              "88            15      136             70             32      110  37.1   \n",
              "253            0       86             68             32        0  35.8   \n",
              "196            1      105             58              0        0  24.3   \n",
              "\n",
              "     DiabetesPedigreeFunction  Age  Outcome  \n",
              "413                     0.256   21        0  \n",
              "680                     0.332   22        0  \n",
              "88                      0.153   43        1  \n",
              "253                     0.238   25        0  \n",
              "196                     0.187   21        0  "
            ]
          },
          "execution_count": 97,
          "metadata": {},
          "output_type": "execute_result"
        }
      ],
      "source": [
        "# samples , can see upto ur need\n",
        "df.sample(5)"
      ]
    },
    {
      "cell_type": "code",
      "execution_count": 98,
      "metadata": {
        "colab": {
          "base_uri": "https://localhost:8080/"
        },
        "id": "wS9_w6GqRPBx",
        "outputId": "7cf7a6de-c3fc-4f12-8e4b-77577fee2d88"
      },
      "outputs": [
        {
          "name": "stdout",
          "output_type": "stream",
          "text": [
            "<class 'pandas.core.frame.DataFrame'>\n",
            "RangeIndex: 768 entries, 0 to 767\n",
            "Data columns (total 9 columns):\n",
            " #   Column                    Non-Null Count  Dtype  \n",
            "---  ------                    --------------  -----  \n",
            " 0   Pregnancies               768 non-null    int64  \n",
            " 1   Glucose                   768 non-null    int64  \n",
            " 2   BloodPressure             768 non-null    int64  \n",
            " 3   SkinThickness             768 non-null    int64  \n",
            " 4   Insulin                   768 non-null    int64  \n",
            " 5   BMI                       768 non-null    float64\n",
            " 6   DiabetesPedigreeFunction  768 non-null    float64\n",
            " 7   Age                       768 non-null    int64  \n",
            " 8   Outcome                   768 non-null    int64  \n",
            "dtypes: float64(2), int64(7)\n",
            "memory usage: 54.1 KB\n"
          ]
        }
      ],
      "source": [
        "df.info()"
      ]
    },
    {
      "cell_type": "code",
      "execution_count": 99,
      "metadata": {
        "colab": {
          "base_uri": "https://localhost:8080/"
        },
        "id": "Ns9ulZOtRPBy",
        "outputId": "ae9e8b9f-38b6-4b3f-897c-7a5e325914a9"
      },
      "outputs": [
        {
          "data": {
            "text/plain": [
              "Pregnancies                 0\n",
              "Glucose                     0\n",
              "BloodPressure               0\n",
              "SkinThickness               0\n",
              "Insulin                     0\n",
              "BMI                         0\n",
              "DiabetesPedigreeFunction    0\n",
              "Age                         0\n",
              "Outcome                     0\n",
              "dtype: int64"
            ]
          },
          "execution_count": 99,
          "metadata": {},
          "output_type": "execute_result"
        }
      ],
      "source": [
        "df.isnull().sum()"
      ]
    },
    {
      "cell_type": "code",
      "execution_count": 100,
      "metadata": {
        "colab": {
          "base_uri": "https://localhost:8080/",
          "height": 320
        },
        "id": "qqQC8gSfRPBz",
        "outputId": "52a61507-9897-40c8-a03d-bd06b795f25f"
      },
      "outputs": [
        {
          "data": {
            "text/html": [
              "<div>\n",
              "<style scoped>\n",
              "    .dataframe tbody tr th:only-of-type {\n",
              "        vertical-align: middle;\n",
              "    }\n",
              "\n",
              "    .dataframe tbody tr th {\n",
              "        vertical-align: top;\n",
              "    }\n",
              "\n",
              "    .dataframe thead th {\n",
              "        text-align: right;\n",
              "    }\n",
              "</style>\n",
              "<table border=\"1\" class=\"dataframe\">\n",
              "  <thead>\n",
              "    <tr style=\"text-align: right;\">\n",
              "      <th></th>\n",
              "      <th>Pregnancies</th>\n",
              "      <th>Glucose</th>\n",
              "      <th>BloodPressure</th>\n",
              "      <th>SkinThickness</th>\n",
              "      <th>Insulin</th>\n",
              "      <th>BMI</th>\n",
              "      <th>DiabetesPedigreeFunction</th>\n",
              "      <th>Age</th>\n",
              "      <th>Outcome</th>\n",
              "    </tr>\n",
              "  </thead>\n",
              "  <tbody>\n",
              "    <tr>\n",
              "      <th>count</th>\n",
              "      <td>768.000000</td>\n",
              "      <td>768.000000</td>\n",
              "      <td>768.000000</td>\n",
              "      <td>768.000000</td>\n",
              "      <td>768.000000</td>\n",
              "      <td>768.000000</td>\n",
              "      <td>768.000000</td>\n",
              "      <td>768.000000</td>\n",
              "      <td>768.000000</td>\n",
              "    </tr>\n",
              "    <tr>\n",
              "      <th>mean</th>\n",
              "      <td>3.845052</td>\n",
              "      <td>120.894531</td>\n",
              "      <td>69.105469</td>\n",
              "      <td>20.536458</td>\n",
              "      <td>79.799479</td>\n",
              "      <td>31.992578</td>\n",
              "      <td>0.471876</td>\n",
              "      <td>33.240885</td>\n",
              "      <td>0.348958</td>\n",
              "    </tr>\n",
              "    <tr>\n",
              "      <th>std</th>\n",
              "      <td>3.369578</td>\n",
              "      <td>31.972618</td>\n",
              "      <td>19.355807</td>\n",
              "      <td>15.952218</td>\n",
              "      <td>115.244002</td>\n",
              "      <td>7.884160</td>\n",
              "      <td>0.331329</td>\n",
              "      <td>11.760232</td>\n",
              "      <td>0.476951</td>\n",
              "    </tr>\n",
              "    <tr>\n",
              "      <th>min</th>\n",
              "      <td>0.000000</td>\n",
              "      <td>0.000000</td>\n",
              "      <td>0.000000</td>\n",
              "      <td>0.000000</td>\n",
              "      <td>0.000000</td>\n",
              "      <td>0.000000</td>\n",
              "      <td>0.078000</td>\n",
              "      <td>21.000000</td>\n",
              "      <td>0.000000</td>\n",
              "    </tr>\n",
              "    <tr>\n",
              "      <th>25%</th>\n",
              "      <td>1.000000</td>\n",
              "      <td>99.000000</td>\n",
              "      <td>62.000000</td>\n",
              "      <td>0.000000</td>\n",
              "      <td>0.000000</td>\n",
              "      <td>27.300000</td>\n",
              "      <td>0.243750</td>\n",
              "      <td>24.000000</td>\n",
              "      <td>0.000000</td>\n",
              "    </tr>\n",
              "    <tr>\n",
              "      <th>50%</th>\n",
              "      <td>3.000000</td>\n",
              "      <td>117.000000</td>\n",
              "      <td>72.000000</td>\n",
              "      <td>23.000000</td>\n",
              "      <td>30.500000</td>\n",
              "      <td>32.000000</td>\n",
              "      <td>0.372500</td>\n",
              "      <td>29.000000</td>\n",
              "      <td>0.000000</td>\n",
              "    </tr>\n",
              "    <tr>\n",
              "      <th>75%</th>\n",
              "      <td>6.000000</td>\n",
              "      <td>140.250000</td>\n",
              "      <td>80.000000</td>\n",
              "      <td>32.000000</td>\n",
              "      <td>127.250000</td>\n",
              "      <td>36.600000</td>\n",
              "      <td>0.626250</td>\n",
              "      <td>41.000000</td>\n",
              "      <td>1.000000</td>\n",
              "    </tr>\n",
              "    <tr>\n",
              "      <th>max</th>\n",
              "      <td>17.000000</td>\n",
              "      <td>199.000000</td>\n",
              "      <td>122.000000</td>\n",
              "      <td>99.000000</td>\n",
              "      <td>846.000000</td>\n",
              "      <td>67.100000</td>\n",
              "      <td>2.420000</td>\n",
              "      <td>81.000000</td>\n",
              "      <td>1.000000</td>\n",
              "    </tr>\n",
              "  </tbody>\n",
              "</table>\n",
              "</div>"
            ],
            "text/plain": [
              "       Pregnancies     Glucose  BloodPressure  SkinThickness     Insulin  \\\n",
              "count   768.000000  768.000000     768.000000     768.000000  768.000000   \n",
              "mean      3.845052  120.894531      69.105469      20.536458   79.799479   \n",
              "std       3.369578   31.972618      19.355807      15.952218  115.244002   \n",
              "min       0.000000    0.000000       0.000000       0.000000    0.000000   \n",
              "25%       1.000000   99.000000      62.000000       0.000000    0.000000   \n",
              "50%       3.000000  117.000000      72.000000      23.000000   30.500000   \n",
              "75%       6.000000  140.250000      80.000000      32.000000  127.250000   \n",
              "max      17.000000  199.000000     122.000000      99.000000  846.000000   \n",
              "\n",
              "              BMI  DiabetesPedigreeFunction         Age     Outcome  \n",
              "count  768.000000                768.000000  768.000000  768.000000  \n",
              "mean    31.992578                  0.471876   33.240885    0.348958  \n",
              "std      7.884160                  0.331329   11.760232    0.476951  \n",
              "min      0.000000                  0.078000   21.000000    0.000000  \n",
              "25%     27.300000                  0.243750   24.000000    0.000000  \n",
              "50%     32.000000                  0.372500   29.000000    0.000000  \n",
              "75%     36.600000                  0.626250   41.000000    1.000000  \n",
              "max     67.100000                  2.420000   81.000000    1.000000  "
            ]
          },
          "execution_count": 100,
          "metadata": {},
          "output_type": "execute_result"
        }
      ],
      "source": [
        "df.describe()"
      ]
    },
    {
      "cell_type": "code",
      "execution_count": 101,
      "metadata": {
        "colab": {
          "base_uri": "https://localhost:8080/"
        },
        "id": "RCwHKBrmRPB0",
        "outputId": "e7aff40a-274c-445a-8fd2-bd64d860d38c"
      },
      "outputs": [
        {
          "data": {
            "text/plain": [
              "False"
            ]
          },
          "execution_count": 101,
          "metadata": {},
          "output_type": "execute_result"
        }
      ],
      "source": [
        "df.isnull().values.any()"
      ]
    },
    {
      "cell_type": "code",
      "execution_count": 102,
      "metadata": {
        "colab": {
          "base_uri": "https://localhost:8080/",
          "height": 631
        },
        "id": "xsuc0grCRPB1",
        "outputId": "783b5a3b-b661-4bf3-b06b-d2351a0b17fd"
      },
      "outputs": [
        {
          "data": {
            "image/png": "[encoded data removed]",
            "text/plain": [
              "<Figure size 1000x1000 with 9 Axes>"
            ]
          },
          "metadata": {},
          "output_type": "display_data"
        }
      ],
      "source": [
        "# #histogram for our dataset\n",
        "df.hist(bins=10,figsize=(10,10))\n",
        "plt.show()"
      ]
    },
    {
      "cell_type": "code",
      "execution_count": 103,
      "metadata": {
        "colab": {
          "base_uri": "https://localhost:8080/",
          "height": 589
        },
        "id": "q1vbHhFyRPB1",
        "outputId": "ddc43f73-2f52-4795-b5b5-5cd16121e394"
      },
      "outputs": [
        {
          "data": {
            "text/plain": [
              "<Axes: >"
            ]
          },
          "execution_count": 103,
          "metadata": {},
          "output_type": "execute_result"
        },
        {
          "data": {
            "image/png": "[encoded data removed]",
            "text/plain": [
              "<Figure size 1200x600 with 2 Axes>"
            ]
          },
          "metadata": {},
          "output_type": "display_data"
        }
      ],
      "source": [
        "sns.heatmap(df.corr())"
      ]
    },
    {
      "cell_type": "code",
      "execution_count": 104,
      "metadata": {
        "colab": {
          "base_uri": "https://localhost:8080/"
        },
        "id": "iLYnyY5tRPB2",
        "outputId": "f1349dd3-fae9-4354-de92-fc5705d92053"
      },
      "outputs": [
        {
          "name": "stdout",
          "output_type": "stream",
          "text": [
            "Outcomes:\n",
            "2 ('0' for healthy and '1' for addicted,sick)\n"
          ]
        }
      ],
      "source": [
        "# a parameter to check the positivity or negativity of patient\n",
        "print(\"Outcomes:\")\n",
        "print(len(df.Outcome.unique()),\"('0' for healthy and '1' for addicted,sick)\")"
      ]
    },
    {
      "cell_type": "code",
      "execution_count": 105,
      "metadata": {
        "colab": {
          "base_uri": "https://localhost:8080/"
        },
        "id": "BABixu_1RPB3",
        "outputId": "f0a137d0-194c-47cc-abf1-d1e66bea3949"
      },
      "outputs": [
        {
          "data": {
            "text/plain": [
              "array([1, 0], dtype=int64)"
            ]
          },
          "execution_count": 105,
          "metadata": {},
          "output_type": "execute_result"
        }
      ],
      "source": [
        "df[\"Outcome\"].unique()"
      ]
    },
    {
      "cell_type": "markdown",
      "metadata": {
        "id": "ASS0Em2mRPB3"
      },
      "source": [
        "<!-- by following commands you can check unique values in dataset-->\n",
        "<!-- I did for Outcome, Insulin and Pregnancies, you can do up to your need -->"
      ]
    },
    {
      "cell_type": "markdown",
      "metadata": {
        "id": "FGriNStnRPB4"
      },
      "source": [
        "<!-- Just looking for unique values, and in this way you can check values for each -->"
      ]
    },
    {
      "cell_type": "code",
      "execution_count": 106,
      "metadata": {
        "colab": {
          "base_uri": "https://localhost:8080/"
        },
        "id": "_Bk3HxiuRPB4",
        "outputId": "bf57654b-2347-4b50-cfa5-c0d1197e51b2"
      },
      "outputs": [
        {
          "data": {
            "text/plain": [
              "array([1, 0], dtype=int64)"
            ]
          },
          "execution_count": 106,
          "metadata": {},
          "output_type": "execute_result"
        }
      ],
      "source": [
        "df[\"Outcome\"].unique()"
      ]
    },
    {
      "cell_type": "code",
      "execution_count": 107,
      "metadata": {
        "colab": {
          "base_uri": "https://localhost:8080/"
        },
        "id": "x1kfkUd7RPB5",
        "outputId": "f647834c-24f3-46da-c37a-c2165493a9df"
      },
      "outputs": [
        {
          "data": {
            "text/plain": [
              "array([  0,  94, 168,  88, 543, 846, 175, 230,  83,  96, 235, 146, 115,\n",
              "       140, 110, 245,  54, 192, 207,  70, 240,  82,  36,  23, 300, 342,\n",
              "       304, 142, 128,  38, 100,  90, 270,  71, 125, 176,  48,  64, 228,\n",
              "        76, 220,  40, 152,  18, 135, 495,  37,  51,  99, 145, 225,  49,\n",
              "        50,  92, 325,  63, 284, 119, 204, 155, 485,  53, 114, 105, 285,\n",
              "       156,  78, 130,  55,  58, 160, 210, 318,  44, 190, 280,  87, 271,\n",
              "       129, 120, 478,  56,  32, 744, 370,  45, 194, 680, 402, 258, 375,\n",
              "       150,  67,  57, 116, 278, 122, 545,  75,  74, 182, 360, 215, 184,\n",
              "        42, 132, 148, 180, 205,  85, 231,  29,  68,  52, 255, 171,  73,\n",
              "       108,  43, 167, 249, 293,  66, 465,  89, 158,  84,  72,  59,  81,\n",
              "       196, 415, 275, 165, 579, 310,  61, 474, 170, 277,  60,  14,  95,\n",
              "       237, 191, 328, 250, 480, 265, 193,  79,  86, 326, 188, 106,  65,\n",
              "       166, 274,  77, 126, 330, 600, 185,  25,  41, 272, 321, 144,  15,\n",
              "       183,  91,  46, 440, 159, 540, 200, 335, 387,  22, 291, 392, 178,\n",
              "       127, 510,  16, 112], dtype=int64)"
            ]
          },
          "execution_count": 107,
          "metadata": {},
          "output_type": "execute_result"
        }
      ],
      "source": [
        "df[\"Insulin\"].unique()"
      ]
    },
    {
      "cell_type": "code",
      "execution_count": 108,
      "metadata": {
        "colab": {
          "base_uri": "https://localhost:8080/"
        },
        "id": "lHL-0IahRPB6",
        "outputId": "e4c17862-89e7-4aa0-bf54-3c48a738fd85"
      },
      "outputs": [
        {
          "data": {
            "text/plain": [
              "array([ 6,  1,  8,  0,  5,  3, 10,  2,  4,  7,  9, 11, 13, 15, 17, 12, 14],\n",
              "      dtype=int64)"
            ]
          },
          "execution_count": 108,
          "metadata": {},
          "output_type": "execute_result"
        }
      ],
      "source": [
        "df[\"Pregnancies\"].unique()"
      ]
    },
    {
      "cell_type": "code",
      "execution_count": 109,
      "metadata": {
        "colab": {
          "base_uri": "https://localhost:8080/"
        },
        "id": "KoOo06hXRPB6",
        "outputId": "6cc2f659-2d11-4df1-f01a-ceba5ab802a2"
      },
      "outputs": [
        {
          "data": {
            "text/plain": [
              "Outcome\n",
              "0    500\n",
              "1    268\n",
              "dtype: int64"
            ]
          },
          "execution_count": 109,
          "metadata": {},
          "output_type": "execute_result"
        }
      ],
      "source": [
        "#frequency distribution of Outcome variable\n",
        "df.groupby(\"Outcome\").size()\n",
        "# groupby combine data,\n",
        "# as we can see"
      ]
    },
    {
      "cell_type": "code",
      "execution_count": 110,
      "metadata": {
        "colab": {
          "base_uri": "https://localhost:8080/"
        },
        "id": "Hqv9HOn6RPB7",
        "outputId": "3462592c-067a-4946-d57e-e0b855a70fac"
      },
      "outputs": [
        {
          "data": {
            "text/plain": [
              "Outcome\n",
              "0    500\n",
              "1    268\n",
              "Name: count, dtype: int64"
            ]
          },
          "execution_count": 110,
          "metadata": {},
          "output_type": "execute_result"
        }
      ],
      "source": [
        "\n",
        "df[\"Outcome\"].value_counts()"
      ]
    },
    {
      "cell_type": "code",
      "execution_count": 111,
      "metadata": {
        "colab": {
          "base_uri": "https://localhost:8080/",
          "height": 368
        },
        "id": "iRGVKHLDRPB8",
        "outputId": "785aaaaa-4e0c-456f-c953-9c872f059fb6"
      },
      "outputs": [
        {
          "data": {
            "text/plain": [
              "<function matplotlib.pyplot.show(close=None, block=None)>"
            ]
          },
          "execution_count": 111,
          "metadata": {},
          "output_type": "execute_result"
        },
        {
          "data": {
            "image/png": "[encoded data removed]",
            "text/plain": [
              "<Figure size 800x400 with 1 Axes>"
            ]
          },
          "metadata": {},
          "output_type": "display_data"
        }
      ],
      "source": [
        "\n",
        " #Visualizing the frequency distribution\n",
        "f, ax=plt.subplots(figsize=(8,4))\n",
        "ax=sns.countplot(x=\"Outcome\",data=df)\n",
        "plt.show"
      ]
    },
    {
      "cell_type": "markdown",
      "metadata": {
        "id": "U_jeShFtRPB8"
      },
      "source": [
        "<!-- Univeriate Analysis -->"
      ]
    },
    {
      "cell_type": "code",
      "execution_count": 112,
      "metadata": {
        "colab": {
          "base_uri": "https://localhost:8080/",
          "height": 716
        },
        "id": "OiRCqz_gRPB9",
        "outputId": "e80006bb-2e2f-4def-da5f-02f907f388d6"
      },
      "outputs": [
        {
          "data": {
            "image/png": "[encoded data removed]",
            "text/plain": [
              "<Figure size 400x200 with 1 Axes>"
            ]
          },
          "metadata": {},
          "output_type": "display_data"
        },
        {
          "data": {
            "image/png": "[encoded data removed]",
            "text/plain": [
              "<Figure size 400x200 with 1 Axes>"
            ]
          },
          "metadata": {},
          "output_type": "display_data"
        },
        {
          "data": {
            "image/png": "[encoded data removed]",
            "text/plain": [
              "<Figure size 400x200 with 1 Axes>"
            ]
          },
          "metadata": {},
          "output_type": "display_data"
        }
      ],
      "source": [
        "  #box plot\n",
        "sns.set(style=\"whitegrid\")\n",
        "\n",
        "sns.set(rc={'figure.figsize':(4,2)})\n",
        "sns.boxplot(x=df['Insulin'])\n",
        "plt.show()\n",
        "sns.boxplot(x=df['BloodPressure'])\n",
        "plt.show()\n",
        "sns.boxplot(x=df['DiabetesPedigreeFunction'])\n",
        "plt.show()"
      ]
    },
    {
      "cell_type": "code",
      "execution_count": 113,
      "metadata": {
        "colab": {
          "base_uri": "https://localhost:8080/"
        },
        "id": "H6lUbIAtRPB9",
        "outputId": "5595b91b-f8d4-47be-e288-22c1c81c96f1"
      },
      "outputs": [
        {
          "data": {
            "text/plain": [
              "Age  Outcome\n",
              "21   0          58\n",
              "     1           5\n",
              "22   0          61\n",
              "     1          11\n",
              "23   0          31\n",
              "                ..\n",
              "68   0           1\n",
              "69   0           2\n",
              "70   1           1\n",
              "72   0           1\n",
              "81   0           1\n",
              "Name: count, Length: 96, dtype: int64"
            ]
          },
          "execution_count": 113,
          "metadata": {},
          "output_type": "execute_result"
        }
      ],
      "source": [
        "#frequency distribution of Outcome variable w.r.t different variables\n",
        "df.groupby(\"Age\")[\"Outcome\"].value_counts()"
      ]
    },
    {
      "cell_type": "code",
      "execution_count": 114,
      "metadata": {
        "colab": {
          "base_uri": "https://localhost:8080/"
        },
        "id": "zBoyOdbbRPB-",
        "outputId": "b3a125e8-caa0-4ed4-c249-8256728f1df3"
      },
      "outputs": [
        {
          "name": "stdout",
          "output_type": "stream",
          "text": [
            "Max Age: 81 Min Age: 21\n"
          ]
        }
      ],
      "source": [
        "# Print Max Age and Min Age\n",
        "print(\"Max Age: \" + str(df[\"Age\"].max()) + \" Min Age: \" + str(df[\"Age\"].min()))"
      ]
    },
    {
      "cell_type": "code",
      "execution_count": 115,
      "metadata": {
        "colab": {
          "base_uri": "https://localhost:8080/",
          "height": 380
        },
        "id": "y520ugRXRPB-",
        "outputId": "941fc101-a43f-4414-c545-4e8d9cd872f1"
      },
      "outputs": [
        {
          "data": {
            "text/plain": [
              "<function matplotlib.pyplot.show(close=None, block=None)>"
            ]
          },
          "execution_count": 115,
          "metadata": {},
          "output_type": "execute_result"
        },
        {
          "data": {
            "image/png": "[encoded data removed]",
            "text/plain": [
              "<Figure size 1500x800 with 1 Axes>"
            ]
          },
          "metadata": {},
          "output_type": "display_data"
        }
      ],
      "source": [
        "#Visualizing the frequency distribution w.r.t Age\n",
        "f, ax=plt.subplots(figsize=(15,8))\n",
        "ax=sns.countplot(x=\"Age\",hue=\"Outcome\",data=df)\n",
        "plt.show"
      ]
    },
    {
      "cell_type": "code",
      "execution_count": 116,
      "metadata": {
        "id": "ynxCsnAQRPB_"
      },
      "outputs": [],
      "source": [
        "# Description\n"
      ]
    },
    {
      "cell_type": "markdown",
      "metadata": {
        "id": "tyXq0-XFRPB_",
        "tags": []
      },
      "source": [
        "<!-- Bivariate Analysis -->"
      ]
    },
    {
      "cell_type": "code",
      "execution_count": 117,
      "metadata": {
        "colab": {
          "base_uri": "https://localhost:8080/"
        },
        "id": "H2W-lmetRPCA",
        "outputId": "25686847-6705-4557-a14b-93f530addf97"
      },
      "outputs": [
        {
          "name": "stdout",
          "output_type": "stream",
          "text": [
            "Outcome                     1.000000\n",
            "Glucose                     0.466581\n",
            "BMI                         0.292695\n",
            "Age                         0.238356\n",
            "Pregnancies                 0.221898\n",
            "DiabetesPedigreeFunction    0.173844\n",
            "Insulin                     0.130548\n",
            "SkinThickness               0.074752\n",
            "BloodPressure               0.065068\n",
            "Name: Outcome, dtype: float64\n"
          ]
        }
      ],
      "source": [
        "print(df.corr()[\"Outcome\"].sort_values(ascending=False))\n",
        "\n",
        "\n",
        "#The corelation coefficent range from -1 to 1.\n",
        "#Glucose is max +ve corelated with Outcome variable\n",
        "#BP is weakly positively corelated with Outcome"
      ]
    },
    {
      "cell_type": "code",
      "execution_count": 118,
      "metadata": {
        "colab": {
          "base_uri": "https://localhost:8080/"
        },
        "id": "tT_j---CRPCB",
        "outputId": "f54b064c-daeb-4bd9-e5d4-cdf18554c233"
      },
      "outputs": [
        {
          "data": {
            "text/plain": [
              "array([148,  85, 183,  89, 137, 116,  78, 115, 197, 125, 110, 168, 139,\n",
              "       189, 166, 100, 118, 107, 103, 126,  99, 196, 119, 143, 147,  97,\n",
              "       145, 117, 109, 158,  88,  92, 122, 138, 102,  90, 111, 180, 133,\n",
              "       106, 171, 159, 146,  71, 105, 101, 176, 150,  73, 187,  84,  44,\n",
              "       141, 114,  95, 129,  79,   0,  62, 131, 112, 113,  74,  83, 136,\n",
              "        80, 123,  81, 134, 142, 144,  93, 163, 151,  96, 155,  76, 160,\n",
              "       124, 162, 132, 120, 173, 170, 128, 108, 154,  57, 156, 153, 188,\n",
              "       152, 104,  87,  75, 179, 130, 194, 181, 135, 184, 140, 177, 164,\n",
              "        91, 165,  86, 193, 191, 161, 167,  77, 182, 157, 178,  61,  98,\n",
              "       127,  82,  72, 172,  94, 175, 195,  68, 186, 198, 121,  67, 174,\n",
              "       199,  56, 169, 149,  65, 190], dtype=int64)"
            ]
          },
          "execution_count": 118,
          "metadata": {},
          "output_type": "execute_result"
        }
      ],
      "source": [
        "df[\"Glucose\"].unique()"
      ]
    },
    {
      "cell_type": "code",
      "execution_count": 119,
      "metadata": {
        "colab": {
          "base_uri": "https://localhost:8080/"
        },
        "id": "QwhsVOBxRPCB",
        "outputId": "e82c6fbf-fd9d-41be-ba85-ba0a8758e481"
      },
      "outputs": [
        {
          "name": "stdout",
          "output_type": "stream",
          "text": [
            "Max Age: 81 Min Age: 21\n"
          ]
        }
      ],
      "source": [
        "print(\"Max Age: \" + str(df[\"Age\"].max()) + \" Min Age: \" + str(df[\"Age\"].min()))"
      ]
    },
    {
      "cell_type": "code",
      "execution_count": 120,
      "metadata": {
        "colab": {
          "base_uri": "https://localhost:8080/"
        },
        "id": "QPR7fHVCRPCC",
        "outputId": "bdc1826e-c5e5-4489-9a51-2436dd44bcac"
      },
      "outputs": [
        {
          "data": {
            "text/plain": [
              "Glucose\n",
              "190     1\n",
              "199     1\n",
              "56      1\n",
              "67      1\n",
              "149     1\n",
              "       ..\n",
              "125    14\n",
              "129    14\n",
              "111    14\n",
              "100    17\n",
              "99     17\n",
              "Name: count, Length: 136, dtype: int64"
            ]
          },
          "execution_count": 120,
          "metadata": {},
          "output_type": "execute_result"
        }
      ],
      "source": [
        "df[\"Glucose\"].value_counts().sort_values(ascending=True)"
      ]
    },
    {
      "cell_type": "code",
      "execution_count": 121,
      "metadata": {
        "colab": {
          "base_uri": "https://localhost:8080/",
          "height": 288
        },
        "id": "yf39ekgbRPCC",
        "outputId": "3918e4be-9bc2-4249-ac32-6d2f8866cd8a"
      },
      "outputs": [
        {
          "data": {
            "text/plain": [
              "<function matplotlib.pyplot.show(close=None, block=None)>"
            ]
          },
          "execution_count": 121,
          "metadata": {},
          "output_type": "execute_result"
        },
        {
          "data": {
            "image/png": "[encoded data removed]",
            "text/plain": [
              "<Figure size 5000x2000 with 1 Axes>"
            ]
          },
          "metadata": {},
          "output_type": "display_data"
        }
      ],
      "source": [
        "#Visualizing the frequency distribution\n",
        "f, ax=plt.subplots(figsize=(50,20))\n",
        "ax=sns.countplot(x=\"Glucose\",data=df)\n",
        "plt.show"
      ]
    },
    {
      "cell_type": "code",
      "execution_count": 122,
      "metadata": {
        "colab": {
          "base_uri": "https://localhost:8080/"
        },
        "id": "XqNW_p1QRPCD",
        "outputId": "7868bfcf-0633-46ec-9570-53fc756ed59e"
      },
      "outputs": [
        {
          "data": {
            "text/plain": [
              "Glucose  Outcome\n",
              "0        0          3\n",
              "         1          2\n",
              "44       0          1\n",
              "56       0          1\n",
              "57       0          2\n",
              "                   ..\n",
              "196      1          3\n",
              "197      1          3\n",
              "         0          1\n",
              "198      1          1\n",
              "199      1          1\n",
              "Name: count, Length: 215, dtype: int64"
            ]
          },
          "execution_count": 122,
          "metadata": {},
          "output_type": "execute_result"
        }
      ],
      "source": [
        "df.groupby(\"Glucose\")[\"Outcome\"].value_counts()\n"
      ]
    },
    {
      "cell_type": "code",
      "execution_count": 123,
      "metadata": {
        "id": "BrbU7SXURPCE"
      },
      "outputs": [],
      "source": [
        "# Multivariate Analysis"
      ]
    },
    {
      "cell_type": "code",
      "execution_count": 124,
      "metadata": {
        "colab": {
          "base_uri": "https://localhost:8080/",
          "height": 432
        },
        "id": "fXZ13bfjRPCE",
        "outputId": "8904aab2-4693-4272-dcc4-accc41c4817b"
      },
      "outputs": [
        {
          "data": {
            "image/png": "[encoded data removed]",
            "text/plain": [
              "<Figure size 1000x500 with 2 Axes>"
            ]
          },
          "metadata": {},
          "output_type": "display_data"
        }
      ],
      "source": [
        "fig , ax = plt.subplots(figsize=(10,5))\n",
        "sns.heatmap(df[['Pregnancies', 'Glucose', 'BloodPressure', 'SkinThickness', 'Insulin',\n",
        "       'BMI', 'DiabetesPedigreeFunction', 'Age', 'Outcome']].corr(),annot=True)\n",
        "plt.show()"
      ]
    },
    {
      "cell_type": "code",
      "execution_count": 125,
      "metadata": {
        "id": "C-vaUIgyRPCk"
      },
      "outputs": [],
      "source": [
        "# done with univariate, Bivarate, and Multivariate Analysis"
      ]
    },
    {
      "cell_type": "code",
      "execution_count": 126,
      "metadata": {
        "id": "ArUj_ArPRPCl"
      },
      "outputs": [],
      "source": [
        "# analyze for each feature with respct to \"Outcome\">>>>>>>"
      ]
    },
    {
      "cell_type": "code",
      "execution_count": 127,
      "metadata": {
        "colab": {
          "base_uri": "https://localhost:8080/",
          "height": 283
        },
        "id": "isluTZD9RPCm",
        "outputId": "f9c65ca5-dfaf-4c56-d15a-4444de2d8df6"
      },
      "outputs": [
        {
          "name": "stdout",
          "output_type": "stream",
          "text": [
            "Outcome\n",
            "0    500\n",
            "1    268\n",
            "Name: count, dtype: int64\n"
          ]
        },
        {
          "data": {
            "image/png": "[encoded data removed]",
            "text/plain": [
              "<Figure size 400x200 with 1 Axes>"
            ]
          },
          "metadata": {},
          "output_type": "display_data"
        }
      ],
      "source": [
        "y=df[\"Outcome\"]\n",
        "sns.countplot(y)\n",
        "outcome_temp=df.Outcome.value_counts()\n",
        "print(outcome_temp)"
      ]
    },
    {
      "cell_type": "code",
      "execution_count": 128,
      "metadata": {
        "colab": {
          "base_uri": "https://localhost:8080/"
        },
        "id": "lVsjRU_3RPCm",
        "outputId": "f7d14487-aaab-4d8c-ff76-d15908f50a32"
      },
      "outputs": [
        {
          "name": "stdout",
          "output_type": "stream",
          "text": [
            "Percentage of patients without Diabetes problem:65.1\n",
            "Percentage of patients with Diabetes problem:34.9\n"
          ]
        }
      ],
      "source": [
        "print(\"Percentage of patients without Diabetes problem:\"+str(round(outcome_temp[0]*100/768,2)))\n",
        "print(\"Percentage of patients with Diabetes problem:\"+str(round(outcome_temp[1]*100/768,2)))\n"
      ]
    },
    {
      "cell_type": "code",
      "execution_count": 129,
      "metadata": {
        "colab": {
          "base_uri": "https://localhost:8080/"
        },
        "id": "juvxduQSRPCn",
        "outputId": "524bab26-8b4c-48cc-d06f-25260139c559"
      },
      "outputs": [
        {
          "data": {
            "text/plain": [
              "array([148,  85, 183,  89, 137, 116,  78, 115, 197, 125, 110, 168, 139,\n",
              "       189, 166, 100, 118, 107, 103, 126,  99, 196, 119, 143, 147,  97,\n",
              "       145, 117, 109, 158,  88,  92, 122, 138, 102,  90, 111, 180, 133,\n",
              "       106, 171, 159, 146,  71, 105, 101, 176, 150,  73, 187,  84,  44,\n",
              "       141, 114,  95, 129,  79,   0,  62, 131, 112, 113,  74,  83, 136,\n",
              "        80, 123,  81, 134, 142, 144,  93, 163, 151,  96, 155,  76, 160,\n",
              "       124, 162, 132, 120, 173, 170, 128, 108, 154,  57, 156, 153, 188,\n",
              "       152, 104,  87,  75, 179, 130, 194, 181, 135, 184, 140, 177, 164,\n",
              "        91, 165,  86, 193, 191, 161, 167,  77, 182, 157, 178,  61,  98,\n",
              "       127,  82,  72, 172,  94, 175, 195,  68, 186, 198, 121,  67, 174,\n",
              "       199,  56, 169, 149,  65, 190], dtype=int64)"
            ]
          },
          "execution_count": 129,
          "metadata": {},
          "output_type": "execute_result"
        }
      ],
      "source": [
        "df[\"Glucose\"].unique()"
      ]
    },
    {
      "cell_type": "code",
      "execution_count": 130,
      "metadata": {
        "colab": {
          "base_uri": "https://localhost:8080/",
          "height": 380
        },
        "id": "C9FVrgWqRPCo",
        "outputId": "363e0564-c6e9-496c-b71b-405d0be38297"
      },
      "outputs": [
        {
          "data": {
            "image/png": "[encoded data removed]",
            "text/plain": [
              "<Figure size 6000x3500 with 1 Axes>"
            ]
          },
          "metadata": {},
          "output_type": "display_data"
        }
      ],
      "source": [
        "f, ax = plt.subplots(figsize=(60, 35))\n",
        "sns.barplot(x=df[\"Glucose\"], y=y, ax=ax)\n",
        "# if you give just y, then will be error\n",
        "# sns.barplot(x=df[\"Glucose\"],y)\n",
        "\n",
        "plt.show()"
      ]
    },
    {
      "cell_type": "code",
      "execution_count": 131,
      "metadata": {
        "colab": {
          "base_uri": "https://localhost:8080/"
        },
        "id": "ouhRwBHNRPCo",
        "outputId": "24da306a-f90e-4f6e-86a9-b7a0992e4fa5"
      },
      "outputs": [
        {
          "data": {
            "text/plain": [
              "array([ 72,  66,  64,  40,  74,  50,   0,  70,  96,  92,  80,  60,  84,\n",
              "        30,  88,  90,  94,  76,  82,  75,  58,  78,  68, 110,  56,  62,\n",
              "        85,  86,  48,  44,  65, 108,  55, 122,  54,  52,  98, 104,  95,\n",
              "        46, 102, 100,  61,  24,  38, 106, 114], dtype=int64)"
            ]
          },
          "execution_count": 131,
          "metadata": {},
          "output_type": "execute_result"
        }
      ],
      "source": [
        "df[\"BloodPressure\"].unique()"
      ]
    },
    {
      "cell_type": "code",
      "execution_count": 132,
      "metadata": {
        "colab": {
          "base_uri": "https://localhost:8080/"
        },
        "id": "cJ8DAja-RPCp",
        "outputId": "ff8ec55c-c733-4205-eb6b-aca9a655a997"
      },
      "outputs": [
        {
          "data": {
            "text/plain": [
              "count    768.000000\n",
              "mean      69.105469\n",
              "std       19.355807\n",
              "min        0.000000\n",
              "25%       62.000000\n",
              "50%       72.000000\n",
              "75%       80.000000\n",
              "max      122.000000\n",
              "Name: BloodPressure, dtype: float64"
            ]
          },
          "execution_count": 132,
          "metadata": {},
          "output_type": "execute_result"
        }
      ],
      "source": [
        "df[\"BloodPressure\"].describe()"
      ]
    },
    {
      "cell_type": "code",
      "execution_count": 133,
      "metadata": {
        "colab": {
          "base_uri": "https://localhost:8080/",
          "height": 338
        },
        "id": "edwLk6Y7RPCq",
        "outputId": "170acc30-3154-42bb-aa02-26efd41eb7a7"
      },
      "outputs": [
        {
          "data": {
            "image/png": "[encoded data removed]",
            "text/plain": [
              "<Figure size 2000x1000 with 1 Axes>"
            ]
          },
          "metadata": {},
          "output_type": "display_data"
        }
      ],
      "source": [
        "f, ax = plt.subplots(figsize=(20, 10))\n",
        "sns.barplot(x=df[\"BloodPressure\"], y=y, ax=ax)\n",
        "plt.show()"
      ]
    },
    {
      "cell_type": "code",
      "execution_count": 134,
      "metadata": {
        "colab": {
          "base_uri": "https://localhost:8080/",
          "height": 504
        },
        "id": "IPoLOGSdRPCq",
        "outputId": "eae60daf-a304-4f86-c74d-36367220c4f7"
      },
      "outputs": [
        {
          "data": {
            "image/png": "[encoded data removed]",
            "text/plain": [
              "<Figure size 900x700 with 1 Axes>"
            ]
          },
          "metadata": {},
          "output_type": "display_data"
        }
      ],
      "source": [
        "f, ax = plt.subplots(figsize=(9, 7))\n",
        "sns.histplot(df[\"BloodPressure\"], kde=False, bins=30, ax=ax)  # Adjust bins as needed\n",
        "plt.show()"
      ]
    },
    {
      "cell_type": "code",
      "execution_count": 135,
      "metadata": {
        "colab": {
          "base_uri": "https://localhost:8080/"
        },
        "id": "WYyI3N00RPCr",
        "outputId": "eee974b6-b393-47bf-95ca-bae0b5711f74"
      },
      "outputs": [
        {
          "data": {
            "text/plain": [
              "array([35, 29,  0, 23, 32, 45, 19, 47, 38, 30, 41, 33, 26, 15, 36, 11, 31,\n",
              "       37, 42, 25, 18, 24, 39, 27, 21, 34, 10, 60, 13, 20, 22, 28, 54, 40,\n",
              "       51, 56, 14, 17, 50, 44, 12, 46, 16,  7, 52, 43, 48,  8, 49, 63, 99],\n",
              "      dtype=int64)"
            ]
          },
          "execution_count": 135,
          "metadata": {},
          "output_type": "execute_result"
        }
      ],
      "source": [
        "df[\"SkinThickness\"].unique()"
      ]
    },
    {
      "cell_type": "code",
      "execution_count": 136,
      "metadata": {
        "colab": {
          "base_uri": "https://localhost:8080/",
          "height": 504
        },
        "id": "3u2ms4GKRPCr",
        "outputId": "66297c08-b1ae-4c84-ac7e-c109e56735aa"
      },
      "outputs": [
        {
          "data": {
            "image/png": "[encoded data removed]",
            "text/plain": [
              "<Figure size 900x700 with 1 Axes>"
            ]
          },
          "metadata": {},
          "output_type": "display_data"
        }
      ],
      "source": [
        "f, ax = plt.subplots(figsize=(9, 7))\n",
        "sns.histplot(df[\"SkinThickness\"], kde=False, bins=30, ax=ax)  # Adjust bins as needed\n",
        "plt.show()"
      ]
    },
    {
      "cell_type": "code",
      "execution_count": 137,
      "metadata": {
        "colab": {
          "base_uri": "https://localhost:8080/"
        },
        "id": "xFubEX1yRPCs",
        "outputId": "65b39ee6-9202-45f1-8a4e-9aed6680f979"
      },
      "outputs": [
        {
          "data": {
            "text/plain": [
              "('Insulin', 'BMI', 'DiabetesPedigreeFunction', 'Age')"
            ]
          },
          "execution_count": 137,
          "metadata": {},
          "output_type": "execute_result"
        }
      ],
      "source": [
        "'Insulin','BMI', 'DiabetesPedigreeFunction', 'Age'"
      ]
    },
    {
      "cell_type": "code",
      "execution_count": 138,
      "metadata": {
        "colab": {
          "base_uri": "https://localhost:8080/"
        },
        "id": "Fh38E0J2RPCt",
        "outputId": "fc1381cc-3353-4fe1-b4e3-0330afacdbdd"
      },
      "outputs": [
        {
          "data": {
            "text/plain": [
              "array([  0,  94, 168,  88, 543, 846, 175, 230,  83,  96, 235, 146, 115,\n",
              "       140, 110, 245,  54, 192, 207,  70, 240,  82,  36,  23, 300, 342,\n",
              "       304, 142, 128,  38, 100,  90, 270,  71, 125, 176,  48,  64, 228,\n",
              "        76, 220,  40, 152,  18, 135, 495,  37,  51,  99, 145, 225,  49,\n",
              "        50,  92, 325,  63, 284, 119, 204, 155, 485,  53, 114, 105, 285,\n",
              "       156,  78, 130,  55,  58, 160, 210, 318,  44, 190, 280,  87, 271,\n",
              "       129, 120, 478,  56,  32, 744, 370,  45, 194, 680, 402, 258, 375,\n",
              "       150,  67,  57, 116, 278, 122, 545,  75,  74, 182, 360, 215, 184,\n",
              "        42, 132, 148, 180, 205,  85, 231,  29,  68,  52, 255, 171,  73,\n",
              "       108,  43, 167, 249, 293,  66, 465,  89, 158,  84,  72,  59,  81,\n",
              "       196, 415, 275, 165, 579, 310,  61, 474, 170, 277,  60,  14,  95,\n",
              "       237, 191, 328, 250, 480, 265, 193,  79,  86, 326, 188, 106,  65,\n",
              "       166, 274,  77, 126, 330, 600, 185,  25,  41, 272, 321, 144,  15,\n",
              "       183,  91,  46, 440, 159, 540, 200, 335, 387,  22, 291, 392, 178,\n",
              "       127, 510,  16, 112], dtype=int64)"
            ]
          },
          "execution_count": 138,
          "metadata": {},
          "output_type": "execute_result"
        }
      ],
      "source": [
        "df[\"Insulin\"].unique()"
      ]
    },
    {
      "cell_type": "code",
      "execution_count": 139,
      "metadata": {
        "colab": {
          "base_uri": "https://localhost:8080/",
          "height": 501
        },
        "id": "jJ9-1nCQRPCt",
        "outputId": "9085b751-db45-4c52-e3da-f8214d86b661"
      },
      "outputs": [
        {
          "name": "stderr",
          "output_type": "stream",
          "text": [
            "c:\\Users\\Bravo_is_Back\\anaconda3\\Lib\\site-packages\\seaborn\\axisgrid.py:118: UserWarning: The figure layout has changed to tight\n",
            "  self._figure.tight_layout(*args, **kwargs)\n"
          ]
        },
        {
          "data": {
            "image/png": "[encoded data removed]",
            "text/plain": [
              "<Figure size 500x500 with 1 Axes>"
            ]
          },
          "metadata": {},
          "output_type": "display_data"
        }
      ],
      "source": [
        "sns.displot(df[\"Insulin\"], kde=False, bins=30)  # Adjust bins as needed\n",
        "plt.show()"
      ]
    },
    {
      "cell_type": "code",
      "execution_count": 140,
      "metadata": {
        "colab": {
          "base_uri": "https://localhost:8080/"
        },
        "id": "A_HPsc8tRPCu",
        "outputId": "5e24e4f7-5324-42db-8389-e5901bc1b0a9"
      },
      "outputs": [
        {
          "data": {
            "text/plain": [
              "array([33.6, 26.6, 23.3, 28.1, 43.1, 25.6, 31. , 35.3, 30.5,  0. , 37.6,\n",
              "       38. , 27.1, 30.1, 25.8, 30. , 45.8, 29.6, 43.3, 34.6, 39.3, 35.4,\n",
              "       39.8, 29. , 36.6, 31.1, 39.4, 23.2, 22.2, 34.1, 36. , 31.6, 24.8,\n",
              "       19.9, 27.6, 24. , 33.2, 32.9, 38.2, 37.1, 34. , 40.2, 22.7, 45.4,\n",
              "       27.4, 42. , 29.7, 28. , 39.1, 19.4, 24.2, 24.4, 33.7, 34.7, 23. ,\n",
              "       37.7, 46.8, 40.5, 41.5, 25. , 25.4, 32.8, 32.5, 42.7, 19.6, 28.9,\n",
              "       28.6, 43.4, 35.1, 32. , 24.7, 32.6, 43.2, 22.4, 29.3, 24.6, 48.8,\n",
              "       32.4, 38.5, 26.5, 19.1, 46.7, 23.8, 33.9, 20.4, 28.7, 49.7, 39. ,\n",
              "       26.1, 22.5, 39.6, 29.5, 34.3, 37.4, 33.3, 31.2, 28.2, 53.2, 34.2,\n",
              "       26.8, 55. , 42.9, 34.5, 27.9, 38.3, 21.1, 33.8, 30.8, 36.9, 39.5,\n",
              "       27.3, 21.9, 40.6, 47.9, 50. , 25.2, 40.9, 37.2, 44.2, 29.9, 31.9,\n",
              "       28.4, 43.5, 32.7, 67.1, 45. , 34.9, 27.7, 35.9, 22.6, 33.1, 30.4,\n",
              "       52.3, 24.3, 22.9, 34.8, 30.9, 40.1, 23.9, 37.5, 35.5, 42.8, 42.6,\n",
              "       41.8, 35.8, 37.8, 28.8, 23.6, 35.7, 36.7, 45.2, 44. , 46.2, 35. ,\n",
              "       43.6, 44.1, 18.4, 29.2, 25.9, 32.1, 36.3, 40. , 25.1, 27.5, 45.6,\n",
              "       27.8, 24.9, 25.3, 37.9, 27. , 26. , 38.7, 20.8, 36.1, 30.7, 32.3,\n",
              "       52.9, 21. , 39.7, 25.5, 26.2, 19.3, 38.1, 23.5, 45.5, 23.1, 39.9,\n",
              "       36.8, 21.8, 41. , 42.2, 34.4, 27.2, 36.5, 29.8, 39.2, 38.4, 36.2,\n",
              "       48.3, 20. , 22.3, 45.7, 23.7, 22.1, 42.1, 42.4, 18.2, 26.4, 45.3,\n",
              "       37. , 24.5, 32.2, 59.4, 21.2, 26.7, 30.2, 46.1, 41.3, 38.8, 35.2,\n",
              "       42.3, 40.7, 46.5, 33.5, 37.3, 30.3, 26.3, 21.7, 36.4, 28.5, 26.9,\n",
              "       38.6, 31.3, 19.5, 20.1, 40.8, 23.4, 28.3, 38.9, 57.3, 35.6, 49.6,\n",
              "       44.6, 24.1, 44.5, 41.2, 49.3, 46.3])"
            ]
          },
          "execution_count": 140,
          "metadata": {},
          "output_type": "execute_result"
        }
      ],
      "source": [
        "df[\"BMI\"].unique()"
      ]
    },
    {
      "cell_type": "code",
      "execution_count": 141,
      "metadata": {
        "colab": {
          "base_uri": "https://localhost:8080/"
        },
        "id": "M9jl0DvfRPCv",
        "outputId": "55319f15-959c-4361-edd8-60d88c93dbae"
      },
      "outputs": [
        {
          "data": {
            "text/plain": [
              "array([0.627, 0.351, 0.672, 0.167, 2.288, 0.201, 0.248, 0.134, 0.158,\n",
              "       0.232, 0.191, 0.537, 1.441, 0.398, 0.587, 0.484, 0.551, 0.254,\n",
              "       0.183, 0.529, 0.704, 0.388, 0.451, 0.263, 0.205, 0.257, 0.487,\n",
              "       0.245, 0.337, 0.546, 0.851, 0.267, 0.188, 0.512, 0.966, 0.42 ,\n",
              "       0.665, 0.503, 1.39 , 0.271, 0.696, 0.235, 0.721, 0.294, 1.893,\n",
              "       0.564, 0.586, 0.344, 0.305, 0.491, 0.526, 0.342, 0.467, 0.718,\n",
              "       0.962, 1.781, 0.173, 0.304, 0.27 , 0.699, 0.258, 0.203, 0.855,\n",
              "       0.845, 0.334, 0.189, 0.867, 0.411, 0.583, 0.231, 0.396, 0.14 ,\n",
              "       0.391, 0.37 , 0.307, 0.102, 0.767, 0.237, 0.227, 0.698, 0.178,\n",
              "       0.324, 0.153, 0.165, 0.443, 0.261, 0.277, 0.761, 0.255, 0.13 ,\n",
              "       0.323, 0.356, 0.325, 1.222, 0.179, 0.262, 0.283, 0.93 , 0.801,\n",
              "       0.207, 0.287, 0.336, 0.247, 0.199, 0.543, 0.192, 0.588, 0.539,\n",
              "       0.22 , 0.654, 0.223, 0.759, 0.26 , 0.404, 0.186, 0.278, 0.496,\n",
              "       0.452, 0.403, 0.741, 0.361, 1.114, 0.457, 0.647, 0.088, 0.597,\n",
              "       0.532, 0.703, 0.159, 0.268, 0.286, 0.318, 0.272, 0.572, 0.096,\n",
              "       1.4  , 0.218, 0.085, 0.399, 0.432, 1.189, 0.687, 0.137, 0.637,\n",
              "       0.833, 0.229, 0.817, 0.204, 0.368, 0.743, 0.722, 0.256, 0.709,\n",
              "       0.471, 0.495, 0.18 , 0.542, 0.773, 0.678, 0.719, 0.382, 0.319,\n",
              "       0.19 , 0.956, 0.084, 0.725, 0.299, 0.244, 0.745, 0.615, 1.321,\n",
              "       0.64 , 0.142, 0.374, 0.383, 0.578, 0.136, 0.395, 0.187, 0.905,\n",
              "       0.15 , 0.874, 0.236, 0.787, 0.407, 0.605, 0.151, 0.289, 0.355,\n",
              "       0.29 , 0.375, 0.164, 0.431, 0.742, 0.514, 0.464, 1.224, 1.072,\n",
              "       0.805, 0.209, 0.666, 0.101, 0.198, 0.652, 2.329, 0.089, 0.645,\n",
              "       0.238, 0.394, 0.293, 0.479, 0.686, 0.831, 0.582, 0.446, 0.402,\n",
              "       1.318, 0.329, 1.213, 0.427, 0.282, 0.143, 0.38 , 0.284, 0.249,\n",
              "       0.926, 0.557, 0.092, 0.655, 1.353, 0.612, 0.2  , 0.226, 0.997,\n",
              "       0.933, 1.101, 0.078, 0.24 , 1.136, 0.128, 0.422, 0.251, 0.677,\n",
              "       0.296, 0.454, 0.744, 0.881, 0.28 , 0.259, 0.619, 0.808, 0.34 ,\n",
              "       0.434, 0.757, 0.613, 0.692, 0.52 , 0.412, 0.84 , 0.839, 0.156,\n",
              "       0.215, 0.326, 1.391, 0.875, 0.313, 0.433, 0.626, 1.127, 0.315,\n",
              "       0.345, 0.129, 0.527, 0.197, 0.731, 0.148, 0.123, 0.127, 0.122,\n",
              "       1.476, 0.166, 0.932, 0.343, 0.893, 0.331, 0.472, 0.673, 0.389,\n",
              "       0.485, 0.349, 0.279, 0.346, 0.252, 0.243, 0.58 , 0.559, 0.302,\n",
              "       0.569, 0.378, 0.385, 0.499, 0.306, 0.234, 2.137, 1.731, 0.545,\n",
              "       0.225, 0.816, 0.528, 0.509, 1.021, 0.821, 0.947, 1.268, 0.221,\n",
              "       0.66 , 0.239, 0.949, 0.444, 0.463, 0.803, 1.6  , 0.944, 0.196,\n",
              "       0.241, 0.161, 0.135, 0.376, 1.191, 0.702, 0.674, 1.076, 0.534,\n",
              "       1.095, 0.554, 0.624, 0.219, 0.507, 0.561, 0.421, 0.516, 0.264,\n",
              "       0.328, 0.233, 0.108, 1.138, 0.147, 0.727, 0.435, 0.497, 0.23 ,\n",
              "       0.955, 2.42 , 0.658, 0.33 , 0.51 , 0.285, 0.415, 0.381, 0.832,\n",
              "       0.498, 0.212, 0.364, 1.001, 0.46 , 0.733, 0.416, 0.705, 1.022,\n",
              "       0.269, 0.6  , 0.571, 0.607, 0.17 , 0.21 , 0.126, 0.711, 0.466,\n",
              "       0.162, 0.419, 0.63 , 0.365, 0.536, 1.159, 0.629, 0.292, 0.145,\n",
              "       1.144, 0.174, 0.547, 0.163, 0.738, 0.314, 0.968, 0.409, 0.297,\n",
              "       0.525, 0.154, 0.771, 0.107, 0.493, 0.717, 0.917, 0.501, 1.251,\n",
              "       0.735, 0.804, 0.661, 0.549, 0.825, 0.423, 1.034, 0.16 , 0.341,\n",
              "       0.68 , 0.591, 0.3  , 0.121, 0.502, 0.401, 0.601, 0.748, 0.338,\n",
              "       0.43 , 0.892, 0.813, 0.693, 0.575, 0.371, 0.206, 0.417, 1.154,\n",
              "       0.925, 0.175, 1.699, 0.682, 0.194, 0.4  , 0.1  , 1.258, 0.482,\n",
              "       0.138, 0.593, 0.878, 0.157, 1.282, 0.141, 0.246, 1.698, 1.461,\n",
              "       0.347, 0.362, 0.393, 0.144, 0.732, 0.115, 0.465, 0.649, 0.871,\n",
              "       0.149, 0.695, 0.303, 0.61 , 0.73 , 0.447, 0.455, 0.133, 0.155,\n",
              "       1.162, 1.292, 0.182, 1.394, 0.217, 0.631, 0.88 , 0.614, 0.332,\n",
              "       0.366, 0.181, 0.828, 0.335, 0.856, 0.886, 0.439, 0.253, 0.598,\n",
              "       0.904, 0.483, 0.565, 0.118, 0.177, 0.176, 0.295, 0.441, 0.352,\n",
              "       0.826, 0.97 , 0.595, 0.317, 0.265, 0.646, 0.426, 0.56 , 0.515,\n",
              "       0.453, 0.785, 0.734, 1.174, 0.488, 0.358, 1.096, 0.408, 1.182,\n",
              "       0.222, 1.057, 0.766, 0.171])"
            ]
          },
          "execution_count": 141,
          "metadata": {},
          "output_type": "execute_result"
        }
      ],
      "source": [
        "df[\"DiabetesPedigreeFunction\"].unique()"
      ]
    },
    {
      "cell_type": "code",
      "execution_count": 142,
      "metadata": {
        "colab": {
          "base_uri": "https://localhost:8080/"
        },
        "id": "ugat2ZqmRPCv",
        "outputId": "62438973-4f87-46e0-c6de-74c1c3135762"
      },
      "outputs": [
        {
          "data": {
            "text/plain": [
              "array([50, 31, 32, 21, 33, 30, 26, 29, 53, 54, 34, 57, 59, 51, 27, 41, 43,\n",
              "       22, 38, 60, 28, 45, 35, 46, 56, 37, 48, 40, 25, 24, 58, 42, 44, 39,\n",
              "       36, 23, 61, 69, 62, 55, 65, 47, 52, 66, 49, 63, 67, 72, 81, 64, 70,\n",
              "       68], dtype=int64)"
            ]
          },
          "execution_count": 142,
          "metadata": {},
          "output_type": "execute_result"
        }
      ],
      "source": [
        "df[\"Age\"].unique()"
      ]
    },
    {
      "cell_type": "code",
      "execution_count": 143,
      "metadata": {
        "colab": {
          "base_uri": "https://localhost:8080/",
          "height": 143
        },
        "id": "3QYZIuwURPCw",
        "outputId": "199543fc-7e45-49f1-d796-c557a4332d3d"
      },
      "outputs": [
        {
          "data": {
            "text/html": [
              "<div>\n",
              "<style scoped>\n",
              "    .dataframe tbody tr th:only-of-type {\n",
              "        vertical-align: middle;\n",
              "    }\n",
              "\n",
              "    .dataframe tbody tr th {\n",
              "        vertical-align: top;\n",
              "    }\n",
              "\n",
              "    .dataframe thead th {\n",
              "        text-align: right;\n",
              "    }\n",
              "</style>\n",
              "<table border=\"1\" class=\"dataframe\">\n",
              "  <thead>\n",
              "    <tr style=\"text-align: right;\">\n",
              "      <th></th>\n",
              "      <th>Pregnancies</th>\n",
              "    </tr>\n",
              "    <tr>\n",
              "      <th>Outcome</th>\n",
              "      <th></th>\n",
              "    </tr>\n",
              "  </thead>\n",
              "  <tbody>\n",
              "    <tr>\n",
              "      <th>0</th>\n",
              "      <td>3.298000</td>\n",
              "    </tr>\n",
              "    <tr>\n",
              "      <th>1</th>\n",
              "      <td>4.865672</td>\n",
              "    </tr>\n",
              "  </tbody>\n",
              "</table>\n",
              "</div>"
            ],
            "text/plain": [
              "         Pregnancies\n",
              "Outcome             \n",
              "0           3.298000\n",
              "1           4.865672"
            ]
          },
          "execution_count": 143,
          "metadata": {},
          "output_type": "execute_result"
        }
      ],
      "source": [
        "df.groupby(\"Outcome\").agg({\"Pregnancies\":\"mean\"})\n",
        "# if the \"Outcome\" column contained the values \"Zero\" and \"One\", the groupby() method would create two groups of data: one for all rows with \"Zero\" in the \"Outcome\" column and another for all rows with \"One\" in the \"Outcome\" column. The agg() method would then calculate the mean of the \"Pregnancies\" column for each group separately."
      ]
    },
    {
      "cell_type": "code",
      "execution_count": 144,
      "metadata": {
        "colab": {
          "base_uri": "https://localhost:8080/",
          "height": 143
        },
        "id": "0KrAeRb8RPCx",
        "outputId": "3deb053b-a287-48c0-fe1c-d7f455fe67ce"
      },
      "outputs": [
        {
          "data": {
            "text/html": [
              "<div>\n",
              "<style scoped>\n",
              "    .dataframe tbody tr th:only-of-type {\n",
              "        vertical-align: middle;\n",
              "    }\n",
              "\n",
              "    .dataframe tbody tr th {\n",
              "        vertical-align: top;\n",
              "    }\n",
              "\n",
              "    .dataframe thead th {\n",
              "        text-align: right;\n",
              "    }\n",
              "</style>\n",
              "<table border=\"1\" class=\"dataframe\">\n",
              "  <thead>\n",
              "    <tr style=\"text-align: right;\">\n",
              "      <th></th>\n",
              "      <th>Age</th>\n",
              "    </tr>\n",
              "    <tr>\n",
              "      <th>Outcome</th>\n",
              "      <th></th>\n",
              "    </tr>\n",
              "  </thead>\n",
              "  <tbody>\n",
              "    <tr>\n",
              "      <th>0</th>\n",
              "      <td>31.190000</td>\n",
              "    </tr>\n",
              "    <tr>\n",
              "      <th>1</th>\n",
              "      <td>37.067164</td>\n",
              "    </tr>\n",
              "  </tbody>\n",
              "</table>\n",
              "</div>"
            ],
            "text/plain": [
              "               Age\n",
              "Outcome           \n",
              "0        31.190000\n",
              "1        37.067164"
            ]
          },
          "execution_count": 144,
          "metadata": {},
          "output_type": "execute_result"
        }
      ],
      "source": [
        "df.groupby(\"Outcome\").agg({\"Age\":\"mean\"})"
      ]
    },
    {
      "cell_type": "markdown",
      "metadata": {
        "id": "YMxsTHACRPCx"
      },
      "source": [
        "<!-- Train Test split -->\n",
        "<!-- to train the data model, on given dataset, -->"
      ]
    },
    {
      "cell_type": "code",
      "execution_count": 145,
      "metadata": {
        "id": "IUCU9WLXRPCy"
      },
      "outputs": [],
      "source": [
        "from sklearn.model_selection import train_test_split\n",
        "\n",
        "features=df.drop(\"Outcome\",axis=1)\n",
        "Outcome_target=df[\"Outcome\"]\n",
        "A_train,A_test,B_train,B_test=train_test_split(features,Outcome_target,test_size=0.2,random_state=0)"
      ]
    },
    {
      "cell_type": "code",
      "execution_count": 146,
      "metadata": {
        "colab": {
          "base_uri": "https://localhost:8080/"
        },
        "id": "BUlu_oCERPCy",
        "outputId": "8ae57a17-a867-483f-ec4a-6fd1008407f7"
      },
      "outputs": [
        {
          "data": {
            "text/plain": [
              "(154, 8)"
            ]
          },
          "execution_count": 146,
          "metadata": {},
          "output_type": "execute_result"
        }
      ],
      "source": [
        "A_train.shape\n",
        "A_test.shape"
      ]
    },
    {
      "cell_type": "code",
      "execution_count": 147,
      "metadata": {
        "colab": {
          "base_uri": "https://localhost:8080/"
        },
        "id": "bBhUJ_BpRPCz",
        "outputId": "f6497482-93fe-49f0-a7e2-e8d8af252751"
      },
      "outputs": [
        {
          "data": {
            "text/plain": [
              "(614,)"
            ]
          },
          "execution_count": 147,
          "metadata": {},
          "output_type": "execute_result"
        }
      ],
      "source": [
        "B_train.shape\n",
        "B_train.shape"
      ]
    },
    {
      "cell_type": "code",
      "execution_count": 148,
      "metadata": {
        "colab": {
          "base_uri": "https://localhost:8080/"
        },
        "id": "SO6a32iqRPC0",
        "outputId": "7c25089a-5e3d-43c5-e2e4-41d56ad3f0cd"
      },
      "outputs": [
        {
          "name": "stdout",
          "output_type": "stream",
          "text": [
            "(768,)\n",
            "(768, 8)\n"
          ]
        }
      ],
      "source": [
        "y=df.Outcome\n",
        "X=df.drop('Outcome',axis=1)\n",
        "print(y.shape)\n",
        "print(X.shape)\n"
      ]
    },
    {
      "cell_type": "code",
      "execution_count": 149,
      "metadata": {
        "colab": {
          "base_uri": "https://localhost:8080/"
        },
        "id": "OSvKQymzRPC1",
        "outputId": "fccc8db0-cdb7-4580-9116-ecae627909eb"
      },
      "outputs": [
        {
          "name": "stdout",
          "output_type": "stream",
          "text": [
            "Shape of A_Train:(614, 8)\n",
            "Shape of A_Test:(154, 8)\n",
            "Shape of B_Train:(614,)\n",
            "Shape of B_Test:(154,)\n"
          ]
        }
      ],
      "source": [
        "print(\"Shape of A_Train:\"+str(A_train.shape))\n",
        "print(\"Shape of A_Test:\"+str(A_test.shape))\n",
        "print(\"Shape of B_Train:\"+str(B_train.shape))\n",
        "print(\"Shape of B_Test:\"+str(B_test.shape))"
      ]
    },
    {
      "cell_type": "code",
      "execution_count": 150,
      "metadata": {
        "id": "vlik7KE8RPC1"
      },
      "outputs": [],
      "source": [
        " # we are done with model initial stages, now let's fit model and apply the algorithms to check the accuracy"
      ]
    },
    {
      "cell_type": "code",
      "execution_count": 151,
      "metadata": {
        "id": "TmzkC7aQRPC2"
      },
      "outputs": [],
      "source": [
        "# LOGISTIC REGRESSION\n",
        "from sklearn.metrics import confusion_matrix, accuracy_score, mean_squared_error, r2_score, roc_auc_score, roc_curve, classification_report\n",
        "from sklearn.model_selection import train_test_split, GridSearchCV, cross_val_score\n",
        "from sklearn.metrics import recall_score,f1_score,precision_score"
      ]
    },
    {
      "cell_type": "code",
      "execution_count": 152,
      "metadata": {
        "id": "Gpkc1ewYRPC2"
      },
      "outputs": [],
      "source": [
        "from sklearn.preprocessing import StandardScaler\n",
        "from sklearn.linear_model import LogisticRegression\n",
        "\n",
        "scaler = StandardScaler()\n",
        "A_train_scaled = scaler.fit_transform(A_train)\n",
        "A_test_scaled = scaler.transform(A_test)\n",
        "\n",
        "LR = LogisticRegression()\n",
        "LR.fit(A_train_scaled, B_train)\n",
        "B_Pred_LR = LR.predict(A_test_scaled)"
      ]
    },
    {
      "cell_type": "code",
      "execution_count": 153,
      "metadata": {
        "colab": {
          "base_uri": "https://localhost:8080/"
        },
        "id": "Cg2FN3LGRPC3",
        "outputId": "58840c26-1738-4080-ed67-9f0c7020c81a"
      },
      "outputs": [
        {
          "data": {
            "text/plain": [
              "(154,)"
            ]
          },
          "execution_count": 153,
          "metadata": {},
          "output_type": "execute_result"
        }
      ],
      "source": [
        "B_Pred_LR.shape"
      ]
    },
    {
      "cell_type": "code",
      "execution_count": 154,
      "metadata": {
        "colab": {
          "base_uri": "https://localhost:8080/"
        },
        "id": "xlBtiLy6RPC4",
        "outputId": "2fa206b5-1aee-4397-cf45-abb4d1eda8a6"
      },
      "outputs": [
        {
          "name": "stdout",
          "output_type": "stream",
          "text": [
            "The accuracy score achived using Logistic Regression is 82.47 %\n"
          ]
        }
      ],
      "source": [
        "import sklearn.metrics as metrics\n",
        "Score_LR=round(accuracy_score(B_Pred_LR,B_test)*100,2)\n",
        "\n",
        "print(\"The accuracy score achived using Logistic Regression is \"+str(Score_LR)+\" %\")"
      ]
    },
    {
      "cell_type": "code",
      "execution_count": 155,
      "metadata": {
        "colab": {
          "base_uri": "https://localhost:8080/"
        },
        "id": "xIOwhcK1RPC4",
        "outputId": "f7da243d-4d73-434e-a816-0b42954b14db"
      },
      "outputs": [
        {
          "name": "stdout",
          "output_type": "stream",
          "text": [
            "[[98 18]\n",
            " [ 9 29]]\n",
            "              precision    recall  f1-score   support\n",
            "\n",
            "           0       0.84      0.92      0.88       107\n",
            "           1       0.76      0.62      0.68        47\n",
            "\n",
            "    accuracy                           0.82       154\n",
            "   macro avg       0.80      0.77      0.78       154\n",
            "weighted avg       0.82      0.82      0.82       154\n",
            "\n"
          ]
        }
      ],
      "source": [
        " print(metrics.confusion_matrix(B_Pred_LR,B_test))\n",
        "print(classification_report(B_test,B_Pred_LR))"
      ]
    },
    {
      "cell_type": "code",
      "execution_count": 156,
      "metadata": {
        "id": "un6xInJ4RPC5"
      },
      "outputs": [],
      "source": [
        "# NAIVE BAYES\n",
        "from sklearn.naive_bayes import GaussianNB\n",
        "nb=GaussianNB()\n",
        "nb.fit(A_train,B_train)\n",
        "B_Pred_nb=nb.predict(A_test)\n"
      ]
    },
    {
      "cell_type": "code",
      "execution_count": 157,
      "metadata": {
        "colab": {
          "base_uri": "https://localhost:8080/"
        },
        "id": "q3Ed791lRPC6",
        "outputId": "ccb3d54b-5785-45a0-e949-640236f1619a"
      },
      "outputs": [
        {
          "data": {
            "text/plain": [
              "(154,)"
            ]
          },
          "execution_count": 157,
          "metadata": {},
          "output_type": "execute_result"
        }
      ],
      "source": [
        " B_Pred_nb.shape\n"
      ]
    },
    {
      "cell_type": "code",
      "execution_count": 158,
      "metadata": {
        "colab": {
          "base_uri": "https://localhost:8080/"
        },
        "id": "X_Suf3v4RPC6",
        "outputId": "14ee7ebe-5c19-4c94-82c1-28e08f8c250f"
      },
      "outputs": [
        {
          "name": "stdout",
          "output_type": "stream",
          "text": [
            "The accuracy score achieved using Naive Bayes is: 79.22 %\n"
          ]
        }
      ],
      "source": [
        "score_nb=round(accuracy_score(B_Pred_nb,B_test)*100,2)\n",
        "print(\"The accuracy score achieved using Naive Bayes is: \"+str(score_nb)+\" %\")"
      ]
    },
    {
      "cell_type": "code",
      "execution_count": 159,
      "metadata": {
        "colab": {
          "base_uri": "https://localhost:8080/"
        },
        "id": "TTHfrqBkRPC7",
        "outputId": "4c6c8cd2-5354-4c6c-9069-5578d87bc22f"
      },
      "outputs": [
        {
          "name": "stdout",
          "output_type": "stream",
          "text": [
            "[[93 18]\n",
            " [14 29]]\n",
            "              precision    recall  f1-score   support\n",
            "\n",
            "           0       0.84      0.87      0.85       107\n",
            "           1       0.67      0.62      0.64        47\n",
            "\n",
            "    accuracy                           0.79       154\n",
            "   macro avg       0.76      0.74      0.75       154\n",
            "weighted avg       0.79      0.79      0.79       154\n",
            "\n"
          ]
        }
      ],
      "source": [
        "print(metrics.confusion_matrix(B_Pred_nb,B_test))\n",
        "print(classification_report(B_test,B_Pred_nb))"
      ]
    },
    {
      "cell_type": "code",
      "execution_count": 160,
      "metadata": {
        "id": "ZfW6XhJ5RPC7"
      },
      "outputs": [],
      "source": [
        "# now apply the support vector Machine(SVM)\n",
        "from sklearn import svm\n",
        "\n",
        "sv=svm.SVC(kernel='linear')\n",
        "sv.fit(A_train,B_train)\n",
        "B_Pred_svm=sv.predict(A_test)\n"
      ]
    },
    {
      "cell_type": "code",
      "execution_count": 161,
      "metadata": {
        "colab": {
          "base_uri": "https://localhost:8080/"
        },
        "id": "1UtJWvFfRPC7",
        "outputId": "ce9cdb16-e462-49f3-cadf-ff342e02b3b0"
      },
      "outputs": [
        {
          "data": {
            "text/plain": [
              "(154,)"
            ]
          },
          "execution_count": 161,
          "metadata": {},
          "output_type": "execute_result"
        }
      ],
      "source": [
        "B_Pred_svm.shape"
      ]
    },
    {
      "cell_type": "code",
      "execution_count": 162,
      "metadata": {
        "colab": {
          "base_uri": "https://localhost:8080/"
        },
        "id": "v-DyMHmiRPC8",
        "outputId": "651e51e6-ad25-4883-d3e2-e5ee675b391f"
      },
      "outputs": [
        {
          "name": "stdout",
          "output_type": "stream",
          "text": [
            "The accuracy score achieved using Linear SVM is: 81.82 %\n"
          ]
        }
      ],
      "source": [
        "score_svm=round(accuracy_score(B_Pred_svm,B_test)*100,2)\n",
        "print(\"The accuracy score achieved using Linear SVM is: \"+str(score_svm)+\" %\")"
      ]
    },
    {
      "cell_type": "code",
      "execution_count": 163,
      "metadata": {
        "colab": {
          "base_uri": "https://localhost:8080/"
        },
        "id": "k60iVZYZRPC8",
        "outputId": "4a76191e-ca9a-4eec-99e1-e2442fa48266"
      },
      "outputs": [
        {
          "name": "stdout",
          "output_type": "stream",
          "text": [
            "[[97 18]\n",
            " [10 29]]\n",
            "              precision    recall  f1-score   support\n",
            "\n",
            "           0       0.84      0.91      0.87       107\n",
            "           1       0.74      0.62      0.67        47\n",
            "\n",
            "    accuracy                           0.82       154\n",
            "   macro avg       0.79      0.76      0.77       154\n",
            "weighted avg       0.81      0.82      0.81       154\n",
            "\n"
          ]
        }
      ],
      "source": [
        "print(metrics.confusion_matrix(B_Pred_svm,B_test))\n",
        "print(classification_report(B_test,B_Pred_svm))"
      ]
    },
    {
      "cell_type": "code",
      "execution_count": 164,
      "metadata": {
        "id": "SB6DiTVURPC8"
      },
      "outputs": [],
      "source": [
        "# K-NEAREST NEIGHBOURS( KNN)\n",
        "from sklearn.neighbors import KNeighborsClassifier\n",
        "knn=KNeighborsClassifier(n_neighbors=9)\n",
        "knn.fit(A_train,B_train)\n",
        "B_Pred_knn=knn.predict(A_test)"
      ]
    },
    {
      "cell_type": "code",
      "execution_count": 165,
      "metadata": {
        "colab": {
          "base_uri": "https://localhost:8080/"
        },
        "id": "k4KmbmQoRPC9",
        "outputId": "fa1ce8e8-5010-4254-cb62-cbd4b1cdf602"
      },
      "outputs": [
        {
          "data": {
            "text/plain": [
              "(154,)"
            ]
          },
          "execution_count": 165,
          "metadata": {},
          "output_type": "execute_result"
        }
      ],
      "source": [
        "B_Pred_knn.shape"
      ]
    },
    {
      "cell_type": "code",
      "execution_count": 166,
      "metadata": {
        "colab": {
          "base_uri": "https://localhost:8080/"
        },
        "id": "Rh7BOoA8RPC9",
        "outputId": "27055c64-44ae-4fb6-b16a-d490307734cd"
      },
      "outputs": [
        {
          "name": "stdout",
          "output_type": "stream",
          "text": [
            "The accuracy score achieved using Linear SVM is: 77.27 %\n"
          ]
        }
      ],
      "source": [
        "score_knn=round(accuracy_score(B_Pred_knn,B_test)*100,2)\n",
        "print(\"The accuracy score achieved using Linear SVM is: \"+str(score_knn)+\" %\")"
      ]
    },
    {
      "cell_type": "code",
      "execution_count": 167,
      "metadata": {
        "colab": {
          "base_uri": "https://localhost:8080/"
        },
        "id": "5GOCVngJRPC-",
        "outputId": "036bf8a4-9ad5-4b75-c5f1-32c3c209c5c6"
      },
      "outputs": [
        {
          "name": "stdout",
          "output_type": "stream",
          "text": [
            "[[90 18]\n",
            " [17 29]]\n",
            "              precision    recall  f1-score   support\n",
            "\n",
            "           0       0.83      0.84      0.84       107\n",
            "           1       0.63      0.62      0.62        47\n",
            "\n",
            "    accuracy                           0.77       154\n",
            "   macro avg       0.73      0.73      0.73       154\n",
            "weighted avg       0.77      0.77      0.77       154\n",
            "\n"
          ]
        }
      ],
      "source": [
        "print(metrics.confusion_matrix(B_Pred_knn,B_test))\n",
        "print(classification_report(B_test,B_Pred_knn))"
      ]
    },
    {
      "cell_type": "code",
      "execution_count": 168,
      "metadata": {
        "colab": {
          "base_uri": "https://localhost:8080/"
        },
        "id": "efvbSWF1RPC-",
        "outputId": "5942c49b-1d28-4c75-b917-fe1eac3f6305"
      },
      "outputs": [
        {
          "data": {
            "text/plain": [
              "(154,)"
            ]
          },
          "execution_count": 168,
          "metadata": {},
          "output_type": "execute_result"
        }
      ],
      "source": [
        "#  APPLY THE RANDOM FOREST\n",
        "from sklearn.ensemble import RandomForestClassifier\n",
        "rf=RandomForestClassifier()\n",
        "rf.fit(A_train,B_train)\n",
        "B_Pred_rf=rf.predict(A_test)\n",
        "\n",
        "B_Pred_rf.shape"
      ]
    },
    {
      "cell_type": "code",
      "execution_count": 169,
      "metadata": {
        "colab": {
          "base_uri": "https://localhost:8080/"
        },
        "id": "vtmb6vxKRPC_",
        "outputId": "0b82b9c1-7df0-4eae-a177-4d98e93a7093"
      },
      "outputs": [
        {
          "name": "stdout",
          "output_type": "stream",
          "text": [
            "The accuracy score achieved using Decision Tree is: 81.17 %\n"
          ]
        }
      ],
      "source": [
        "score_rf=round(accuracy_score(B_Pred_rf,B_test)*100,2)\n",
        "print(\"The accuracy score achieved using Decision Tree is: \"+str(score_rf)+\" %\")"
      ]
    },
    {
      "cell_type": "code",
      "execution_count": 170,
      "metadata": {
        "colab": {
          "base_uri": "https://localhost:8080/"
        },
        "id": "1H8_jE9DRPC_",
        "outputId": "3905104d-41e8-4fd6-801b-947ec3e23a1f"
      },
      "outputs": [
        {
          "data": {
            "text/plain": [
              "(154,)"
            ]
          },
          "execution_count": 170,
          "metadata": {},
          "output_type": "execute_result"
        }
      ],
      "source": [
        "B_Pred_rf.shape"
      ]
    },
    {
      "cell_type": "code",
      "execution_count": 171,
      "metadata": {
        "colab": {
          "base_uri": "https://localhost:8080/"
        },
        "id": "kso2HntSRPC_",
        "outputId": "064a5e0c-6474-4862-9a97-afcf75e7ce3d"
      },
      "outputs": [
        {
          "name": "stdout",
          "output_type": "stream",
          "text": [
            "[[95 17]\n",
            " [12 30]]\n",
            "              precision    recall  f1-score   support\n",
            "\n",
            "           0       0.85      0.89      0.87       107\n",
            "           1       0.71      0.64      0.67        47\n",
            "\n",
            "    accuracy                           0.81       154\n",
            "   macro avg       0.78      0.76      0.77       154\n",
            "weighted avg       0.81      0.81      0.81       154\n",
            "\n"
          ]
        }
      ],
      "source": [
        "print(metrics.confusion_matrix(B_Pred_rf,B_test))\n",
        "print(classification_report(B_test,B_Pred_rf))"
      ]
    },
    {
      "cell_type": "code",
      "execution_count": 172,
      "metadata": {
        "id": "bgQ7fwKLRPDA"
      },
      "outputs": [],
      "source": [
        "from keras.models import Sequential\n",
        "from keras.layers import Dense"
      ]
    },
    {
      "cell_type": "code",
      "execution_count": 173,
      "metadata": {
        "id": "uRfPb5-9RPDA"
      },
      "outputs": [],
      "source": [
        "model=Sequential()\n",
        "model.add(Dense(12,activation=\"relu\",input_dim=8))\n",
        "model.add(Dense(8,activation=\"relu\"))\n",
        "model.add(Dense(1,activation=\"sigmoid\"))\n",
        "#Compile the model\n",
        "model.compile(loss=\"binary_crossentropy\",optimizer=\"adam\",metrics=[\"accuracy\"])\n"
      ]
    },
    {
      "cell_type": "code",
      "execution_count": 174,
      "metadata": {
        "colab": {
          "base_uri": "https://localhost:8080/"
        },
        "id": "VcyFX7_jRPDA",
        "outputId": "59657cb8-5f0b-4078-c5f4-725db50fb546"
      },
      "outputs": [
        {
          "name": "stdout",
          "output_type": "stream",
          "text": [
            "Epoch 1/768\n"
          ]
        },
        {
          "name": "stdout",
          "output_type": "stream",
          "text": [
            "62/62 [==============================] - 3s 4ms/step - loss: 4.8486 - accuracy: 0.5668\n",
            "Epoch 2/768\n",
            "62/62 [==============================] - 0s 4ms/step - loss: 1.2375 - accuracy: 0.5163\n",
            "Epoch 3/768\n",
            "62/62 [==============================] - 0s 4ms/step - loss: 0.8825 - accuracy: 0.6059\n",
            "Epoch 4/768\n",
            "62/62 [==============================] - 0s 4ms/step - loss: 0.7657 - accuracy: 0.6401\n",
            "Epoch 5/768\n",
            "62/62 [==============================] - 0s 4ms/step - loss: 0.7290 - accuracy: 0.6221\n",
            "Epoch 6/768\n",
            "62/62 [==============================] - 1s 9ms/step - loss: 0.6682 - accuracy: 0.6596\n",
            "Epoch 7/768\n",
            "62/62 [==============================] - 1s 9ms/step - loss: 0.6894 - accuracy: 0.6661\n",
            "Epoch 8/768\n",
            "62/62 [==============================] - 0s 8ms/step - loss: 0.6479 - accuracy: 0.6759\n",
            "Epoch 9/768\n",
            "62/62 [==============================] - 0s 8ms/step - loss: 0.6426 - accuracy: 0.6629\n",
            "Epoch 10/768\n",
            "62/62 [==============================] - 0s 7ms/step - loss: 0.6484 - accuracy: 0.6726\n",
            "Epoch 11/768\n",
            "62/62 [==============================] - 0s 8ms/step - loss: 0.6333 - accuracy: 0.6808\n",
            "Epoch 12/768\n",
            "62/62 [==============================] - 0s 5ms/step - loss: 0.6175 - accuracy: 0.6922\n",
            "Epoch 13/768\n",
            "62/62 [==============================] - 0s 5ms/step - loss: 0.6270 - accuracy: 0.6824\n",
            "Epoch 14/768\n",
            "62/62 [==============================] - 0s 5ms/step - loss: 0.5970 - accuracy: 0.6824\n",
            "Epoch 15/768\n",
            "62/62 [==============================] - 0s 5ms/step - loss: 0.5923 - accuracy: 0.7068\n",
            "Epoch 16/768\n",
            "62/62 [==============================] - 0s 5ms/step - loss: 0.6101 - accuracy: 0.6840\n",
            "Epoch 17/768\n",
            "62/62 [==============================] - 0s 5ms/step - loss: 0.6643 - accuracy: 0.6580\n",
            "Epoch 18/768\n",
            "62/62 [==============================] - 1s 11ms/step - loss: 0.5893 - accuracy: 0.7134\n",
            "Epoch 19/768\n",
            "62/62 [==============================] - 1s 13ms/step - loss: 0.5943 - accuracy: 0.6906\n",
            "Epoch 20/768\n",
            "62/62 [==============================] - 1s 8ms/step - loss: 0.5816 - accuracy: 0.7231\n",
            "Epoch 21/768\n",
            "62/62 [==============================] - 0s 8ms/step - loss: 0.5886 - accuracy: 0.6938\n",
            "Epoch 22/768\n",
            "62/62 [==============================] - 0s 7ms/step - loss: 0.5809 - accuracy: 0.7296\n",
            "Epoch 23/768\n",
            "62/62 [==============================] - 0s 5ms/step - loss: 0.6092 - accuracy: 0.6857\n",
            "Epoch 24/768\n",
            "62/62 [==============================] - 0s 5ms/step - loss: 0.5868 - accuracy: 0.7085\n",
            "Epoch 25/768\n",
            "62/62 [==============================] - 0s 4ms/step - loss: 0.5685 - accuracy: 0.7085\n",
            "Epoch 26/768\n",
            "62/62 [==============================] - 0s 4ms/step - loss: 0.5854 - accuracy: 0.7052\n",
            "Epoch 27/768\n",
            "62/62 [==============================] - 0s 4ms/step - loss: 0.5878 - accuracy: 0.7068\n",
            "Epoch 28/768\n",
            "62/62 [==============================] - 0s 4ms/step - loss: 0.5837 - accuracy: 0.7052\n",
            "Epoch 29/768\n",
            "62/62 [==============================] - 0s 4ms/step - loss: 0.5894 - accuracy: 0.7231\n",
            "Epoch 30/768\n",
            "62/62 [==============================] - 0s 4ms/step - loss: 0.5643 - accuracy: 0.6971\n",
            "Epoch 31/768\n",
            "62/62 [==============================] - 0s 4ms/step - loss: 0.5739 - accuracy: 0.7215\n",
            "Epoch 32/768\n",
            "62/62 [==============================] - 0s 3ms/step - loss: 0.5585 - accuracy: 0.7199\n",
            "Epoch 33/768\n",
            "62/62 [==============================] - 0s 2ms/step - loss: 0.5617 - accuracy: 0.7378\n",
            "Epoch 34/768\n",
            "62/62 [==============================] - 0s 2ms/step - loss: 0.5645 - accuracy: 0.7068\n",
            "Epoch 35/768\n",
            "62/62 [==============================] - 0s 2ms/step - loss: 0.5908 - accuracy: 0.6792\n",
            "Epoch 36/768\n",
            "62/62 [==============================] - 0s 2ms/step - loss: 0.5597 - accuracy: 0.7134\n",
            "Epoch 37/768\n",
            "62/62 [==============================] - 0s 2ms/step - loss: 0.5690 - accuracy: 0.7085\n",
            "Epoch 38/768\n",
            "62/62 [==============================] - 0s 2ms/step - loss: 0.5729 - accuracy: 0.7215\n",
            "Epoch 39/768\n",
            "62/62 [==============================] - 0s 2ms/step - loss: 0.5635 - accuracy: 0.7166\n",
            "Epoch 40/768\n",
            "62/62 [==============================] - 0s 2ms/step - loss: 0.5929 - accuracy: 0.7134\n",
            "Epoch 41/768\n",
            "62/62 [==============================] - 0s 3ms/step - loss: 0.5767 - accuracy: 0.7134\n",
            "Epoch 42/768\n",
            "62/62 [==============================] - 0s 3ms/step - loss: 0.5799 - accuracy: 0.7134\n",
            "Epoch 43/768\n",
            "62/62 [==============================] - 0s 3ms/step - loss: 0.5489 - accuracy: 0.7182\n",
            "Epoch 44/768\n",
            "62/62 [==============================] - 0s 3ms/step - loss: 0.5456 - accuracy: 0.7231\n",
            "Epoch 45/768\n",
            "62/62 [==============================] - 0s 3ms/step - loss: 0.5471 - accuracy: 0.7264\n",
            "Epoch 46/768\n",
            "62/62 [==============================] - 0s 3ms/step - loss: 0.5393 - accuracy: 0.7492\n",
            "Epoch 47/768\n",
            "62/62 [==============================] - 0s 3ms/step - loss: 0.5483 - accuracy: 0.7296\n",
            "Epoch 48/768\n",
            "62/62 [==============================] - 0s 3ms/step - loss: 0.5432 - accuracy: 0.7264\n",
            "Epoch 49/768\n",
            "62/62 [==============================] - 0s 3ms/step - loss: 0.5471 - accuracy: 0.7215\n",
            "Epoch 50/768\n",
            "62/62 [==============================] - 0s 2ms/step - loss: 0.5415 - accuracy: 0.7280\n",
            "Epoch 51/768\n",
            "62/62 [==============================] - 0s 2ms/step - loss: 0.5463 - accuracy: 0.7280\n",
            "Epoch 52/768\n",
            "62/62 [==============================] - 0s 3ms/step - loss: 0.5693 - accuracy: 0.7117\n",
            "Epoch 53/768\n",
            "62/62 [==============================] - 0s 2ms/step - loss: 0.5404 - accuracy: 0.7199\n",
            "Epoch 54/768\n",
            "62/62 [==============================] - 0s 2ms/step - loss: 0.5486 - accuracy: 0.7150\n",
            "Epoch 55/768\n",
            "62/62 [==============================] - 0s 2ms/step - loss: 0.5733 - accuracy: 0.7117\n",
            "Epoch 56/768\n",
            "62/62 [==============================] - 0s 3ms/step - loss: 0.5393 - accuracy: 0.7329\n",
            "Epoch 57/768\n",
            "62/62 [==============================] - 0s 2ms/step - loss: 0.5465 - accuracy: 0.7199\n",
            "Epoch 58/768\n",
            "62/62 [==============================] - 0s 2ms/step - loss: 0.5868 - accuracy: 0.7264\n",
            "Epoch 59/768\n",
            "62/62 [==============================] - 0s 2ms/step - loss: 0.5334 - accuracy: 0.7410\n",
            "Epoch 60/768\n",
            "62/62 [==============================] - 0s 2ms/step - loss: 0.5397 - accuracy: 0.7362\n",
            "Epoch 61/768\n",
            "62/62 [==============================] - 0s 2ms/step - loss: 0.5355 - accuracy: 0.7264\n",
            "Epoch 62/768\n",
            "62/62 [==============================] - 0s 2ms/step - loss: 0.5364 - accuracy: 0.7329\n",
            "Epoch 63/768\n",
            "62/62 [==============================] - 0s 2ms/step - loss: 0.5345 - accuracy: 0.7329\n",
            "Epoch 64/768\n",
            "62/62 [==============================] - 0s 2ms/step - loss: 0.5300 - accuracy: 0.7378\n",
            "Epoch 65/768\n",
            "62/62 [==============================] - 0s 2ms/step - loss: 0.5429 - accuracy: 0.7345\n",
            "Epoch 66/768\n",
            "62/62 [==============================] - 0s 3ms/step - loss: 0.5272 - accuracy: 0.7296\n",
            "Epoch 67/768\n",
            "62/62 [==============================] - 0s 2ms/step - loss: 0.5299 - accuracy: 0.7378\n",
            "Epoch 68/768\n",
            "62/62 [==============================] - 0s 2ms/step - loss: 0.5531 - accuracy: 0.7313\n",
            "Epoch 69/768\n",
            "62/62 [==============================] - 0s 2ms/step - loss: 0.5498 - accuracy: 0.7329\n",
            "Epoch 70/768\n",
            "62/62 [==============================] - 0s 2ms/step - loss: 0.5318 - accuracy: 0.7280\n",
            "Epoch 71/768\n",
            "62/62 [==============================] - 0s 2ms/step - loss: 0.5293 - accuracy: 0.7345\n",
            "Epoch 72/768\n",
            "62/62 [==============================] - 0s 2ms/step - loss: 0.5491 - accuracy: 0.7313\n",
            "Epoch 73/768\n",
            "62/62 [==============================] - 0s 2ms/step - loss: 0.5171 - accuracy: 0.7378\n",
            "Epoch 74/768\n",
            "62/62 [==============================] - 0s 2ms/step - loss: 0.5543 - accuracy: 0.7199\n",
            "Epoch 75/768\n",
            "62/62 [==============================] - 0s 2ms/step - loss: 0.5334 - accuracy: 0.7410\n",
            "Epoch 76/768\n",
            "62/62 [==============================] - 0s 2ms/step - loss: 0.5316 - accuracy: 0.7264\n",
            "Epoch 77/768\n",
            "62/62 [==============================] - 0s 2ms/step - loss: 0.5273 - accuracy: 0.7345\n",
            "Epoch 78/768\n",
            "62/62 [==============================] - 0s 2ms/step - loss: 0.5267 - accuracy: 0.7492\n",
            "Epoch 79/768\n",
            "62/62 [==============================] - 0s 2ms/step - loss: 0.5183 - accuracy: 0.7476\n",
            "Epoch 80/768\n",
            "62/62 [==============================] - 0s 2ms/step - loss: 0.5280 - accuracy: 0.7345\n",
            "Epoch 81/768\n",
            "62/62 [==============================] - 0s 2ms/step - loss: 0.5421 - accuracy: 0.7199\n",
            "Epoch 82/768\n",
            "62/62 [==============================] - 0s 2ms/step - loss: 0.5195 - accuracy: 0.7394\n",
            "Epoch 83/768\n",
            "62/62 [==============================] - 0s 2ms/step - loss: 0.5307 - accuracy: 0.7557\n",
            "Epoch 84/768\n",
            "62/62 [==============================] - 0s 2ms/step - loss: 0.5150 - accuracy: 0.7410\n",
            "Epoch 85/768\n",
            "62/62 [==============================] - 0s 2ms/step - loss: 0.5346 - accuracy: 0.7199\n",
            "Epoch 86/768\n",
            "62/62 [==============================] - 0s 2ms/step - loss: 0.5309 - accuracy: 0.7362\n",
            "Epoch 87/768\n",
            "62/62 [==============================] - 0s 2ms/step - loss: 0.5112 - accuracy: 0.7427\n",
            "Epoch 88/768\n",
            "62/62 [==============================] - 0s 2ms/step - loss: 0.5319 - accuracy: 0.7459\n",
            "Epoch 89/768\n",
            "62/62 [==============================] - 0s 2ms/step - loss: 0.5452 - accuracy: 0.7231\n",
            "Epoch 90/768\n",
            "62/62 [==============================] - 0s 2ms/step - loss: 0.5244 - accuracy: 0.7427\n",
            "Epoch 91/768\n",
            "62/62 [==============================] - 0s 2ms/step - loss: 0.5339 - accuracy: 0.7345\n",
            "Epoch 92/768\n",
            "62/62 [==============================] - 0s 2ms/step - loss: 0.5168 - accuracy: 0.7508\n",
            "Epoch 93/768\n",
            "62/62 [==============================] - 0s 2ms/step - loss: 0.5137 - accuracy: 0.7476\n",
            "Epoch 94/768\n",
            "62/62 [==============================] - 0s 2ms/step - loss: 0.5164 - accuracy: 0.7313\n",
            "Epoch 95/768\n",
            "62/62 [==============================] - 0s 2ms/step - loss: 0.5251 - accuracy: 0.7557\n",
            "Epoch 96/768\n",
            "62/62 [==============================] - 0s 2ms/step - loss: 0.5267 - accuracy: 0.7410\n",
            "Epoch 97/768\n",
            "62/62 [==============================] - 0s 2ms/step - loss: 0.5177 - accuracy: 0.7362\n",
            "Epoch 98/768\n",
            "62/62 [==============================] - 0s 2ms/step - loss: 0.5195 - accuracy: 0.7476\n",
            "Epoch 99/768\n",
            "62/62 [==============================] - 0s 2ms/step - loss: 0.5288 - accuracy: 0.7362\n",
            "Epoch 100/768\n",
            "62/62 [==============================] - 0s 3ms/step - loss: 0.5108 - accuracy: 0.7492\n",
            "Epoch 101/768\n",
            "62/62 [==============================] - 0s 2ms/step - loss: 0.5221 - accuracy: 0.7476\n",
            "Epoch 102/768\n",
            "62/62 [==============================] - 0s 2ms/step - loss: 0.5204 - accuracy: 0.7231\n",
            "Epoch 103/768\n",
            "62/62 [==============================] - 0s 2ms/step - loss: 0.5176 - accuracy: 0.7541\n",
            "Epoch 104/768\n",
            "62/62 [==============================] - 0s 2ms/step - loss: 0.5095 - accuracy: 0.7476\n",
            "Epoch 105/768\n",
            "62/62 [==============================] - 0s 2ms/step - loss: 0.5208 - accuracy: 0.7443\n",
            "Epoch 106/768\n",
            "62/62 [==============================] - 0s 2ms/step - loss: 0.5179 - accuracy: 0.7427\n",
            "Epoch 107/768\n",
            "62/62 [==============================] - 0s 2ms/step - loss: 0.5354 - accuracy: 0.7313\n",
            "Epoch 108/768\n",
            "62/62 [==============================] - 0s 2ms/step - loss: 0.5286 - accuracy: 0.7427\n",
            "Epoch 109/768\n",
            "62/62 [==============================] - 0s 2ms/step - loss: 0.5320 - accuracy: 0.7313\n",
            "Epoch 110/768\n",
            "62/62 [==============================] - 0s 2ms/step - loss: 0.4982 - accuracy: 0.7638\n",
            "Epoch 111/768\n",
            "62/62 [==============================] - 0s 2ms/step - loss: 0.5043 - accuracy: 0.7655\n",
            "Epoch 112/768\n",
            "62/62 [==============================] - 0s 2ms/step - loss: 0.5039 - accuracy: 0.7687\n",
            "Epoch 113/768\n",
            "62/62 [==============================] - 0s 2ms/step - loss: 0.5140 - accuracy: 0.7557\n",
            "Epoch 114/768\n",
            "62/62 [==============================] - 0s 2ms/step - loss: 0.5102 - accuracy: 0.7329\n",
            "Epoch 115/768\n",
            "62/62 [==============================] - 0s 2ms/step - loss: 0.5077 - accuracy: 0.7459\n",
            "Epoch 116/768\n",
            "62/62 [==============================] - 0s 2ms/step - loss: 0.5304 - accuracy: 0.7215\n",
            "Epoch 117/768\n",
            "62/62 [==============================] - 0s 2ms/step - loss: 0.5025 - accuracy: 0.7476\n",
            "Epoch 118/768\n",
            "62/62 [==============================] - 0s 2ms/step - loss: 0.5002 - accuracy: 0.7590\n",
            "Epoch 119/768\n",
            "62/62 [==============================] - 0s 2ms/step - loss: 0.5121 - accuracy: 0.7329\n",
            "Epoch 120/768\n",
            "62/62 [==============================] - 0s 2ms/step - loss: 0.4986 - accuracy: 0.7492\n",
            "Epoch 121/768\n",
            "62/62 [==============================] - 0s 2ms/step - loss: 0.4927 - accuracy: 0.7590\n",
            "Epoch 122/768\n",
            "62/62 [==============================] - 0s 2ms/step - loss: 0.4952 - accuracy: 0.7606\n",
            "Epoch 123/768\n",
            "62/62 [==============================] - 0s 2ms/step - loss: 0.4971 - accuracy: 0.7557\n",
            "Epoch 124/768\n",
            "62/62 [==============================] - 0s 2ms/step - loss: 0.5069 - accuracy: 0.7378\n",
            "Epoch 125/768\n",
            "62/62 [==============================] - 0s 2ms/step - loss: 0.4917 - accuracy: 0.7687\n",
            "Epoch 126/768\n",
            "62/62 [==============================] - 0s 2ms/step - loss: 0.4950 - accuracy: 0.7590\n",
            "Epoch 127/768\n",
            "62/62 [==============================] - 0s 2ms/step - loss: 0.5014 - accuracy: 0.7541\n",
            "Epoch 128/768\n",
            "62/62 [==============================] - 0s 2ms/step - loss: 0.5082 - accuracy: 0.7492\n",
            "Epoch 129/768\n",
            "62/62 [==============================] - 0s 2ms/step - loss: 0.5138 - accuracy: 0.7378\n",
            "Epoch 130/768\n",
            "62/62 [==============================] - 0s 2ms/step - loss: 0.4916 - accuracy: 0.7573\n",
            "Epoch 131/768\n",
            "62/62 [==============================] - 0s 2ms/step - loss: 0.4941 - accuracy: 0.7443\n",
            "Epoch 132/768\n",
            "62/62 [==============================] - 0s 3ms/step - loss: 0.5032 - accuracy: 0.7573\n",
            "Epoch 133/768\n",
            "62/62 [==============================] - 0s 2ms/step - loss: 0.4920 - accuracy: 0.7655\n",
            "Epoch 134/768\n",
            "62/62 [==============================] - 0s 2ms/step - loss: 0.4887 - accuracy: 0.7720\n",
            "Epoch 135/768\n",
            "62/62 [==============================] - 0s 2ms/step - loss: 0.4880 - accuracy: 0.7687\n",
            "Epoch 136/768\n",
            "62/62 [==============================] - 0s 2ms/step - loss: 0.5037 - accuracy: 0.7720\n",
            "Epoch 137/768\n",
            "62/62 [==============================] - 0s 2ms/step - loss: 0.4983 - accuracy: 0.7590\n",
            "Epoch 138/768\n",
            "62/62 [==============================] - 0s 2ms/step - loss: 0.4867 - accuracy: 0.7590\n",
            "Epoch 139/768\n",
            "62/62 [==============================] - 0s 2ms/step - loss: 0.4944 - accuracy: 0.7492\n",
            "Epoch 140/768\n",
            "62/62 [==============================] - 0s 2ms/step - loss: 0.4960 - accuracy: 0.7655\n",
            "Epoch 141/768\n",
            "62/62 [==============================] - 0s 2ms/step - loss: 0.5045 - accuracy: 0.7541\n",
            "Epoch 142/768\n",
            "62/62 [==============================] - 0s 2ms/step - loss: 0.4883 - accuracy: 0.7638\n",
            "Epoch 143/768\n",
            "62/62 [==============================] - 0s 2ms/step - loss: 0.5034 - accuracy: 0.7345\n",
            "Epoch 144/768\n",
            "62/62 [==============================] - 0s 2ms/step - loss: 0.4831 - accuracy: 0.7573\n",
            "Epoch 145/768\n",
            "62/62 [==============================] - 0s 2ms/step - loss: 0.4958 - accuracy: 0.7622\n",
            "Epoch 146/768\n",
            "62/62 [==============================] - 0s 2ms/step - loss: 0.4804 - accuracy: 0.7622\n",
            "Epoch 147/768\n",
            "62/62 [==============================] - 0s 2ms/step - loss: 0.4949 - accuracy: 0.7606\n",
            "Epoch 148/768\n",
            "62/62 [==============================] - 0s 2ms/step - loss: 0.4862 - accuracy: 0.7704\n",
            "Epoch 149/768\n",
            "62/62 [==============================] - 0s 2ms/step - loss: 0.4865 - accuracy: 0.7524\n",
            "Epoch 150/768\n",
            "62/62 [==============================] - 0s 3ms/step - loss: 0.4787 - accuracy: 0.7606\n",
            "Epoch 151/768\n",
            "62/62 [==============================] - 0s 2ms/step - loss: 0.4802 - accuracy: 0.7638\n",
            "Epoch 152/768\n",
            "62/62 [==============================] - 0s 2ms/step - loss: 0.4908 - accuracy: 0.7606\n",
            "Epoch 153/768\n",
            "62/62 [==============================] - 0s 2ms/step - loss: 0.4917 - accuracy: 0.7769\n",
            "Epoch 154/768\n",
            "62/62 [==============================] - 0s 2ms/step - loss: 0.4849 - accuracy: 0.7752\n",
            "Epoch 155/768\n",
            "62/62 [==============================] - 0s 2ms/step - loss: 0.4869 - accuracy: 0.7720\n",
            "Epoch 156/768\n",
            "62/62 [==============================] - 0s 2ms/step - loss: 0.4925 - accuracy: 0.7606\n",
            "Epoch 157/768\n",
            "62/62 [==============================] - 0s 2ms/step - loss: 0.4828 - accuracy: 0.7704\n",
            "Epoch 158/768\n",
            "62/62 [==============================] - 0s 2ms/step - loss: 0.4769 - accuracy: 0.7785\n",
            "Epoch 159/768\n",
            "62/62 [==============================] - 0s 2ms/step - loss: 0.4843 - accuracy: 0.7606\n",
            "Epoch 160/768\n",
            "62/62 [==============================] - 0s 3ms/step - loss: 0.4910 - accuracy: 0.7704\n",
            "Epoch 161/768\n",
            "62/62 [==============================] - 0s 2ms/step - loss: 0.4913 - accuracy: 0.7524\n",
            "Epoch 162/768\n",
            "62/62 [==============================] - 0s 2ms/step - loss: 0.4915 - accuracy: 0.7590\n",
            "Epoch 163/768\n",
            "62/62 [==============================] - 0s 2ms/step - loss: 0.4893 - accuracy: 0.7736\n",
            "Epoch 164/768\n",
            "62/62 [==============================] - 0s 2ms/step - loss: 0.4966 - accuracy: 0.7557\n",
            "Epoch 165/768\n",
            "62/62 [==============================] - 0s 2ms/step - loss: 0.4843 - accuracy: 0.7801\n",
            "Epoch 166/768\n",
            "62/62 [==============================] - 0s 2ms/step - loss: 0.4761 - accuracy: 0.7915\n",
            "Epoch 167/768\n",
            "62/62 [==============================] - 0s 2ms/step - loss: 0.4765 - accuracy: 0.7866\n",
            "Epoch 168/768\n",
            "62/62 [==============================] - 0s 2ms/step - loss: 0.4777 - accuracy: 0.7752\n",
            "Epoch 169/768\n",
            "62/62 [==============================] - 0s 2ms/step - loss: 0.4985 - accuracy: 0.7410\n",
            "Epoch 170/768\n",
            "62/62 [==============================] - 0s 2ms/step - loss: 0.4801 - accuracy: 0.7590\n",
            "Epoch 171/768\n",
            "62/62 [==============================] - 0s 2ms/step - loss: 0.4841 - accuracy: 0.7541\n",
            "Epoch 172/768\n",
            "62/62 [==============================] - 0s 2ms/step - loss: 0.4745 - accuracy: 0.7720\n",
            "Epoch 173/768\n",
            "62/62 [==============================] - 0s 2ms/step - loss: 0.4798 - accuracy: 0.7769\n",
            "Epoch 174/768\n",
            "62/62 [==============================] - 0s 2ms/step - loss: 0.4846 - accuracy: 0.7541\n",
            "Epoch 175/768\n",
            "62/62 [==============================] - 0s 2ms/step - loss: 0.4747 - accuracy: 0.7818\n",
            "Epoch 176/768\n",
            "62/62 [==============================] - 0s 2ms/step - loss: 0.4791 - accuracy: 0.7671\n",
            "Epoch 177/768\n",
            "62/62 [==============================] - 0s 2ms/step - loss: 0.4781 - accuracy: 0.7704\n",
            "Epoch 178/768\n",
            "62/62 [==============================] - 0s 2ms/step - loss: 0.4846 - accuracy: 0.7752\n",
            "Epoch 179/768\n",
            "62/62 [==============================] - 0s 2ms/step - loss: 0.4781 - accuracy: 0.7671\n",
            "Epoch 180/768\n",
            "62/62 [==============================] - 0s 2ms/step - loss: 0.4985 - accuracy: 0.7492\n",
            "Epoch 181/768\n",
            "62/62 [==============================] - 0s 2ms/step - loss: 0.4809 - accuracy: 0.7687\n",
            "Epoch 182/768\n",
            "62/62 [==============================] - 0s 2ms/step - loss: 0.4772 - accuracy: 0.7655\n",
            "Epoch 183/768\n",
            "62/62 [==============================] - 0s 2ms/step - loss: 0.4706 - accuracy: 0.7752\n",
            "Epoch 184/768\n",
            "62/62 [==============================] - 0s 2ms/step - loss: 0.4801 - accuracy: 0.7720\n",
            "Epoch 185/768\n",
            "62/62 [==============================] - 0s 2ms/step - loss: 0.4745 - accuracy: 0.7671\n",
            "Epoch 186/768\n",
            "62/62 [==============================] - 0s 2ms/step - loss: 0.4700 - accuracy: 0.7866\n",
            "Epoch 187/768\n",
            "62/62 [==============================] - 0s 2ms/step - loss: 0.4997 - accuracy: 0.7573\n",
            "Epoch 188/768\n",
            "62/62 [==============================] - 0s 2ms/step - loss: 0.4860 - accuracy: 0.7801\n",
            "Epoch 189/768\n",
            "62/62 [==============================] - 0s 2ms/step - loss: 0.4716 - accuracy: 0.7752\n",
            "Epoch 190/768\n",
            "62/62 [==============================] - 0s 2ms/step - loss: 0.4847 - accuracy: 0.7752\n",
            "Epoch 191/768\n",
            "62/62 [==============================] - 0s 2ms/step - loss: 0.4773 - accuracy: 0.7736\n",
            "Epoch 192/768\n",
            "62/62 [==============================] - 0s 2ms/step - loss: 0.4755 - accuracy: 0.7736\n",
            "Epoch 193/768\n",
            "62/62 [==============================] - 0s 2ms/step - loss: 0.4743 - accuracy: 0.7590\n",
            "Epoch 194/768\n",
            "62/62 [==============================] - 0s 2ms/step - loss: 0.4644 - accuracy: 0.7801\n",
            "Epoch 195/768\n",
            "62/62 [==============================] - 0s 2ms/step - loss: 0.4642 - accuracy: 0.7736\n",
            "Epoch 196/768\n",
            "62/62 [==============================] - 0s 2ms/step - loss: 0.4641 - accuracy: 0.7769\n",
            "Epoch 197/768\n",
            "62/62 [==============================] - 0s 2ms/step - loss: 0.4735 - accuracy: 0.7801\n",
            "Epoch 198/768\n",
            "62/62 [==============================] - 0s 2ms/step - loss: 0.4813 - accuracy: 0.7769\n",
            "Epoch 199/768\n",
            "62/62 [==============================] - 0s 2ms/step - loss: 0.4692 - accuracy: 0.7704\n",
            "Epoch 200/768\n",
            "62/62 [==============================] - 0s 2ms/step - loss: 0.4721 - accuracy: 0.7720\n",
            "Epoch 201/768\n",
            "62/62 [==============================] - 0s 2ms/step - loss: 0.4757 - accuracy: 0.7720\n",
            "Epoch 202/768\n",
            "62/62 [==============================] - 0s 2ms/step - loss: 0.4936 - accuracy: 0.7704\n",
            "Epoch 203/768\n",
            "62/62 [==============================] - 0s 2ms/step - loss: 0.4753 - accuracy: 0.7752\n",
            "Epoch 204/768\n",
            "62/62 [==============================] - 0s 2ms/step - loss: 0.4773 - accuracy: 0.7736\n",
            "Epoch 205/768\n",
            "62/62 [==============================] - 0s 2ms/step - loss: 0.4666 - accuracy: 0.7818\n",
            "Epoch 206/768\n",
            "62/62 [==============================] - 0s 2ms/step - loss: 0.4814 - accuracy: 0.7655\n",
            "Epoch 207/768\n",
            "62/62 [==============================] - 0s 3ms/step - loss: 0.4736 - accuracy: 0.7720\n",
            "Epoch 208/768\n",
            "62/62 [==============================] - 0s 2ms/step - loss: 0.4688 - accuracy: 0.7671\n",
            "Epoch 209/768\n",
            "62/62 [==============================] - 0s 2ms/step - loss: 0.4755 - accuracy: 0.7769\n",
            "Epoch 210/768\n",
            "62/62 [==============================] - 0s 2ms/step - loss: 0.4640 - accuracy: 0.7866\n",
            "Epoch 211/768\n",
            "62/62 [==============================] - 0s 3ms/step - loss: 0.4701 - accuracy: 0.7736\n",
            "Epoch 212/768\n",
            "62/62 [==============================] - 0s 2ms/step - loss: 0.4742 - accuracy: 0.7638\n",
            "Epoch 213/768\n",
            "62/62 [==============================] - 0s 2ms/step - loss: 0.4657 - accuracy: 0.7687\n",
            "Epoch 214/768\n",
            "62/62 [==============================] - 0s 2ms/step - loss: 0.4636 - accuracy: 0.7834\n",
            "Epoch 215/768\n",
            "62/62 [==============================] - 0s 2ms/step - loss: 0.4811 - accuracy: 0.7541\n",
            "Epoch 216/768\n",
            "62/62 [==============================] - 0s 2ms/step - loss: 0.4670 - accuracy: 0.7883\n",
            "Epoch 217/768\n",
            "62/62 [==============================] - 0s 2ms/step - loss: 0.4658 - accuracy: 0.7736\n",
            "Epoch 218/768\n",
            "62/62 [==============================] - 0s 2ms/step - loss: 0.4620 - accuracy: 0.7769\n",
            "Epoch 219/768\n",
            "62/62 [==============================] - 0s 2ms/step - loss: 0.4703 - accuracy: 0.7866\n",
            "Epoch 220/768\n",
            "62/62 [==============================] - 0s 2ms/step - loss: 0.4796 - accuracy: 0.7752\n",
            "Epoch 221/768\n",
            "62/62 [==============================] - 0s 2ms/step - loss: 0.4666 - accuracy: 0.7915\n",
            "Epoch 222/768\n",
            "62/62 [==============================] - 0s 2ms/step - loss: 0.4700 - accuracy: 0.7834\n",
            "Epoch 223/768\n",
            "62/62 [==============================] - 0s 2ms/step - loss: 0.4581 - accuracy: 0.7801\n",
            "Epoch 224/768\n",
            "62/62 [==============================] - 0s 2ms/step - loss: 0.4670 - accuracy: 0.7769\n",
            "Epoch 225/768\n",
            "62/62 [==============================] - 0s 2ms/step - loss: 0.4607 - accuracy: 0.7948\n",
            "Epoch 226/768\n",
            "62/62 [==============================] - 0s 2ms/step - loss: 0.4730 - accuracy: 0.7655\n",
            "Epoch 227/768\n",
            "62/62 [==============================] - 0s 2ms/step - loss: 0.4599 - accuracy: 0.7866\n",
            "Epoch 228/768\n",
            "62/62 [==============================] - 0s 2ms/step - loss: 0.4667 - accuracy: 0.7752\n",
            "Epoch 229/768\n",
            "62/62 [==============================] - 0s 3ms/step - loss: 0.4545 - accuracy: 0.7769\n",
            "Epoch 230/768\n",
            "62/62 [==============================] - 0s 2ms/step - loss: 0.4546 - accuracy: 0.7948\n",
            "Epoch 231/768\n",
            "62/62 [==============================] - 0s 2ms/step - loss: 0.4629 - accuracy: 0.7801\n",
            "Epoch 232/768\n",
            "62/62 [==============================] - 0s 2ms/step - loss: 0.4732 - accuracy: 0.7752\n",
            "Epoch 233/768\n",
            "62/62 [==============================] - 0s 2ms/step - loss: 0.4610 - accuracy: 0.7866\n",
            "Epoch 234/768\n",
            "62/62 [==============================] - 0s 2ms/step - loss: 0.4602 - accuracy: 0.7687\n",
            "Epoch 235/768\n",
            "62/62 [==============================] - 0s 2ms/step - loss: 0.4589 - accuracy: 0.7866\n",
            "Epoch 236/768\n",
            "62/62 [==============================] - 0s 2ms/step - loss: 0.4662 - accuracy: 0.7671\n",
            "Epoch 237/768\n",
            "62/62 [==============================] - 0s 2ms/step - loss: 0.4559 - accuracy: 0.7801\n",
            "Epoch 238/768\n",
            "62/62 [==============================] - 0s 2ms/step - loss: 0.4700 - accuracy: 0.7720\n",
            "Epoch 239/768\n",
            "62/62 [==============================] - 0s 2ms/step - loss: 0.4657 - accuracy: 0.7769\n",
            "Epoch 240/768\n",
            "62/62 [==============================] - 0s 2ms/step - loss: 0.4635 - accuracy: 0.7785\n",
            "Epoch 241/768\n",
            "62/62 [==============================] - 0s 2ms/step - loss: 0.4599 - accuracy: 0.7915\n",
            "Epoch 242/768\n",
            "62/62 [==============================] - 0s 2ms/step - loss: 0.4594 - accuracy: 0.7818\n",
            "Epoch 243/768\n",
            "62/62 [==============================] - 0s 2ms/step - loss: 0.4653 - accuracy: 0.7785\n",
            "Epoch 244/768\n",
            "62/62 [==============================] - 0s 2ms/step - loss: 0.4657 - accuracy: 0.7655\n",
            "Epoch 245/768\n",
            "62/62 [==============================] - 0s 2ms/step - loss: 0.4706 - accuracy: 0.7769\n",
            "Epoch 246/768\n",
            "62/62 [==============================] - 0s 2ms/step - loss: 0.4512 - accuracy: 0.7866\n",
            "Epoch 247/768\n",
            "62/62 [==============================] - 0s 2ms/step - loss: 0.4555 - accuracy: 0.7801\n",
            "Epoch 248/768\n",
            "62/62 [==============================] - 0s 2ms/step - loss: 0.4705 - accuracy: 0.7720\n",
            "Epoch 249/768\n",
            "62/62 [==============================] - 0s 2ms/step - loss: 0.4607 - accuracy: 0.7899\n",
            "Epoch 250/768\n",
            "62/62 [==============================] - 0s 2ms/step - loss: 0.4573 - accuracy: 0.7899\n",
            "Epoch 251/768\n",
            "62/62 [==============================] - 0s 2ms/step - loss: 0.4737 - accuracy: 0.7671\n",
            "Epoch 252/768\n",
            "62/62 [==============================] - 0s 2ms/step - loss: 0.4518 - accuracy: 0.7899\n",
            "Epoch 253/768\n",
            "62/62 [==============================] - 0s 2ms/step - loss: 0.4579 - accuracy: 0.7980\n",
            "Epoch 254/768\n",
            "62/62 [==============================] - 0s 2ms/step - loss: 0.4857 - accuracy: 0.7606\n",
            "Epoch 255/768\n",
            "62/62 [==============================] - 0s 3ms/step - loss: 0.4578 - accuracy: 0.7818\n",
            "Epoch 256/768\n",
            "62/62 [==============================] - 0s 2ms/step - loss: 0.4762 - accuracy: 0.7687\n",
            "Epoch 257/768\n",
            "62/62 [==============================] - 0s 2ms/step - loss: 0.4643 - accuracy: 0.7915\n",
            "Epoch 258/768\n",
            "62/62 [==============================] - 0s 2ms/step - loss: 0.4521 - accuracy: 0.7899\n",
            "Epoch 259/768\n",
            "62/62 [==============================] - 0s 2ms/step - loss: 0.4904 - accuracy: 0.7752\n",
            "Epoch 260/768\n",
            "62/62 [==============================] - 0s 2ms/step - loss: 0.4541 - accuracy: 0.7980\n",
            "Epoch 261/768\n",
            "62/62 [==============================] - 0s 2ms/step - loss: 0.4638 - accuracy: 0.7752\n",
            "Epoch 262/768\n",
            "62/62 [==============================] - 0s 2ms/step - loss: 0.4643 - accuracy: 0.7964\n",
            "Epoch 263/768\n",
            "62/62 [==============================] - 0s 2ms/step - loss: 0.4529 - accuracy: 0.7801\n",
            "Epoch 264/768\n",
            "62/62 [==============================] - 0s 2ms/step - loss: 0.4645 - accuracy: 0.7850\n",
            "Epoch 265/768\n",
            "62/62 [==============================] - 0s 2ms/step - loss: 0.4627 - accuracy: 0.7736\n",
            "Epoch 266/768\n",
            "62/62 [==============================] - 0s 2ms/step - loss: 0.4565 - accuracy: 0.7948\n",
            "Epoch 267/768\n",
            "62/62 [==============================] - 0s 2ms/step - loss: 0.4825 - accuracy: 0.7655\n",
            "Epoch 268/768\n",
            "62/62 [==============================] - 0s 2ms/step - loss: 0.4553 - accuracy: 0.7899\n",
            "Epoch 269/768\n",
            "62/62 [==============================] - 0s 2ms/step - loss: 0.4647 - accuracy: 0.7704\n",
            "Epoch 270/768\n",
            "62/62 [==============================] - 0s 2ms/step - loss: 0.4585 - accuracy: 0.7866\n",
            "Epoch 271/768\n",
            "62/62 [==============================] - 0s 2ms/step - loss: 0.4636 - accuracy: 0.7818\n",
            "Epoch 272/768\n",
            "62/62 [==============================] - 0s 2ms/step - loss: 0.4546 - accuracy: 0.7866\n",
            "Epoch 273/768\n",
            "62/62 [==============================] - 0s 2ms/step - loss: 0.4753 - accuracy: 0.7557\n",
            "Epoch 274/768\n",
            "62/62 [==============================] - 0s 2ms/step - loss: 0.4573 - accuracy: 0.7899\n",
            "Epoch 275/768\n",
            "62/62 [==============================] - 0s 2ms/step - loss: 0.4625 - accuracy: 0.7785\n",
            "Epoch 276/768\n",
            "62/62 [==============================] - 0s 2ms/step - loss: 0.4566 - accuracy: 0.7866\n",
            "Epoch 277/768\n",
            "62/62 [==============================] - 0s 2ms/step - loss: 0.4519 - accuracy: 0.7915\n",
            "Epoch 278/768\n",
            "62/62 [==============================] - 0s 3ms/step - loss: 0.4662 - accuracy: 0.7899\n",
            "Epoch 279/768\n",
            "62/62 [==============================] - 0s 2ms/step - loss: 0.4488 - accuracy: 0.7866\n",
            "Epoch 280/768\n",
            "62/62 [==============================] - 0s 2ms/step - loss: 0.4545 - accuracy: 0.7866\n",
            "Epoch 281/768\n",
            "62/62 [==============================] - 0s 2ms/step - loss: 0.4559 - accuracy: 0.8013\n",
            "Epoch 282/768\n",
            "62/62 [==============================] - 0s 2ms/step - loss: 0.4611 - accuracy: 0.7752\n",
            "Epoch 283/768\n",
            "62/62 [==============================] - 0s 2ms/step - loss: 0.4475 - accuracy: 0.7980\n",
            "Epoch 284/768\n",
            "62/62 [==============================] - 0s 2ms/step - loss: 0.4670 - accuracy: 0.7622\n",
            "Epoch 285/768\n",
            "62/62 [==============================] - 0s 2ms/step - loss: 0.4508 - accuracy: 0.7850\n",
            "Epoch 286/768\n",
            "62/62 [==============================] - 0s 2ms/step - loss: 0.4494 - accuracy: 0.7818\n",
            "Epoch 287/768\n",
            "62/62 [==============================] - 0s 2ms/step - loss: 0.4855 - accuracy: 0.7622\n",
            "Epoch 288/768\n",
            "62/62 [==============================] - 0s 2ms/step - loss: 0.4524 - accuracy: 0.7915\n",
            "Epoch 289/768\n",
            "62/62 [==============================] - 0s 2ms/step - loss: 0.4529 - accuracy: 0.7785\n",
            "Epoch 290/768\n",
            "62/62 [==============================] - 0s 2ms/step - loss: 0.4510 - accuracy: 0.7850\n",
            "Epoch 291/768\n",
            "62/62 [==============================] - 0s 2ms/step - loss: 0.4576 - accuracy: 0.7850\n",
            "Epoch 292/768\n",
            "62/62 [==============================] - 0s 2ms/step - loss: 0.4551 - accuracy: 0.7818\n",
            "Epoch 293/768\n",
            "62/62 [==============================] - 0s 2ms/step - loss: 0.4452 - accuracy: 0.7932\n",
            "Epoch 294/768\n",
            "62/62 [==============================] - 0s 2ms/step - loss: 0.4744 - accuracy: 0.7704\n",
            "Epoch 295/768\n",
            "62/62 [==============================] - 0s 2ms/step - loss: 0.4491 - accuracy: 0.7883\n",
            "Epoch 296/768\n",
            "62/62 [==============================] - 0s 2ms/step - loss: 0.4628 - accuracy: 0.7801\n",
            "Epoch 297/768\n",
            "62/62 [==============================] - 0s 2ms/step - loss: 0.4513 - accuracy: 0.7785\n",
            "Epoch 298/768\n",
            "62/62 [==============================] - 0s 2ms/step - loss: 0.4423 - accuracy: 0.8046\n",
            "Epoch 299/768\n",
            "62/62 [==============================] - 0s 2ms/step - loss: 0.4422 - accuracy: 0.8046\n",
            "Epoch 300/768\n",
            "62/62 [==============================] - 0s 2ms/step - loss: 0.4459 - accuracy: 0.7948\n",
            "Epoch 301/768\n",
            "62/62 [==============================] - 0s 3ms/step - loss: 0.4526 - accuracy: 0.7899\n",
            "Epoch 302/768\n",
            "62/62 [==============================] - 0s 2ms/step - loss: 0.4427 - accuracy: 0.7769\n",
            "Epoch 303/768\n",
            "62/62 [==============================] - 0s 2ms/step - loss: 0.4464 - accuracy: 0.7915\n",
            "Epoch 304/768\n",
            "62/62 [==============================] - 0s 2ms/step - loss: 0.4507 - accuracy: 0.7850\n",
            "Epoch 305/768\n",
            "62/62 [==============================] - 0s 2ms/step - loss: 0.4616 - accuracy: 0.7622\n",
            "Epoch 306/768\n",
            "62/62 [==============================] - 0s 2ms/step - loss: 0.4419 - accuracy: 0.7964\n",
            "Epoch 307/768\n",
            "62/62 [==============================] - 0s 2ms/step - loss: 0.4655 - accuracy: 0.7834\n",
            "Epoch 308/768\n",
            "62/62 [==============================] - 0s 2ms/step - loss: 0.4599 - accuracy: 0.7752\n",
            "Epoch 309/768\n",
            "62/62 [==============================] - 0s 2ms/step - loss: 0.4573 - accuracy: 0.7834\n",
            "Epoch 310/768\n",
            "62/62 [==============================] - 0s 2ms/step - loss: 0.4604 - accuracy: 0.7964\n",
            "Epoch 311/768\n",
            "62/62 [==============================] - 0s 2ms/step - loss: 0.4632 - accuracy: 0.7850\n",
            "Epoch 312/768\n",
            "62/62 [==============================] - 0s 2ms/step - loss: 0.4553 - accuracy: 0.7785\n",
            "Epoch 313/768\n",
            "62/62 [==============================] - 0s 2ms/step - loss: 0.4453 - accuracy: 0.7883\n",
            "Epoch 314/768\n",
            "62/62 [==============================] - 0s 2ms/step - loss: 0.4506 - accuracy: 0.7980\n",
            "Epoch 315/768\n",
            "62/62 [==============================] - 0s 2ms/step - loss: 0.4465 - accuracy: 0.7915\n",
            "Epoch 316/768\n",
            "62/62 [==============================] - 0s 2ms/step - loss: 0.4628 - accuracy: 0.7801\n",
            "Epoch 317/768\n",
            "62/62 [==============================] - 0s 2ms/step - loss: 0.4492 - accuracy: 0.7850\n",
            "Epoch 318/768\n",
            "62/62 [==============================] - 0s 2ms/step - loss: 0.4546 - accuracy: 0.7915\n",
            "Epoch 319/768\n",
            "62/62 [==============================] - 0s 2ms/step - loss: 0.4393 - accuracy: 0.8029\n",
            "Epoch 320/768\n",
            "62/62 [==============================] - 0s 3ms/step - loss: 0.4482 - accuracy: 0.7850\n",
            "Epoch 321/768\n",
            "62/62 [==============================] - 0s 2ms/step - loss: 0.4499 - accuracy: 0.7866\n",
            "Epoch 322/768\n",
            "62/62 [==============================] - 0s 2ms/step - loss: 0.4411 - accuracy: 0.7980\n",
            "Epoch 323/768\n",
            "62/62 [==============================] - 0s 2ms/step - loss: 0.4489 - accuracy: 0.7883\n",
            "Epoch 324/768\n",
            "62/62 [==============================] - 0s 2ms/step - loss: 0.4505 - accuracy: 0.7801\n",
            "Epoch 325/768\n",
            "62/62 [==============================] - 0s 2ms/step - loss: 0.4376 - accuracy: 0.7964\n",
            "Epoch 326/768\n",
            "62/62 [==============================] - 0s 2ms/step - loss: 0.4439 - accuracy: 0.7850\n",
            "Epoch 327/768\n",
            "62/62 [==============================] - 0s 2ms/step - loss: 0.4403 - accuracy: 0.7866\n",
            "Epoch 328/768\n",
            "62/62 [==============================] - 0s 2ms/step - loss: 0.4509 - accuracy: 0.7899\n",
            "Epoch 329/768\n",
            "62/62 [==============================] - 0s 2ms/step - loss: 0.4431 - accuracy: 0.8046\n",
            "Epoch 330/768\n",
            "62/62 [==============================] - 0s 2ms/step - loss: 0.4422 - accuracy: 0.8078\n",
            "Epoch 331/768\n",
            "62/62 [==============================] - 0s 2ms/step - loss: 0.4481 - accuracy: 0.7948\n",
            "Epoch 332/768\n",
            "62/62 [==============================] - 0s 2ms/step - loss: 0.4458 - accuracy: 0.7899\n",
            "Epoch 333/768\n",
            "62/62 [==============================] - 0s 2ms/step - loss: 0.4419 - accuracy: 0.7850\n",
            "Epoch 334/768\n",
            "62/62 [==============================] - 0s 2ms/step - loss: 0.4556 - accuracy: 0.7834\n",
            "Epoch 335/768\n",
            "62/62 [==============================] - 0s 2ms/step - loss: 0.4608 - accuracy: 0.7785\n",
            "Epoch 336/768\n",
            "62/62 [==============================] - 0s 2ms/step - loss: 0.4465 - accuracy: 0.7899\n",
            "Epoch 337/768\n",
            "62/62 [==============================] - 0s 3ms/step - loss: 0.4429 - accuracy: 0.7866\n",
            "Epoch 338/768\n",
            "62/62 [==============================] - 0s 2ms/step - loss: 0.4564 - accuracy: 0.8029\n",
            "Epoch 339/768\n",
            "62/62 [==============================] - 0s 2ms/step - loss: 0.4490 - accuracy: 0.7850\n",
            "Epoch 340/768\n",
            "62/62 [==============================] - 0s 2ms/step - loss: 0.4429 - accuracy: 0.8127\n",
            "Epoch 341/768\n",
            "62/62 [==============================] - 0s 2ms/step - loss: 0.4365 - accuracy: 0.7948\n",
            "Epoch 342/768\n",
            "62/62 [==============================] - 0s 2ms/step - loss: 0.4406 - accuracy: 0.7964\n",
            "Epoch 343/768\n",
            "62/62 [==============================] - 0s 2ms/step - loss: 0.4387 - accuracy: 0.7899\n",
            "Epoch 344/768\n",
            "62/62 [==============================] - 0s 2ms/step - loss: 0.4546 - accuracy: 0.7704\n",
            "Epoch 345/768\n",
            "62/62 [==============================] - 0s 2ms/step - loss: 0.4435 - accuracy: 0.7980\n",
            "Epoch 346/768\n",
            "62/62 [==============================] - 0s 2ms/step - loss: 0.4421 - accuracy: 0.7997\n",
            "Epoch 347/768\n",
            "62/62 [==============================] - 0s 2ms/step - loss: 0.4328 - accuracy: 0.8241\n",
            "Epoch 348/768\n",
            "62/62 [==============================] - 0s 2ms/step - loss: 0.4378 - accuracy: 0.7997\n",
            "Epoch 349/768\n",
            "62/62 [==============================] - 0s 2ms/step - loss: 0.4320 - accuracy: 0.8029\n",
            "Epoch 350/768\n",
            "62/62 [==============================] - 0s 2ms/step - loss: 0.4485 - accuracy: 0.7899\n",
            "Epoch 351/768\n",
            "62/62 [==============================] - 0s 2ms/step - loss: 0.4486 - accuracy: 0.7769\n",
            "Epoch 352/768\n",
            "62/62 [==============================] - 0s 2ms/step - loss: 0.4420 - accuracy: 0.7866\n",
            "Epoch 353/768\n",
            "62/62 [==============================] - 0s 2ms/step - loss: 0.4373 - accuracy: 0.7932\n",
            "Epoch 354/768\n",
            "62/62 [==============================] - 0s 2ms/step - loss: 0.4323 - accuracy: 0.8029\n",
            "Epoch 355/768\n",
            "62/62 [==============================] - 0s 2ms/step - loss: 0.4413 - accuracy: 0.8013\n",
            "Epoch 356/768\n",
            "62/62 [==============================] - 0s 2ms/step - loss: 0.4286 - accuracy: 0.8046\n",
            "Epoch 357/768\n",
            "62/62 [==============================] - 0s 2ms/step - loss: 0.4376 - accuracy: 0.7948\n",
            "Epoch 358/768\n",
            "62/62 [==============================] - 0s 3ms/step - loss: 0.4420 - accuracy: 0.7915\n",
            "Epoch 359/768\n",
            "62/62 [==============================] - 0s 2ms/step - loss: 0.4443 - accuracy: 0.7883\n",
            "Epoch 360/768\n",
            "62/62 [==============================] - 0s 2ms/step - loss: 0.4889 - accuracy: 0.7704\n",
            "Epoch 361/768\n",
            "62/62 [==============================] - 0s 2ms/step - loss: 0.4393 - accuracy: 0.7883\n",
            "Epoch 362/768\n",
            "62/62 [==============================] - 0s 2ms/step - loss: 0.4434 - accuracy: 0.7866\n",
            "Epoch 363/768\n",
            "62/62 [==============================] - 0s 2ms/step - loss: 0.4570 - accuracy: 0.7883\n",
            "Epoch 364/768\n",
            "62/62 [==============================] - 0s 2ms/step - loss: 0.4477 - accuracy: 0.7915\n",
            "Epoch 365/768\n",
            "62/62 [==============================] - 0s 2ms/step - loss: 0.4426 - accuracy: 0.7850\n",
            "Epoch 366/768\n",
            "62/62 [==============================] - 0s 2ms/step - loss: 0.4317 - accuracy: 0.7883\n",
            "Epoch 367/768\n",
            "62/62 [==============================] - 0s 2ms/step - loss: 0.4352 - accuracy: 0.7980\n",
            "Epoch 368/768\n",
            "62/62 [==============================] - 0s 2ms/step - loss: 0.4413 - accuracy: 0.7980\n",
            "Epoch 369/768\n",
            "62/62 [==============================] - 0s 2ms/step - loss: 0.4406 - accuracy: 0.7932\n",
            "Epoch 370/768\n",
            "62/62 [==============================] - 0s 2ms/step - loss: 0.4400 - accuracy: 0.7964\n",
            "Epoch 371/768\n",
            "62/62 [==============================] - 0s 2ms/step - loss: 0.4424 - accuracy: 0.7899\n",
            "Epoch 372/768\n",
            "62/62 [==============================] - 0s 2ms/step - loss: 0.4307 - accuracy: 0.7915\n",
            "Epoch 373/768\n",
            "62/62 [==============================] - 0s 2ms/step - loss: 0.4464 - accuracy: 0.7850\n",
            "Epoch 374/768\n",
            "62/62 [==============================] - 0s 2ms/step - loss: 0.4392 - accuracy: 0.7964\n",
            "Epoch 375/768\n",
            "62/62 [==============================] - 0s 2ms/step - loss: 0.4309 - accuracy: 0.7948\n",
            "Epoch 376/768\n",
            "62/62 [==============================] - 0s 2ms/step - loss: 0.4392 - accuracy: 0.7818\n",
            "Epoch 377/768\n",
            "62/62 [==============================] - 0s 2ms/step - loss: 0.4221 - accuracy: 0.7964\n",
            "Epoch 378/768\n",
            "62/62 [==============================] - 0s 3ms/step - loss: 0.4329 - accuracy: 0.8062\n",
            "Epoch 379/768\n",
            "62/62 [==============================] - 0s 2ms/step - loss: 0.4438 - accuracy: 0.7915\n",
            "Epoch 380/768\n",
            "62/62 [==============================] - 0s 2ms/step - loss: 0.4297 - accuracy: 0.7866\n",
            "Epoch 381/768\n",
            "62/62 [==============================] - 0s 2ms/step - loss: 0.4380 - accuracy: 0.7883\n",
            "Epoch 382/768\n",
            "62/62 [==============================] - 0s 2ms/step - loss: 0.4386 - accuracy: 0.7997\n",
            "Epoch 383/768\n",
            "62/62 [==============================] - 0s 2ms/step - loss: 0.4390 - accuracy: 0.7932\n",
            "Epoch 384/768\n",
            "62/62 [==============================] - 0s 2ms/step - loss: 0.4330 - accuracy: 0.8062\n",
            "Epoch 385/768\n",
            "62/62 [==============================] - 0s 2ms/step - loss: 0.4263 - accuracy: 0.7980\n",
            "Epoch 386/768\n",
            "62/62 [==============================] - 0s 2ms/step - loss: 0.4372 - accuracy: 0.7980\n",
            "Epoch 387/768\n",
            "62/62 [==============================] - 0s 2ms/step - loss: 0.4356 - accuracy: 0.7964\n",
            "Epoch 388/768\n",
            "62/62 [==============================] - 0s 2ms/step - loss: 0.4434 - accuracy: 0.7899\n",
            "Epoch 389/768\n",
            "62/62 [==============================] - 0s 2ms/step - loss: 0.4369 - accuracy: 0.8029\n",
            "Epoch 390/768\n",
            "62/62 [==============================] - 0s 2ms/step - loss: 0.4403 - accuracy: 0.7866\n",
            "Epoch 391/768\n",
            "62/62 [==============================] - 0s 2ms/step - loss: 0.4369 - accuracy: 0.8029\n",
            "Epoch 392/768\n",
            "62/62 [==============================] - 0s 2ms/step - loss: 0.4431 - accuracy: 0.7834\n",
            "Epoch 393/768\n",
            "62/62 [==============================] - 0s 2ms/step - loss: 0.4326 - accuracy: 0.8078\n",
            "Epoch 394/768\n",
            "62/62 [==============================] - 0s 2ms/step - loss: 0.4375 - accuracy: 0.7915\n",
            "Epoch 395/768\n",
            "62/62 [==============================] - 0s 2ms/step - loss: 0.4379 - accuracy: 0.7915\n",
            "Epoch 396/768\n",
            "62/62 [==============================] - 0s 2ms/step - loss: 0.4394 - accuracy: 0.8013\n",
            "Epoch 397/768\n",
            "62/62 [==============================] - 0s 3ms/step - loss: 0.4515 - accuracy: 0.7736\n",
            "Epoch 398/768\n",
            "62/62 [==============================] - 0s 2ms/step - loss: 0.4370 - accuracy: 0.8078\n",
            "Epoch 399/768\n",
            "62/62 [==============================] - 0s 2ms/step - loss: 0.4382 - accuracy: 0.7866\n",
            "Epoch 400/768\n",
            "62/62 [==============================] - 0s 2ms/step - loss: 0.4421 - accuracy: 0.7899\n",
            "Epoch 401/768\n",
            "62/62 [==============================] - 0s 2ms/step - loss: 0.4324 - accuracy: 0.8127\n",
            "Epoch 402/768\n",
            "62/62 [==============================] - 0s 2ms/step - loss: 0.4349 - accuracy: 0.7997\n",
            "Epoch 403/768\n",
            "62/62 [==============================] - 0s 2ms/step - loss: 0.4256 - accuracy: 0.8046\n",
            "Epoch 404/768\n",
            "62/62 [==============================] - 0s 2ms/step - loss: 0.4265 - accuracy: 0.8029\n",
            "Epoch 405/768\n",
            "62/62 [==============================] - 0s 2ms/step - loss: 0.4276 - accuracy: 0.7866\n",
            "Epoch 406/768\n",
            "62/62 [==============================] - 0s 2ms/step - loss: 0.4207 - accuracy: 0.8094\n",
            "Epoch 407/768\n",
            "62/62 [==============================] - 0s 2ms/step - loss: 0.4262 - accuracy: 0.7997\n",
            "Epoch 408/768\n",
            "62/62 [==============================] - 0s 2ms/step - loss: 0.4255 - accuracy: 0.8111\n",
            "Epoch 409/768\n",
            "62/62 [==============================] - 0s 2ms/step - loss: 0.4431 - accuracy: 0.7801\n",
            "Epoch 410/768\n",
            "62/62 [==============================] - 0s 2ms/step - loss: 0.4275 - accuracy: 0.8094\n",
            "Epoch 411/768\n",
            "62/62 [==============================] - 0s 2ms/step - loss: 0.4278 - accuracy: 0.7980\n",
            "Epoch 412/768\n",
            "62/62 [==============================] - 0s 2ms/step - loss: 0.4293 - accuracy: 0.7899\n",
            "Epoch 413/768\n",
            "62/62 [==============================] - 0s 2ms/step - loss: 0.4348 - accuracy: 0.7997\n",
            "Epoch 414/768\n",
            "62/62 [==============================] - 0s 3ms/step - loss: 0.4311 - accuracy: 0.8046\n",
            "Epoch 415/768\n",
            "62/62 [==============================] - 0s 2ms/step - loss: 0.4278 - accuracy: 0.7883\n",
            "Epoch 416/768\n",
            "62/62 [==============================] - 0s 2ms/step - loss: 0.4321 - accuracy: 0.7997\n",
            "Epoch 417/768\n",
            "62/62 [==============================] - 0s 2ms/step - loss: 0.4186 - accuracy: 0.8111\n",
            "Epoch 418/768\n",
            "62/62 [==============================] - 0s 2ms/step - loss: 0.4333 - accuracy: 0.7997\n",
            "Epoch 419/768\n",
            "62/62 [==============================] - 0s 2ms/step - loss: 0.4413 - accuracy: 0.7850\n",
            "Epoch 420/768\n",
            "62/62 [==============================] - 0s 2ms/step - loss: 0.4277 - accuracy: 0.7980\n",
            "Epoch 421/768\n",
            "62/62 [==============================] - 0s 2ms/step - loss: 0.4310 - accuracy: 0.7964\n",
            "Epoch 422/768\n",
            "62/62 [==============================] - 0s 2ms/step - loss: 0.4265 - accuracy: 0.8046\n",
            "Epoch 423/768\n",
            "62/62 [==============================] - 0s 2ms/step - loss: 0.4234 - accuracy: 0.8208\n",
            "Epoch 424/768\n",
            "62/62 [==============================] - 0s 2ms/step - loss: 0.4343 - accuracy: 0.7915\n",
            "Epoch 425/768\n",
            "62/62 [==============================] - 0s 2ms/step - loss: 0.4254 - accuracy: 0.8013\n",
            "Epoch 426/768\n",
            "62/62 [==============================] - 0s 2ms/step - loss: 0.4371 - accuracy: 0.7769\n",
            "Epoch 427/768\n",
            "62/62 [==============================] - 0s 2ms/step - loss: 0.4375 - accuracy: 0.8029\n",
            "Epoch 428/768\n",
            "62/62 [==============================] - 0s 2ms/step - loss: 0.4325 - accuracy: 0.7899\n",
            "Epoch 429/768\n",
            "62/62 [==============================] - 0s 2ms/step - loss: 0.4346 - accuracy: 0.7980\n",
            "Epoch 430/768\n",
            "62/62 [==============================] - 0s 3ms/step - loss: 0.4387 - accuracy: 0.7915\n",
            "Epoch 431/768\n",
            "62/62 [==============================] - 0s 2ms/step - loss: 0.4225 - accuracy: 0.7915\n",
            "Epoch 432/768\n",
            "62/62 [==============================] - 0s 2ms/step - loss: 0.4433 - accuracy: 0.7785\n",
            "Epoch 433/768\n",
            "62/62 [==============================] - 0s 2ms/step - loss: 0.4299 - accuracy: 0.7997\n",
            "Epoch 434/768\n",
            "62/62 [==============================] - 0s 2ms/step - loss: 0.4295 - accuracy: 0.8062\n",
            "Epoch 435/768\n",
            "62/62 [==============================] - 0s 2ms/step - loss: 0.4411 - accuracy: 0.7883\n",
            "Epoch 436/768\n",
            "62/62 [==============================] - 0s 2ms/step - loss: 0.4307 - accuracy: 0.7899\n",
            "Epoch 437/768\n",
            "62/62 [==============================] - 0s 2ms/step - loss: 0.4274 - accuracy: 0.8013\n",
            "Epoch 438/768\n",
            "62/62 [==============================] - 0s 2ms/step - loss: 0.4420 - accuracy: 0.8013\n",
            "Epoch 439/768\n",
            "62/62 [==============================] - 0s 2ms/step - loss: 0.4350 - accuracy: 0.7866\n",
            "Epoch 440/768\n",
            "62/62 [==============================] - 0s 2ms/step - loss: 0.4246 - accuracy: 0.8078\n",
            "Epoch 441/768\n",
            "62/62 [==============================] - 0s 2ms/step - loss: 0.4242 - accuracy: 0.8062\n",
            "Epoch 442/768\n",
            "62/62 [==============================] - 0s 2ms/step - loss: 0.4268 - accuracy: 0.7997\n",
            "Epoch 443/768\n",
            "62/62 [==============================] - 0s 2ms/step - loss: 0.4302 - accuracy: 0.8046\n",
            "Epoch 444/768\n",
            "62/62 [==============================] - 0s 2ms/step - loss: 0.4306 - accuracy: 0.8046\n",
            "Epoch 445/768\n",
            "62/62 [==============================] - 0s 3ms/step - loss: 0.4449 - accuracy: 0.8029\n",
            "Epoch 446/768\n",
            "62/62 [==============================] - 0s 2ms/step - loss: 0.4164 - accuracy: 0.8111\n",
            "Epoch 447/768\n",
            "62/62 [==============================] - 0s 2ms/step - loss: 0.4356 - accuracy: 0.8111\n",
            "Epoch 448/768\n",
            "62/62 [==============================] - 0s 2ms/step - loss: 0.4287 - accuracy: 0.8078\n",
            "Epoch 449/768\n",
            "62/62 [==============================] - 0s 2ms/step - loss: 0.4242 - accuracy: 0.8046\n",
            "Epoch 450/768\n",
            "62/62 [==============================] - 0s 2ms/step - loss: 0.4276 - accuracy: 0.7964\n",
            "Epoch 451/768\n",
            "62/62 [==============================] - 0s 2ms/step - loss: 0.4351 - accuracy: 0.7866\n",
            "Epoch 452/768\n",
            "62/62 [==============================] - 0s 2ms/step - loss: 0.4209 - accuracy: 0.7948\n",
            "Epoch 453/768\n",
            "62/62 [==============================] - 0s 2ms/step - loss: 0.4385 - accuracy: 0.7915\n",
            "Epoch 454/768\n",
            "62/62 [==============================] - 0s 2ms/step - loss: 0.4242 - accuracy: 0.8046\n",
            "Epoch 455/768\n",
            "62/62 [==============================] - 0s 2ms/step - loss: 0.4469 - accuracy: 0.7932\n",
            "Epoch 456/768\n",
            "62/62 [==============================] - 0s 2ms/step - loss: 0.4199 - accuracy: 0.7932\n",
            "Epoch 457/768\n",
            "62/62 [==============================] - 0s 2ms/step - loss: 0.4289 - accuracy: 0.7997\n",
            "Epoch 458/768\n",
            "62/62 [==============================] - 0s 2ms/step - loss: 0.4379 - accuracy: 0.8127\n",
            "Epoch 459/768\n",
            "62/62 [==============================] - 0s 2ms/step - loss: 0.4214 - accuracy: 0.8062\n",
            "Epoch 460/768\n",
            "62/62 [==============================] - 0s 2ms/step - loss: 0.4284 - accuracy: 0.8046\n",
            "Epoch 461/768\n",
            "62/62 [==============================] - 0s 2ms/step - loss: 0.4326 - accuracy: 0.7850\n",
            "Epoch 462/768\n",
            "62/62 [==============================] - 0s 2ms/step - loss: 0.4242 - accuracy: 0.7997\n",
            "Epoch 463/768\n",
            "62/62 [==============================] - 0s 2ms/step - loss: 0.4232 - accuracy: 0.8013\n",
            "Epoch 464/768\n",
            "62/62 [==============================] - 0s 2ms/step - loss: 0.4235 - accuracy: 0.8062\n",
            "Epoch 465/768\n",
            "62/62 [==============================] - 0s 2ms/step - loss: 0.4216 - accuracy: 0.8029\n",
            "Epoch 466/768\n",
            "62/62 [==============================] - 0s 2ms/step - loss: 0.4248 - accuracy: 0.8046\n",
            "Epoch 467/768\n",
            "62/62 [==============================] - 0s 2ms/step - loss: 0.4337 - accuracy: 0.7964\n",
            "Epoch 468/768\n",
            "62/62 [==============================] - 0s 2ms/step - loss: 0.4165 - accuracy: 0.8111\n",
            "Epoch 469/768\n",
            "62/62 [==============================] - 0s 2ms/step - loss: 0.4250 - accuracy: 0.8029\n",
            "Epoch 470/768\n",
            "62/62 [==============================] - 0s 2ms/step - loss: 0.4214 - accuracy: 0.7964\n",
            "Epoch 471/768\n",
            "62/62 [==============================] - 0s 2ms/step - loss: 0.4196 - accuracy: 0.7964\n",
            "Epoch 472/768\n",
            "62/62 [==============================] - 0s 2ms/step - loss: 0.4264 - accuracy: 0.8078\n",
            "Epoch 473/768\n",
            "62/62 [==============================] - 0s 2ms/step - loss: 0.4221 - accuracy: 0.7980\n",
            "Epoch 474/768\n",
            "62/62 [==============================] - 0s 2ms/step - loss: 0.4222 - accuracy: 0.8160\n",
            "Epoch 475/768\n",
            "62/62 [==============================] - 0s 2ms/step - loss: 0.4233 - accuracy: 0.8029\n",
            "Epoch 476/768\n",
            "62/62 [==============================] - 0s 2ms/step - loss: 0.4347 - accuracy: 0.7883\n",
            "Epoch 477/768\n",
            "62/62 [==============================] - 0s 2ms/step - loss: 0.4379 - accuracy: 0.7964\n",
            "Epoch 478/768\n",
            "62/62 [==============================] - 0s 2ms/step - loss: 0.4337 - accuracy: 0.8143\n",
            "Epoch 479/768\n",
            "62/62 [==============================] - 0s 2ms/step - loss: 0.4223 - accuracy: 0.8111\n",
            "Epoch 480/768\n",
            "62/62 [==============================] - 0s 2ms/step - loss: 0.4295 - accuracy: 0.7980\n",
            "Epoch 481/768\n",
            "62/62 [==============================] - 0s 2ms/step - loss: 0.4242 - accuracy: 0.7997\n",
            "Epoch 482/768\n",
            "62/62 [==============================] - 0s 2ms/step - loss: 0.4330 - accuracy: 0.7932\n",
            "Epoch 483/768\n",
            "62/62 [==============================] - 0s 2ms/step - loss: 0.4321 - accuracy: 0.7932\n",
            "Epoch 484/768\n",
            "62/62 [==============================] - 0s 2ms/step - loss: 0.4325 - accuracy: 0.7964\n",
            "Epoch 485/768\n",
            "62/62 [==============================] - 0s 2ms/step - loss: 0.4290 - accuracy: 0.8046\n",
            "Epoch 486/768\n",
            "62/62 [==============================] - 0s 2ms/step - loss: 0.4215 - accuracy: 0.8111\n",
            "Epoch 487/768\n",
            "62/62 [==============================] - 0s 2ms/step - loss: 0.4186 - accuracy: 0.8111\n",
            "Epoch 488/768\n",
            "62/62 [==============================] - 0s 2ms/step - loss: 0.4285 - accuracy: 0.8078\n",
            "Epoch 489/768\n",
            "62/62 [==============================] - 0s 3ms/step - loss: 0.4385 - accuracy: 0.7899\n",
            "Epoch 490/768\n",
            "62/62 [==============================] - 0s 2ms/step - loss: 0.4322 - accuracy: 0.8046\n",
            "Epoch 491/768\n",
            "62/62 [==============================] - 0s 2ms/step - loss: 0.4180 - accuracy: 0.8062\n",
            "Epoch 492/768\n",
            "62/62 [==============================] - 0s 2ms/step - loss: 0.4238 - accuracy: 0.8078\n",
            "Epoch 493/768\n",
            "62/62 [==============================] - 0s 2ms/step - loss: 0.4154 - accuracy: 0.8046\n",
            "Epoch 494/768\n",
            "62/62 [==============================] - 0s 2ms/step - loss: 0.4251 - accuracy: 0.8078\n",
            "Epoch 495/768\n",
            "62/62 [==============================] - 0s 2ms/step - loss: 0.4326 - accuracy: 0.7915\n",
            "Epoch 496/768\n",
            "62/62 [==============================] - 0s 2ms/step - loss: 0.4178 - accuracy: 0.8062\n",
            "Epoch 497/768\n",
            "62/62 [==============================] - 0s 2ms/step - loss: 0.4279 - accuracy: 0.8013\n",
            "Epoch 498/768\n",
            "62/62 [==============================] - 0s 2ms/step - loss: 0.4291 - accuracy: 0.8078\n",
            "Epoch 499/768\n",
            "62/62 [==============================] - 0s 2ms/step - loss: 0.4226 - accuracy: 0.7948\n",
            "Epoch 500/768\n",
            "62/62 [==============================] - 0s 2ms/step - loss: 0.4208 - accuracy: 0.7997\n",
            "Epoch 501/768\n",
            "62/62 [==============================] - 0s 2ms/step - loss: 0.4424 - accuracy: 0.8029\n",
            "Epoch 502/768\n",
            "62/62 [==============================] - 0s 2ms/step - loss: 0.4178 - accuracy: 0.7997\n",
            "Epoch 503/768\n",
            "62/62 [==============================] - 0s 2ms/step - loss: 0.4179 - accuracy: 0.8013\n",
            "Epoch 504/768\n",
            "62/62 [==============================] - 0s 2ms/step - loss: 0.4306 - accuracy: 0.8029\n",
            "Epoch 505/768\n",
            "62/62 [==============================] - 0s 2ms/step - loss: 0.4266 - accuracy: 0.7980\n",
            "Epoch 506/768\n",
            "62/62 [==============================] - 0s 2ms/step - loss: 0.4277 - accuracy: 0.8046\n",
            "Epoch 507/768\n",
            "62/62 [==============================] - 0s 2ms/step - loss: 0.4351 - accuracy: 0.7997\n",
            "Epoch 508/768\n",
            "62/62 [==============================] - 0s 2ms/step - loss: 0.4193 - accuracy: 0.8046\n",
            "Epoch 509/768\n",
            "62/62 [==============================] - 0s 2ms/step - loss: 0.4236 - accuracy: 0.8046\n",
            "Epoch 510/768\n",
            "62/62 [==============================] - 0s 2ms/step - loss: 0.4313 - accuracy: 0.7785\n",
            "Epoch 511/768\n",
            "62/62 [==============================] - 0s 2ms/step - loss: 0.4271 - accuracy: 0.7915\n",
            "Epoch 512/768\n",
            "62/62 [==============================] - 0s 2ms/step - loss: 0.4269 - accuracy: 0.8013\n",
            "Epoch 513/768\n",
            "62/62 [==============================] - 0s 2ms/step - loss: 0.4158 - accuracy: 0.7997\n",
            "Epoch 514/768\n",
            "62/62 [==============================] - 0s 2ms/step - loss: 0.4219 - accuracy: 0.7997\n",
            "Epoch 515/768\n",
            "62/62 [==============================] - 0s 2ms/step - loss: 0.4332 - accuracy: 0.7915\n",
            "Epoch 516/768\n",
            "62/62 [==============================] - 0s 2ms/step - loss: 0.4279 - accuracy: 0.8094\n",
            "Epoch 517/768\n",
            "62/62 [==============================] - 0s 2ms/step - loss: 0.4210 - accuracy: 0.8127\n",
            "Epoch 518/768\n",
            "62/62 [==============================] - 0s 2ms/step - loss: 0.4197 - accuracy: 0.8111\n",
            "Epoch 519/768\n",
            "62/62 [==============================] - 0s 2ms/step - loss: 0.4405 - accuracy: 0.7932\n",
            "Epoch 520/768\n",
            "62/62 [==============================] - 0s 3ms/step - loss: 0.4215 - accuracy: 0.8143\n",
            "Epoch 521/768\n",
            "62/62 [==============================] - 0s 2ms/step - loss: 0.4278 - accuracy: 0.8078\n",
            "Epoch 522/768\n",
            "62/62 [==============================] - 0s 2ms/step - loss: 0.4269 - accuracy: 0.8127\n",
            "Epoch 523/768\n",
            "62/62 [==============================] - 0s 2ms/step - loss: 0.4277 - accuracy: 0.7997\n",
            "Epoch 524/768\n",
            "62/62 [==============================] - 0s 2ms/step - loss: 0.4246 - accuracy: 0.7948\n",
            "Epoch 525/768\n",
            "62/62 [==============================] - 0s 2ms/step - loss: 0.4103 - accuracy: 0.8078\n",
            "Epoch 526/768\n",
            "62/62 [==============================] - 0s 2ms/step - loss: 0.4271 - accuracy: 0.7850\n",
            "Epoch 527/768\n",
            "62/62 [==============================] - 0s 2ms/step - loss: 0.4226 - accuracy: 0.8078\n",
            "Epoch 528/768\n",
            "62/62 [==============================] - 0s 2ms/step - loss: 0.4324 - accuracy: 0.7964\n",
            "Epoch 529/768\n",
            "62/62 [==============================] - 0s 2ms/step - loss: 0.4250 - accuracy: 0.7980\n",
            "Epoch 530/768\n",
            "62/62 [==============================] - 0s 2ms/step - loss: 0.4246 - accuracy: 0.7997\n",
            "Epoch 531/768\n",
            "62/62 [==============================] - 0s 2ms/step - loss: 0.4148 - accuracy: 0.8029\n",
            "Epoch 532/768\n",
            "62/62 [==============================] - 0s 2ms/step - loss: 0.4233 - accuracy: 0.8046\n",
            "Epoch 533/768\n",
            "62/62 [==============================] - 0s 2ms/step - loss: 0.4241 - accuracy: 0.7997\n",
            "Epoch 534/768\n",
            "62/62 [==============================] - 0s 2ms/step - loss: 0.4214 - accuracy: 0.7997\n",
            "Epoch 535/768\n",
            "62/62 [==============================] - 0s 2ms/step - loss: 0.4284 - accuracy: 0.7980\n",
            "Epoch 536/768\n",
            "62/62 [==============================] - 0s 2ms/step - loss: 0.4234 - accuracy: 0.8143\n",
            "Epoch 537/768\n",
            "62/62 [==============================] - 0s 3ms/step - loss: 0.4195 - accuracy: 0.8111\n",
            "Epoch 538/768\n",
            "62/62 [==============================] - 0s 2ms/step - loss: 0.4137 - accuracy: 0.8062\n",
            "Epoch 539/768\n",
            "62/62 [==============================] - 0s 2ms/step - loss: 0.4284 - accuracy: 0.8094\n",
            "Epoch 540/768\n",
            "62/62 [==============================] - 0s 2ms/step - loss: 0.4491 - accuracy: 0.7915\n",
            "Epoch 541/768\n",
            "62/62 [==============================] - 0s 2ms/step - loss: 0.4264 - accuracy: 0.7964\n",
            "Epoch 542/768\n",
            "62/62 [==============================] - 0s 2ms/step - loss: 0.4237 - accuracy: 0.7997\n",
            "Epoch 543/768\n",
            "62/62 [==============================] - 0s 2ms/step - loss: 0.4501 - accuracy: 0.7834\n",
            "Epoch 544/768\n",
            "62/62 [==============================] - 0s 2ms/step - loss: 0.4325 - accuracy: 0.8062\n",
            "Epoch 545/768\n",
            "62/62 [==============================] - 0s 2ms/step - loss: 0.4174 - accuracy: 0.8029\n",
            "Epoch 546/768\n",
            "62/62 [==============================] - 0s 2ms/step - loss: 0.4213 - accuracy: 0.8013\n",
            "Epoch 547/768\n",
            "62/62 [==============================] - 0s 2ms/step - loss: 0.4206 - accuracy: 0.8013\n",
            "Epoch 548/768\n",
            "62/62 [==============================] - 0s 2ms/step - loss: 0.4242 - accuracy: 0.8029\n",
            "Epoch 549/768\n",
            "62/62 [==============================] - 0s 2ms/step - loss: 0.4333 - accuracy: 0.7883\n",
            "Epoch 550/768\n",
            "62/62 [==============================] - 0s 2ms/step - loss: 0.4218 - accuracy: 0.8127\n",
            "Epoch 551/768\n",
            "62/62 [==============================] - 0s 3ms/step - loss: 0.4205 - accuracy: 0.8094\n",
            "Epoch 552/768\n",
            "62/62 [==============================] - 0s 2ms/step - loss: 0.4297 - accuracy: 0.7932\n",
            "Epoch 553/768\n",
            "62/62 [==============================] - 0s 2ms/step - loss: 0.4269 - accuracy: 0.8029\n",
            "Epoch 554/768\n",
            "62/62 [==============================] - 0s 2ms/step - loss: 0.4487 - accuracy: 0.7818\n",
            "Epoch 555/768\n",
            "62/62 [==============================] - 0s 2ms/step - loss: 0.4233 - accuracy: 0.7915\n",
            "Epoch 556/768\n",
            "62/62 [==============================] - 0s 2ms/step - loss: 0.4298 - accuracy: 0.7964\n",
            "Epoch 557/768\n",
            "62/62 [==============================] - 0s 2ms/step - loss: 0.4273 - accuracy: 0.8013\n",
            "Epoch 558/768\n",
            "62/62 [==============================] - 0s 2ms/step - loss: 0.4390 - accuracy: 0.7932\n",
            "Epoch 559/768\n",
            "62/62 [==============================] - 0s 2ms/step - loss: 0.4255 - accuracy: 0.7948\n",
            "Epoch 560/768\n",
            "62/62 [==============================] - 0s 2ms/step - loss: 0.4184 - accuracy: 0.8046\n",
            "Epoch 561/768\n",
            "62/62 [==============================] - 0s 2ms/step - loss: 0.4214 - accuracy: 0.7964\n",
            "Epoch 562/768\n",
            "62/62 [==============================] - 0s 2ms/step - loss: 0.4206 - accuracy: 0.8078\n",
            "Epoch 563/768\n",
            "62/62 [==============================] - 0s 2ms/step - loss: 0.4136 - accuracy: 0.7948\n",
            "Epoch 564/768\n",
            "62/62 [==============================] - 0s 2ms/step - loss: 0.4187 - accuracy: 0.7948\n",
            "Epoch 565/768\n",
            "62/62 [==============================] - 0s 2ms/step - loss: 0.4272 - accuracy: 0.7948\n",
            "Epoch 566/768\n",
            "62/62 [==============================] - 0s 3ms/step - loss: 0.4319 - accuracy: 0.7948\n",
            "Epoch 567/768\n",
            "62/62 [==============================] - 0s 2ms/step - loss: 0.4162 - accuracy: 0.8111\n",
            "Epoch 568/768\n",
            "62/62 [==============================] - 0s 2ms/step - loss: 0.4252 - accuracy: 0.8013\n",
            "Epoch 569/768\n",
            "62/62 [==============================] - 0s 2ms/step - loss: 0.4293 - accuracy: 0.7866\n",
            "Epoch 570/768\n",
            "62/62 [==============================] - 0s 2ms/step - loss: 0.4145 - accuracy: 0.8046\n",
            "Epoch 571/768\n",
            "62/62 [==============================] - 0s 2ms/step - loss: 0.4249 - accuracy: 0.8046\n",
            "Epoch 572/768\n",
            "62/62 [==============================] - 0s 2ms/step - loss: 0.4268 - accuracy: 0.8029\n",
            "Epoch 573/768\n",
            "62/62 [==============================] - 0s 2ms/step - loss: 0.4249 - accuracy: 0.7899\n",
            "Epoch 574/768\n",
            "62/62 [==============================] - 0s 2ms/step - loss: 0.4199 - accuracy: 0.8062\n",
            "Epoch 575/768\n",
            "62/62 [==============================] - 0s 2ms/step - loss: 0.4416 - accuracy: 0.7932\n",
            "Epoch 576/768\n",
            "62/62 [==============================] - 0s 2ms/step - loss: 0.4202 - accuracy: 0.8111\n",
            "Epoch 577/768\n",
            "62/62 [==============================] - 0s 2ms/step - loss: 0.4179 - accuracy: 0.8013\n",
            "Epoch 578/768\n",
            "62/62 [==============================] - 0s 2ms/step - loss: 0.4126 - accuracy: 0.8078\n",
            "Epoch 579/768\n",
            "62/62 [==============================] - 0s 2ms/step - loss: 0.4296 - accuracy: 0.7948\n",
            "Epoch 580/768\n",
            "62/62 [==============================] - 0s 3ms/step - loss: 0.4118 - accuracy: 0.8029\n",
            "Epoch 581/768\n",
            "62/62 [==============================] - 0s 2ms/step - loss: 0.4191 - accuracy: 0.8143\n",
            "Epoch 582/768\n",
            "62/62 [==============================] - 0s 2ms/step - loss: 0.4374 - accuracy: 0.7980\n",
            "Epoch 583/768\n",
            "62/62 [==============================] - 0s 2ms/step - loss: 0.4314 - accuracy: 0.7932\n",
            "Epoch 584/768\n",
            "62/62 [==============================] - 0s 2ms/step - loss: 0.4278 - accuracy: 0.7964\n",
            "Epoch 585/768\n",
            "62/62 [==============================] - 0s 2ms/step - loss: 0.4146 - accuracy: 0.8046\n",
            "Epoch 586/768\n",
            "62/62 [==============================] - 0s 2ms/step - loss: 0.4240 - accuracy: 0.7980\n",
            "Epoch 587/768\n",
            "62/62 [==============================] - 0s 2ms/step - loss: 0.4275 - accuracy: 0.8029\n",
            "Epoch 588/768\n",
            "62/62 [==============================] - 0s 2ms/step - loss: 0.4167 - accuracy: 0.8013\n",
            "Epoch 589/768\n",
            "62/62 [==============================] - 0s 2ms/step - loss: 0.4217 - accuracy: 0.8094\n",
            "Epoch 590/768\n",
            "62/62 [==============================] - 0s 2ms/step - loss: 0.4151 - accuracy: 0.8078\n",
            "Epoch 591/768\n",
            "62/62 [==============================] - 0s 2ms/step - loss: 0.4625 - accuracy: 0.7785\n",
            "Epoch 592/768\n",
            "62/62 [==============================] - 0s 2ms/step - loss: 0.4410 - accuracy: 0.7834\n",
            "Epoch 593/768\n",
            "62/62 [==============================] - 0s 3ms/step - loss: 0.4204 - accuracy: 0.7899\n",
            "Epoch 594/768\n",
            "62/62 [==============================] - 0s 2ms/step - loss: 0.4284 - accuracy: 0.8029\n",
            "Epoch 595/768\n",
            "62/62 [==============================] - 0s 2ms/step - loss: 0.4122 - accuracy: 0.8062\n",
            "Epoch 596/768\n",
            "62/62 [==============================] - 0s 2ms/step - loss: 0.4192 - accuracy: 0.7948\n",
            "Epoch 597/768\n",
            "62/62 [==============================] - 0s 2ms/step - loss: 0.4213 - accuracy: 0.8046\n",
            "Epoch 598/768\n",
            "62/62 [==============================] - 0s 2ms/step - loss: 0.4165 - accuracy: 0.8062\n",
            "Epoch 599/768\n",
            "62/62 [==============================] - 0s 2ms/step - loss: 0.4211 - accuracy: 0.7980\n",
            "Epoch 600/768\n",
            "62/62 [==============================] - 0s 2ms/step - loss: 0.4151 - accuracy: 0.7980\n",
            "Epoch 601/768\n",
            "62/62 [==============================] - 0s 2ms/step - loss: 0.4206 - accuracy: 0.8046\n",
            "Epoch 602/768\n",
            "62/62 [==============================] - 0s 2ms/step - loss: 0.4279 - accuracy: 0.7997\n",
            "Epoch 603/768\n",
            "62/62 [==============================] - 0s 2ms/step - loss: 0.4156 - accuracy: 0.8143\n",
            "Epoch 604/768\n",
            "62/62 [==============================] - 0s 2ms/step - loss: 0.4360 - accuracy: 0.7834\n",
            "Epoch 605/768\n",
            "62/62 [==============================] - 0s 2ms/step - loss: 0.4087 - accuracy: 0.8127\n",
            "Epoch 606/768\n",
            "62/62 [==============================] - 0s 2ms/step - loss: 0.4153 - accuracy: 0.7948\n",
            "Epoch 607/768\n",
            "62/62 [==============================] - 0s 2ms/step - loss: 0.4174 - accuracy: 0.8192\n",
            "Epoch 608/768\n",
            "62/62 [==============================] - 0s 2ms/step - loss: 0.4244 - accuracy: 0.8046\n",
            "Epoch 609/768\n",
            "62/62 [==============================] - 0s 3ms/step - loss: 0.4275 - accuracy: 0.7997\n",
            "Epoch 610/768\n",
            "62/62 [==============================] - 0s 2ms/step - loss: 0.4252 - accuracy: 0.7932\n",
            "Epoch 611/768\n",
            "62/62 [==============================] - 0s 2ms/step - loss: 0.4292 - accuracy: 0.7980\n",
            "Epoch 612/768\n",
            "62/62 [==============================] - 0s 2ms/step - loss: 0.4279 - accuracy: 0.7899\n",
            "Epoch 613/768\n",
            "62/62 [==============================] - 0s 2ms/step - loss: 0.4259 - accuracy: 0.8013\n",
            "Epoch 614/768\n",
            "62/62 [==============================] - 0s 2ms/step - loss: 0.4277 - accuracy: 0.8062\n",
            "Epoch 615/768\n",
            "62/62 [==============================] - 0s 2ms/step - loss: 0.4342 - accuracy: 0.8046\n",
            "Epoch 616/768\n",
            "62/62 [==============================] - 0s 2ms/step - loss: 0.4326 - accuracy: 0.7818\n",
            "Epoch 617/768\n",
            "62/62 [==============================] - 0s 2ms/step - loss: 0.4275 - accuracy: 0.7948\n",
            "Epoch 618/768\n",
            "62/62 [==============================] - 0s 2ms/step - loss: 0.4257 - accuracy: 0.8013\n",
            "Epoch 619/768\n",
            "62/62 [==============================] - 0s 2ms/step - loss: 0.4322 - accuracy: 0.7899\n",
            "Epoch 620/768\n",
            "62/62 [==============================] - 0s 2ms/step - loss: 0.4231 - accuracy: 0.7980\n",
            "Epoch 621/768\n",
            "62/62 [==============================] - 0s 2ms/step - loss: 0.4280 - accuracy: 0.7850\n",
            "Epoch 622/768\n",
            "62/62 [==============================] - 0s 2ms/step - loss: 0.4316 - accuracy: 0.7997\n",
            "Epoch 623/768\n",
            "62/62 [==============================] - 0s 2ms/step - loss: 0.4450 - accuracy: 0.7883\n",
            "Epoch 624/768\n",
            "62/62 [==============================] - 0s 3ms/step - loss: 0.4330 - accuracy: 0.7834\n",
            "Epoch 625/768\n",
            "62/62 [==============================] - 0s 2ms/step - loss: 0.4344 - accuracy: 0.7997\n",
            "Epoch 626/768\n",
            "62/62 [==============================] - 0s 2ms/step - loss: 0.4344 - accuracy: 0.7915\n",
            "Epoch 627/768\n",
            "62/62 [==============================] - 0s 2ms/step - loss: 0.4357 - accuracy: 0.7883\n",
            "Epoch 628/768\n",
            "62/62 [==============================] - 0s 2ms/step - loss: 0.4240 - accuracy: 0.8046\n",
            "Epoch 629/768\n",
            "62/62 [==============================] - 0s 2ms/step - loss: 0.4298 - accuracy: 0.7834\n",
            "Epoch 630/768\n",
            "62/62 [==============================] - 0s 2ms/step - loss: 0.4255 - accuracy: 0.7980\n",
            "Epoch 631/768\n",
            "62/62 [==============================] - 0s 2ms/step - loss: 0.4313 - accuracy: 0.7980\n",
            "Epoch 632/768\n",
            "62/62 [==============================] - 0s 2ms/step - loss: 0.4308 - accuracy: 0.7899\n",
            "Epoch 633/768\n",
            "62/62 [==============================] - 0s 2ms/step - loss: 0.4166 - accuracy: 0.7997\n",
            "Epoch 634/768\n",
            "62/62 [==============================] - 0s 2ms/step - loss: 0.4260 - accuracy: 0.7948\n",
            "Epoch 635/768\n",
            "62/62 [==============================] - 0s 2ms/step - loss: 0.4382 - accuracy: 0.7736\n",
            "Epoch 636/768\n",
            "62/62 [==============================] - 0s 2ms/step - loss: 0.4231 - accuracy: 0.7964\n",
            "Epoch 637/768\n",
            "62/62 [==============================] - 0s 3ms/step - loss: 0.4314 - accuracy: 0.7899\n",
            "Epoch 638/768\n",
            "62/62 [==============================] - 0s 2ms/step - loss: 0.4295 - accuracy: 0.8013\n",
            "Epoch 639/768\n",
            "62/62 [==============================] - 0s 2ms/step - loss: 0.4275 - accuracy: 0.8062\n",
            "Epoch 640/768\n",
            "62/62 [==============================] - 0s 2ms/step - loss: 0.4272 - accuracy: 0.8013\n",
            "Epoch 641/768\n",
            "62/62 [==============================] - 0s 2ms/step - loss: 0.4251 - accuracy: 0.7964\n",
            "Epoch 642/768\n",
            "62/62 [==============================] - 0s 2ms/step - loss: 0.4282 - accuracy: 0.7948\n",
            "Epoch 643/768\n",
            "62/62 [==============================] - 0s 2ms/step - loss: 0.4292 - accuracy: 0.7915\n",
            "Epoch 644/768\n",
            "62/62 [==============================] - 0s 2ms/step - loss: 0.4301 - accuracy: 0.7980\n",
            "Epoch 645/768\n",
            "62/62 [==============================] - 0s 2ms/step - loss: 0.4359 - accuracy: 0.7932\n",
            "Epoch 646/768\n",
            "62/62 [==============================] - 0s 2ms/step - loss: 0.4258 - accuracy: 0.7850\n",
            "Epoch 647/768\n",
            "62/62 [==============================] - 0s 2ms/step - loss: 0.4320 - accuracy: 0.7980\n",
            "Epoch 648/768\n",
            "62/62 [==============================] - 0s 2ms/step - loss: 0.4373 - accuracy: 0.7915\n",
            "Epoch 649/768\n",
            "62/62 [==============================] - 0s 2ms/step - loss: 0.4321 - accuracy: 0.7932\n",
            "Epoch 650/768\n",
            "62/62 [==============================] - 0s 2ms/step - loss: 0.4276 - accuracy: 0.7948\n",
            "Epoch 651/768\n",
            "62/62 [==============================] - 0s 3ms/step - loss: 0.4204 - accuracy: 0.7997\n",
            "Epoch 652/768\n",
            "62/62 [==============================] - 0s 2ms/step - loss: 0.4337 - accuracy: 0.8013\n",
            "Epoch 653/768\n",
            "62/62 [==============================] - 0s 2ms/step - loss: 0.4205 - accuracy: 0.7980\n",
            "Epoch 654/768\n",
            "62/62 [==============================] - 0s 2ms/step - loss: 0.4175 - accuracy: 0.8046\n",
            "Epoch 655/768\n",
            "62/62 [==============================] - 0s 2ms/step - loss: 0.4235 - accuracy: 0.8029\n",
            "Epoch 656/768\n",
            "62/62 [==============================] - 0s 2ms/step - loss: 0.4239 - accuracy: 0.7899\n",
            "Epoch 657/768\n",
            "62/62 [==============================] - 0s 2ms/step - loss: 0.4311 - accuracy: 0.7964\n",
            "Epoch 658/768\n",
            "62/62 [==============================] - 0s 2ms/step - loss: 0.4204 - accuracy: 0.8029\n",
            "Epoch 659/768\n",
            "62/62 [==============================] - 0s 2ms/step - loss: 0.4410 - accuracy: 0.7834\n",
            "Epoch 660/768\n",
            "62/62 [==============================] - 0s 2ms/step - loss: 0.4275 - accuracy: 0.7997\n",
            "Epoch 661/768\n",
            "62/62 [==============================] - 0s 2ms/step - loss: 0.4304 - accuracy: 0.7915\n",
            "Epoch 662/768\n",
            "62/62 [==============================] - 0s 2ms/step - loss: 0.4245 - accuracy: 0.7915\n",
            "Epoch 663/768\n",
            "62/62 [==============================] - 0s 2ms/step - loss: 0.4330 - accuracy: 0.7818\n",
            "Epoch 664/768\n",
            "62/62 [==============================] - 0s 2ms/step - loss: 0.4171 - accuracy: 0.8046\n",
            "Epoch 665/768\n",
            "62/62 [==============================] - 0s 3ms/step - loss: 0.4215 - accuracy: 0.8078\n",
            "Epoch 666/768\n",
            "62/62 [==============================] - 0s 2ms/step - loss: 0.4364 - accuracy: 0.7980\n",
            "Epoch 667/768\n",
            "62/62 [==============================] - 0s 2ms/step - loss: 0.4236 - accuracy: 0.8127\n",
            "Epoch 668/768\n",
            "62/62 [==============================] - 0s 2ms/step - loss: 0.4178 - accuracy: 0.8078\n",
            "Epoch 669/768\n",
            "62/62 [==============================] - 0s 2ms/step - loss: 0.4296 - accuracy: 0.7964\n",
            "Epoch 670/768\n",
            "62/62 [==============================] - 0s 2ms/step - loss: 0.4175 - accuracy: 0.7980\n",
            "Epoch 671/768\n",
            "62/62 [==============================] - 0s 2ms/step - loss: 0.4236 - accuracy: 0.7980\n",
            "Epoch 672/768\n",
            "62/62 [==============================] - 0s 2ms/step - loss: 0.4236 - accuracy: 0.8013\n",
            "Epoch 673/768\n",
            "62/62 [==============================] - 0s 2ms/step - loss: 0.4228 - accuracy: 0.8046\n",
            "Epoch 674/768\n",
            "62/62 [==============================] - 0s 2ms/step - loss: 0.4240 - accuracy: 0.7980\n",
            "Epoch 675/768\n",
            "62/62 [==============================] - 0s 2ms/step - loss: 0.4191 - accuracy: 0.8127\n",
            "Epoch 676/768\n",
            "62/62 [==============================] - 0s 2ms/step - loss: 0.4176 - accuracy: 0.7850\n",
            "Epoch 677/768\n",
            "62/62 [==============================] - 0s 2ms/step - loss: 0.4192 - accuracy: 0.7997\n",
            "Epoch 678/768\n",
            "62/62 [==============================] - 0s 2ms/step - loss: 0.4571 - accuracy: 0.7883\n",
            "Epoch 679/768\n",
            "62/62 [==============================] - 0s 3ms/step - loss: 0.4203 - accuracy: 0.8062\n",
            "Epoch 680/768\n",
            "62/62 [==============================] - 0s 2ms/step - loss: 0.4399 - accuracy: 0.7964\n",
            "Epoch 681/768\n",
            "62/62 [==============================] - 0s 2ms/step - loss: 0.4241 - accuracy: 0.7980\n",
            "Epoch 682/768\n",
            "62/62 [==============================] - 0s 2ms/step - loss: 0.4249 - accuracy: 0.7997\n",
            "Epoch 683/768\n",
            "62/62 [==============================] - 0s 2ms/step - loss: 0.4260 - accuracy: 0.7883\n",
            "Epoch 684/768\n",
            "62/62 [==============================] - 0s 2ms/step - loss: 0.4313 - accuracy: 0.8046\n",
            "Epoch 685/768\n",
            "62/62 [==============================] - 0s 2ms/step - loss: 0.4269 - accuracy: 0.7980\n",
            "Epoch 686/768\n",
            "62/62 [==============================] - 0s 2ms/step - loss: 0.4258 - accuracy: 0.7964\n",
            "Epoch 687/768\n",
            "62/62 [==============================] - 0s 2ms/step - loss: 0.4232 - accuracy: 0.7948\n",
            "Epoch 688/768\n",
            "62/62 [==============================] - 0s 2ms/step - loss: 0.4220 - accuracy: 0.7997\n",
            "Epoch 689/768\n",
            "62/62 [==============================] - 0s 2ms/step - loss: 0.4383 - accuracy: 0.7932\n",
            "Epoch 690/768\n",
            "62/62 [==============================] - 0s 2ms/step - loss: 0.4231 - accuracy: 0.7948\n",
            "Epoch 691/768\n",
            "62/62 [==============================] - 0s 2ms/step - loss: 0.4332 - accuracy: 0.7899\n",
            "Epoch 692/768\n",
            "62/62 [==============================] - 0s 2ms/step - loss: 0.4318 - accuracy: 0.7915\n",
            "Epoch 693/768\n",
            "62/62 [==============================] - 0s 3ms/step - loss: 0.4305 - accuracy: 0.7980\n",
            "Epoch 694/768\n",
            "62/62 [==============================] - 0s 2ms/step - loss: 0.4311 - accuracy: 0.7948\n",
            "Epoch 695/768\n",
            "62/62 [==============================] - 0s 2ms/step - loss: 0.4185 - accuracy: 0.8013\n",
            "Epoch 696/768\n",
            "62/62 [==============================] - 0s 2ms/step - loss: 0.4284 - accuracy: 0.7850\n",
            "Epoch 697/768\n",
            "62/62 [==============================] - 0s 2ms/step - loss: 0.4370 - accuracy: 0.7915\n",
            "Epoch 698/768\n",
            "62/62 [==============================] - 0s 2ms/step - loss: 0.4275 - accuracy: 0.8046\n",
            "Epoch 699/768\n",
            "62/62 [==============================] - 0s 2ms/step - loss: 0.4188 - accuracy: 0.7964\n",
            "Epoch 700/768\n",
            "62/62 [==============================] - 0s 2ms/step - loss: 0.4252 - accuracy: 0.7997\n",
            "Epoch 701/768\n",
            "62/62 [==============================] - 0s 2ms/step - loss: 0.4318 - accuracy: 0.7997\n",
            "Epoch 702/768\n",
            "62/62 [==============================] - 0s 3ms/step - loss: 0.4289 - accuracy: 0.7964\n",
            "Epoch 703/768\n",
            "62/62 [==============================] - 0s 2ms/step - loss: 0.4391 - accuracy: 0.7948\n",
            "Epoch 704/768\n",
            "62/62 [==============================] - 0s 2ms/step - loss: 0.4296 - accuracy: 0.7769\n",
            "Epoch 705/768\n",
            "62/62 [==============================] - 0s 2ms/step - loss: 0.4337 - accuracy: 0.7899\n",
            "Epoch 706/768\n",
            "62/62 [==============================] - 0s 2ms/step - loss: 0.4515 - accuracy: 0.7801\n",
            "Epoch 707/768\n",
            "62/62 [==============================] - 0s 2ms/step - loss: 0.4261 - accuracy: 0.7964\n",
            "Epoch 708/768\n",
            "62/62 [==============================] - 0s 2ms/step - loss: 0.4227 - accuracy: 0.8029\n",
            "Epoch 709/768\n",
            "62/62 [==============================] - 0s 2ms/step - loss: 0.4226 - accuracy: 0.7932\n",
            "Epoch 710/768\n",
            "62/62 [==============================] - 0s 2ms/step - loss: 0.4201 - accuracy: 0.8013\n",
            "Epoch 711/768\n",
            "62/62 [==============================] - 0s 2ms/step - loss: 0.4249 - accuracy: 0.7932\n",
            "Epoch 712/768\n",
            "62/62 [==============================] - 0s 2ms/step - loss: 0.4316 - accuracy: 0.7883\n",
            "Epoch 713/768\n",
            "62/62 [==============================] - 0s 2ms/step - loss: 0.4201 - accuracy: 0.7980\n",
            "Epoch 714/768\n",
            "62/62 [==============================] - 0s 2ms/step - loss: 0.4191 - accuracy: 0.7932\n",
            "Epoch 715/768\n",
            "62/62 [==============================] - 0s 2ms/step - loss: 0.4226 - accuracy: 0.7932\n",
            "Epoch 716/768\n",
            "62/62 [==============================] - 0s 3ms/step - loss: 0.4157 - accuracy: 0.8013\n",
            "Epoch 717/768\n",
            "62/62 [==============================] - 0s 2ms/step - loss: 0.4216 - accuracy: 0.7997\n",
            "Epoch 718/768\n",
            "62/62 [==============================] - 0s 2ms/step - loss: 0.4455 - accuracy: 0.7801\n",
            "Epoch 719/768\n",
            "62/62 [==============================] - 0s 2ms/step - loss: 0.4117 - accuracy: 0.8143\n",
            "Epoch 720/768\n",
            "62/62 [==============================] - 0s 2ms/step - loss: 0.4206 - accuracy: 0.8062\n",
            "Epoch 721/768\n",
            "62/62 [==============================] - 0s 2ms/step - loss: 0.4166 - accuracy: 0.8029\n",
            "Epoch 722/768\n",
            "62/62 [==============================] - 0s 2ms/step - loss: 0.4155 - accuracy: 0.7964\n",
            "Epoch 723/768\n",
            "62/62 [==============================] - 0s 2ms/step - loss: 0.4296 - accuracy: 0.7899\n",
            "Epoch 724/768\n",
            "62/62 [==============================] - 0s 2ms/step - loss: 0.4148 - accuracy: 0.7964\n",
            "Epoch 725/768\n",
            "62/62 [==============================] - 0s 2ms/step - loss: 0.4178 - accuracy: 0.7932\n",
            "Epoch 726/768\n",
            "62/62 [==============================] - 0s 2ms/step - loss: 0.4271 - accuracy: 0.7997\n",
            "Epoch 727/768\n",
            "62/62 [==============================] - 0s 2ms/step - loss: 0.4284 - accuracy: 0.7964\n",
            "Epoch 728/768\n",
            "62/62 [==============================] - 0s 2ms/step - loss: 0.4235 - accuracy: 0.8078\n",
            "Epoch 729/768\n",
            "62/62 [==============================] - 0s 3ms/step - loss: 0.4176 - accuracy: 0.8046\n",
            "Epoch 730/768\n",
            "62/62 [==============================] - 0s 2ms/step - loss: 0.4265 - accuracy: 0.7964\n",
            "Epoch 731/768\n",
            "62/62 [==============================] - 0s 2ms/step - loss: 0.4161 - accuracy: 0.8111\n",
            "Epoch 732/768\n",
            "62/62 [==============================] - 0s 2ms/step - loss: 0.4105 - accuracy: 0.8127\n",
            "Epoch 733/768\n",
            "62/62 [==============================] - 0s 2ms/step - loss: 0.4244 - accuracy: 0.7948\n",
            "Epoch 734/768\n",
            "62/62 [==============================] - 0s 2ms/step - loss: 0.4196 - accuracy: 0.8062\n",
            "Epoch 735/768\n",
            "62/62 [==============================] - 0s 2ms/step - loss: 0.4230 - accuracy: 0.8078\n",
            "Epoch 736/768\n",
            "62/62 [==============================] - 0s 2ms/step - loss: 0.4316 - accuracy: 0.7850\n",
            "Epoch 737/768\n",
            "62/62 [==============================] - 0s 2ms/step - loss: 0.4275 - accuracy: 0.8062\n",
            "Epoch 738/768\n",
            "62/62 [==============================] - 0s 2ms/step - loss: 0.4198 - accuracy: 0.7964\n",
            "Epoch 739/768\n",
            "62/62 [==============================] - 0s 2ms/step - loss: 0.4250 - accuracy: 0.8062\n",
            "Epoch 740/768\n",
            "62/62 [==============================] - 0s 3ms/step - loss: 0.4266 - accuracy: 0.7948\n",
            "Epoch 741/768\n",
            "62/62 [==============================] - 0s 2ms/step - loss: 0.4310 - accuracy: 0.8078\n",
            "Epoch 742/768\n",
            "62/62 [==============================] - 0s 2ms/step - loss: 0.4097 - accuracy: 0.7948\n",
            "Epoch 743/768\n",
            "62/62 [==============================] - 0s 2ms/step - loss: 0.4283 - accuracy: 0.8013\n",
            "Epoch 744/768\n",
            "62/62 [==============================] - 0s 2ms/step - loss: 0.4186 - accuracy: 0.8062\n",
            "Epoch 745/768\n",
            "62/62 [==============================] - 0s 2ms/step - loss: 0.4142 - accuracy: 0.8062\n",
            "Epoch 746/768\n",
            "62/62 [==============================] - 0s 2ms/step - loss: 0.4286 - accuracy: 0.7964\n",
            "Epoch 747/768\n",
            "62/62 [==============================] - 0s 2ms/step - loss: 0.4166 - accuracy: 0.8029\n",
            "Epoch 748/768\n",
            "62/62 [==============================] - 0s 2ms/step - loss: 0.4228 - accuracy: 0.8046\n",
            "Epoch 749/768\n",
            "62/62 [==============================] - 0s 2ms/step - loss: 0.4220 - accuracy: 0.8046\n",
            "Epoch 750/768\n",
            "62/62 [==============================] - 0s 2ms/step - loss: 0.4414 - accuracy: 0.7883\n",
            "Epoch 751/768\n",
            "62/62 [==============================] - 0s 2ms/step - loss: 0.4113 - accuracy: 0.8127\n",
            "Epoch 752/768\n",
            "62/62 [==============================] - 0s 2ms/step - loss: 0.4293 - accuracy: 0.7948\n",
            "Epoch 753/768\n",
            "62/62 [==============================] - 0s 3ms/step - loss: 0.4177 - accuracy: 0.7997\n",
            "Epoch 754/768\n",
            "62/62 [==============================] - 0s 2ms/step - loss: 0.4273 - accuracy: 0.8029\n",
            "Epoch 755/768\n",
            "62/62 [==============================] - 0s 2ms/step - loss: 0.4226 - accuracy: 0.8078\n",
            "Epoch 756/768\n",
            "62/62 [==============================] - 0s 2ms/step - loss: 0.4283 - accuracy: 0.7785\n",
            "Epoch 757/768\n",
            "62/62 [==============================] - 0s 2ms/step - loss: 0.4214 - accuracy: 0.7932\n",
            "Epoch 758/768\n",
            "62/62 [==============================] - 0s 2ms/step - loss: 0.4178 - accuracy: 0.8143\n",
            "Epoch 759/768\n",
            "62/62 [==============================] - 0s 2ms/step - loss: 0.4208 - accuracy: 0.8078\n",
            "Epoch 760/768\n",
            "62/62 [==============================] - 0s 2ms/step - loss: 0.4187 - accuracy: 0.8160\n",
            "Epoch 761/768\n",
            "62/62 [==============================] - 0s 2ms/step - loss: 0.4301 - accuracy: 0.8029\n",
            "Epoch 762/768\n",
            "62/62 [==============================] - 0s 2ms/step - loss: 0.4155 - accuracy: 0.8029\n",
            "Epoch 763/768\n",
            "62/62 [==============================] - 0s 2ms/step - loss: 0.4304 - accuracy: 0.7948\n",
            "Epoch 764/768\n",
            "62/62 [==============================] - 0s 2ms/step - loss: 0.4205 - accuracy: 0.7932\n",
            "Epoch 765/768\n",
            "62/62 [==============================] - 0s 2ms/step - loss: 0.4333 - accuracy: 0.7932\n",
            "Epoch 766/768\n",
            "62/62 [==============================] - 0s 3ms/step - loss: 0.4285 - accuracy: 0.7948\n",
            "Epoch 767/768\n",
            "62/62 [==============================] - 0s 2ms/step - loss: 0.4157 - accuracy: 0.8062\n",
            "Epoch 768/768\n",
            "62/62 [==============================] - 0s 2ms/step - loss: 0.4209 - accuracy: 0.8013\n"
          ]
        },
        {
          "data": {
            "text/plain": [
              "<keras.src.callbacks.History at 0x2b79b646bd0>"
            ]
          },
          "execution_count": 174,
          "metadata": {},
          "output_type": "execute_result"
        }
      ],
      "source": [
        "#Fit the model to the data\n",
        "model.fit(A_train,B_train,epochs=768,batch_size=10) #,batch_size=10"
      ]
    },
    {
      "cell_type": "code",
      "execution_count": 175,
      "metadata": {
        "colab": {
          "base_uri": "https://localhost:8080/"
        },
        "id": "G1TywoscRPDB",
        "outputId": "9edc8d3c-ebc7-44dd-8b4e-6fa39e18312f"
      },
      "outputs": [
        {
          "name": "stdout",
          "output_type": "stream",
          "text": [
            "5/5 [==============================] - 0s 4ms/step\n"
          ]
        }
      ],
      "source": [
        "B_Pred_nn=model.predict(A_test)"
      ]
    },
    {
      "cell_type": "code",
      "execution_count": 176,
      "metadata": {
        "colab": {
          "base_uri": "https://localhost:8080/"
        },
        "id": "m1w5RphhRPDB",
        "outputId": "2fe95d01-de88-4664-9798-31864392acbc"
      },
      "outputs": [
        {
          "data": {
            "text/plain": [
              "(154, 1)"
            ]
          },
          "execution_count": 176,
          "metadata": {},
          "output_type": "execute_result"
        }
      ],
      "source": [
        "B_Pred_nn.shape"
      ]
    },
    {
      "cell_type": "code",
      "execution_count": 177,
      "metadata": {
        "id": "4Vh3cEQaRPDC"
      },
      "outputs": [],
      "source": [
        "\n",
        "rounded=[round(x[0]) for x in B_Pred_nn]\n",
        "B_Pred_nn=rounded"
      ]
    },
    {
      "cell_type": "code",
      "execution_count": 178,
      "metadata": {
        "colab": {
          "base_uri": "https://localhost:8080/"
        },
        "id": "McB2Q5mHRPDC",
        "outputId": "d00e7f96-8df3-43fb-f607-24e1d3c99a1d"
      },
      "outputs": [
        {
          "name": "stdout",
          "output_type": "stream",
          "text": [
            "The accuracy score achieved using Neural Network is: 76.62 %\n"
          ]
        }
      ],
      "source": [
        "\n",
        "score_nn=round(accuracy_score(B_Pred_nn,B_test)*100,2)\n",
        "print(\"The accuracy score achieved using Neural Network is: \"+str(score_nn)+\" %\")"
      ]
    },
    {
      "cell_type": "code",
      "execution_count": 179,
      "metadata": {
        "colab": {
          "base_uri": "https://localhost:8080/"
        },
        "id": "BJ4QrMYYRPDD",
        "outputId": "1fcb4e37-7dc1-40f8-f1b7-b35e7a302b0a"
      },
      "outputs": [
        {
          "name": "stdout",
          "output_type": "stream",
          "text": [
            "The accuracy score achieved using Logistic Regression is: 82.47 %\n",
            "The accuracy score achieved using Naive Bayes is: 79.22 %\n",
            "The accuracy score achieved using Support Vector Machine is: 81.82 %\n",
            "The accuracy score achieved using K-Nearest Neighbors is: 77.27 %\n",
            "The accuracy score achieved using Random Forest is: 81.17 %\n",
            "The accuracy score achieved using Nural Network is: 76.62 %\n"
          ]
        }
      ],
      "source": [
        "# score_dt\n",
        "# Assuming you have a score for each algorithm\n",
        "scores = [Score_LR, score_nb, score_svm, score_knn,  score_rf, score_nn]\n",
        "algo = [\"Logistic Regression\", \"Naive Bayes\", \"Support Vector Machine\", \"K-Nearest Neighbors\", \"Random Forest\", \"Nural Network\"]\n",
        "\n",
        "# Check if the lengths match\n",
        "if len(algo) == len(scores):\n",
        "    for i in range(len(algo)):\n",
        "        print(\"The accuracy score achieved using \" + algo[i] + \" is: \" + str(scores[i]) + \" %\")\n",
        "else:\n",
        "    print(\"Error: Lengths of algo and scores lists do not match.\")\n"
      ]
    },
    {
      "cell_type": "code",
      "execution_count": 180,
      "metadata": {
        "colab": {
          "base_uri": "https://localhost:8080/",
          "height": 347
        },
        "id": "hDStF4IcRPDD",
        "outputId": "93fd4d2f-e8c2-46d8-bd56-a5914c9e7c65"
      },
      "outputs": [
        {
          "data": {
            "image/png": "[encoded data removed]",
            "text/plain": [
              "<Figure size 1200x600 with 1 Axes>"
            ]
          },
          "metadata": {},
          "output_type": "display_data"
        }
      ],
      "source": [
        "# sns.set(rc={\"figure.figsize\":(12,6)})\n",
        "# plt.xlabel(\"Algorithms\")\n",
        "# plt.ylabel(\"Accuracy score\")\n",
        "\n",
        "# sns.barplot(algo,scores)\n",
        "\n",
        "import seaborn as sns\n",
        "import matplotlib.pyplot as plt\n",
        "\n",
        "# Assuming you have scores for each algorithm\n",
        "scores = [Score_LR, score_nb, score_svm, score_knn, score_rf,   score_nn]\n",
        "algo = [\"Logistic Regression\", \"Naive Bayes\", \"Support Vector Machine\", \"K-Nearest Neighbors\", \"Random Forest\",   \"Nural Network\"]\n",
        "\n",
        "# Set the size of the plot\n",
        "sns.set(rc={\"figure.figsize\":(12,6)})\n",
        "\n",
        "# Create a bar plot\n",
        "sns.barplot(x=algo, y=scores)\n",
        "\n",
        "# Set labels for better readability\n",
        "plt.xlabel(\"Algorithms\")\n",
        "plt.ylabel(\"Accuracy score\")\n",
        "\n",
        "# Show the plot\n",
        "plt.show()\n"
      ]
    },
    {
      "cell_type": "code",
      "execution_count": 181,
      "metadata": {
        "colab": {
          "base_uri": "https://localhost:8080/"
        },
        "id": "X5FQdNLpRPDD",
        "outputId": "2159362a-d9be-4e5b-c45e-c871d81bf701"
      },
      "outputs": [
        {
          "name": "stdout",
          "output_type": "stream",
          "text": [
            "1/1 [==============================] - 0s 82ms/step\n",
            "[[0.35768673]]\n"
          ]
        }
      ],
      "source": [
        "input_data=(8,125,96,0,0,0,0.232,54)\n",
        "#change the input data into numpy array\n",
        "input_data_as_array=np.asarray(input_data)\n",
        "#as we are prediction for only 1 instance\n",
        "reshaped_data=input_data_as_array.reshape(1,-1)\n",
        "#std_data=model.predict(reshaped_data)\n",
        "#print(std_data)\n",
        "prediction=model.predict(reshaped_data)\n",
        "print(prediction)\n"
      ]
    },
    {
      "cell_type": "code",
      "execution_count": 182,
      "metadata": {
        "colab": {
          "base_uri": "https://localhost:8080/"
        },
        "id": "HXHe5-qrU21v",
        "outputId": "0d9cb988-41ef-412c-8a17-349588a55a5a"
      },
      "outputs": [
        {
          "name": "stdout",
          "output_type": "stream",
          "text": [
            "1/1 [==============================] - 0s 62ms/step\n",
            "[[0.09695279]]\n",
            "The patient is not diabetic\n"
          ]
        }
      ],
      "source": [
        "# Input new data\n",
        "new_data = [[1,85,66,29,0,26.6,0.351,31]]\n",
        "\n",
        "# Make prediction\n",
        "prediction = model.predict(new_data)\n",
        "print(prediction)\n",
        "# Convert prediction to binary outcome\n",
        "if prediction > 0.5:\n",
        "    outcome = \"diabetic\"\n",
        "else:\n",
        "    outcome = \"not diabetic\"\n",
        "\n",
        "# Print prediction\n",
        "print(\"The patient is \" + outcome)\n"
      ]
    },
    {
      "cell_type": "code",
      "execution_count": 183,
      "metadata": {
        "id": "iL4LnKzVU3l-"
      },
      "outputs": [
        {
          "name": "stdout",
          "output_type": "stream",
          "text": [
            "1/1 [==============================] - 1s 767ms/step\n",
            "[[0.09695279]]\n",
            "The patient is not diabetic\n"
          ]
        }
      ],
      "source": [
        "# Input new data\n",
        "new_data = [[1,85,66,29,0,26.6,0.351,31]]\n",
        "\n",
        "# Make prediction\n",
        "prediction = model.predict(new_data)\n",
        "print(prediction)\n",
        "# Convert prediction to binary outcome\n",
        "if prediction > 0.5:\n",
        "    outcome = \"diabetic\"\n",
        "else:\n",
        "    outcome = \"not diabetic\"\n",
        "\n",
        "# Print prediction\n",
        "print(\"The patient is \" + outcome)"
      ]
    },
    {
      "cell_type": "code",
      "execution_count": null,
      "metadata": {},
      "outputs": [],
      "source": []
    }
  ],
  "metadata": {
    "colab": {
      "include_colab_link": true,
      "provenance": []
    },
    "kernelspec": {
      "display_name": "Python 3 (ipykernel)",
      "language": "python",
      "name": "python3"
    },
    "language_info": {
      "codemirror_mode": {
        "name": "ipython",
        "version": 3
      },
      "file_extension": ".py",
      "mimetype": "text/x-python",
      "name": "python",
      "nbconvert_exporter": "python",
      "pygments_lexer": "ipython3",
      "version": "3.11.5"
    }
  },
  "nbformat": 4,
  "nbformat_minor": 0
}
